{
  "cells": [
    {
      "cell_type": "code",
      "metadata": {
        "tags": [],
        "cell_id": "00000-3d399415-8a0a-4ad2-9062-8c1ef5fda577",
        "deepnote_to_be_reexecuted": false,
        "source_hash": "a32a130e",
        "execution_millis": 41,
        "execution_start": 1619831096041,
        "deepnote_cell_type": "code"
      },
      "source": "import dateutil.parser\nimport pandas as pd\nfrom dateutil.relativedelta import relativedelta\nfrom ta.volatility import BollingerBands\nfrom ta.trend import sma_indicator\nfrom ta.trend import SMAIndicator\nfrom ta.trend import macd\nfrom ta.utils import dropna\n\nfrom ta.momentum import RSIIndicator\n",
      "execution_count": 1,
      "outputs": []
    },
    {
      "cell_type": "code",
      "metadata": {
        "tags": [],
        "cell_id": "00001-e209e967-d738-433b-86b0-44c4d8320650",
        "deepnote_to_be_reexecuted": false,
        "source_hash": "7b0731a9",
        "execution_millis": 80,
        "execution_start": 1619831096173,
        "deepnote_cell_type": "code"
      },
      "source": "# Read csvs\n#Need to modify standard commodities to fit 247 BTC model\nGLD = pd.read_csv(\"GLD_With_Weekends.csv\")\nSPY = pd.read_csv(\"SPY_With_Weekends.csv\")\nTSLA = pd.read_csv(\"TSLA_With_Weekends.csv\")\nSent = pd.read_csv(\"sentiment_dataset.csv\")\nBTC = pd.read_csv(\"BTC.csv\")\nprint(BTC[\"Closing Price (USD)\"])\nGAD = pd.read_csv(\"GAD.csv\")\nGAM = pd.read_csv(\"GAM.csv\")\ntt = pd.read_csv(\"n-transactions-total.csv\")\nhr = pd.read_csv(\"hash-rate.csv\")\nmc = pd.read_csv(\"market-cap.csv\")\nbs = pd.read_csv(\"blocks-size.csv\")\nvolume = pd.read_csv(\"bitcoinity_data.csv\")\nspread = pd.read_csv(\"bitcoinity_spread_data.csv\")\nspread[\"Time\"] = spread[\"Time\"].apply(lambda x: x[0 : x.index(\" \")])\nspread.fillna(0, inplace=True)\nvolume['Time'] = volume['Time'].str[:10]\nvolume.fillna(0, inplace=True)\nvolume['Total'] = volume['CAD'] + volume['EUR'] + volume['GBP'] + volume['JPY'] + volume['KRW'] + volume['USD']\nprint(\"Volume: \" + str(volume[\"Time\"][0]) + \" \" + str(volume[\"Time\"][len(volume) - 1]))\nprint(\"Gold: \" + str(GLD[\"Date W/ Weekend\"][0]) + \" \" + str(GLD[\"Date W/ Weekend\"][len(GLD) - 1]))\nprint(\"SPY: \" + str(SPY[\"Date W/ Weekends\"][0]) + \" \" + str(SPY[\"Date W/ Weekends\"][len(SPY) - 1]))\nprint(\"TSLA: \" + str(TSLA[\"Date W/ Weekends\"][0]) + \" \" + str(TSLA[\"Date W/ Weekends\"][len(TSLA) - 1]))\nprint(\"Sentiment: \" + str(Sent[\"date\"][0]) + \" \"  + str(Sent[\"date\"][len(Sent) - 1]))\nprint(\"GAD: \" +str(GAD[\"Day\"][0]) + \" \" + str(GAD[\"Day\"][len(GAD) - 1]))\nprint(\"GAM: \" + str(GAM[\"Month\"][0]) + \" \" + str(GAM[\"Month\"][len(GAM) - 1]))\nprint(\"BTC: \" + str(BTC[\"Date\"][0]) + \" \" + str(BTC[\"Date\"][len(BTC) - 1]))",
      "execution_count": 3,
      "outputs": [
        {
          "name": "stdout",
          "text": "0         123.654990\n1         125.455000\n2         108.584830\n3         118.674660\n4         121.338660\n            ...     \n2749    59822.901677\n2750    59853.197242\n2751    63223.884391\n2752    62926.557176\n2753    63346.789035\nName: Closing Price (USD), Length: 2754, dtype: float64\nVolume: 2013-09-18 2021-04-29\nGold: 1/2/2008 4/9/2021\nSPY: 1/2/2008 4/9/2021\nTSLA: 6/30/2010 4/9/2021\nSentiment: 2021-04-15 2013-09-30\nGAD: 4/14/2021 4/16/2013\nGAM: 2013-05 2021-04\nBTC: 2013-10-01 2021-04-15\n",
          "output_type": "stream"
        }
      ]
    },
    {
      "cell_type": "code",
      "source": "# Initialize Bollinger Bands Indicator\nindicator_bb = BollingerBands(close=BTC[\"Closing Price (USD)\"], window=20, window_dev=2, fillna=True)\n# Add Bollinger Bands features\nBTC['bb_bbm'] = indicator_bb.bollinger_mavg()\nBTC['bb_bbh'] = indicator_bb.bollinger_hband()\nBTC['bb_bbl'] = indicator_bb.bollinger_lband()\nBTC['bb_bbw'] = indicator_bb.bollinger_wband()\nBTC['bb_bbp'] = indicator_bb.bollinger_pband()\n\nBTC[\"sma10\"] = SMAIndicator(close=BTC[\"Closing Price (USD)\"], window=10, fillna=True).sma_indicator()\nBTC[\"sma20\"] = SMAIndicator(close=BTC[\"Closing Price (USD)\"], window=20, fillna=True).sma_indicator()\nBTC[\"sma100\"] = SMAIndicator(close=BTC[\"Closing Price (USD)\"], window=100, fillna=True).sma_indicator()\nBTC[\"sma200\"] = SMAIndicator(close=BTC[\"Closing Price (USD)\"], window=200, fillna=True).sma_indicator()\nBTC[\"MACD\"] = macd(close=BTC[\"Closing Price (USD)\"], window_slow=26, window_fast=12, fillna=True)\nBTC[\"RSI\"] = RSIIndicator(close=BTC[\"Closing Price (USD)\"], window=14, fillna=True).rsi()\n\n",
      "metadata": {
        "tags": [],
        "cell_id": "00003-c6961c08-039f-40fa-9f23-9a69ac4a20a9",
        "deepnote_to_be_reexecuted": false,
        "source_hash": "fefdb916",
        "execution_start": 1619831101220,
        "execution_millis": 16,
        "deepnote_cell_type": "code"
      },
      "outputs": [],
      "execution_count": 4
    },
    {
      "cell_type": "code",
      "metadata": {
        "tags": [],
        "cell_id": "00002-c4efef8a-0aef-440d-8ee4-8aeb96555994",
        "deepnote_to_be_reexecuted": false,
        "source_hash": "5dc30949",
        "execution_millis": 23731,
        "output_cleared": false,
        "execution_start": 1619831251279,
        "deepnote_cell_type": "code"
      },
      "source": "# Merge DataFrames\n\nstart_date = dateutil.parser.isoparse(\"2013-10-01\")\nend_date = dateutil.parser.isoparse(\"2021-04-08\")\nGLD_format = \"%-m/%-d/%Y\"\nSentiment_format = \"%Y-%m-%d\"\nGAM_format = \"%Y-%m\"\n\ncolumns =[\"HR \" + x for x in hr.columns.to_list()] + [\"MC \" + x for x in mc.columns.to_list()] + [\"BS \" + x for x in bs.columns.to_list()] + [\"TT \" + x for x in tt.columns.to_list()] + [\"GLD \" + x for x in GLD.columns.to_list()] + [\"SPY \" + x for x in SPY.columns.to_list()] + [\"TSLA \" + x for x in TSLA.columns.to_list()] + [\"GAD \" + x for x in GAD.columns.to_list()] + [\"GAM \" + x for x in GAM.columns.to_list()] + [\"SENT \" + x for x in Sent.columns.to_list()] + [\"BTC \" + x for x in BTC.columns.to_list()] + [\"VOL \" + x for x in volume.columns.to_list()] + [\"SPREAD \" + x for x in spread.columns.to_list()]\n\n\ndata_list = []\nwhile start_date <= end_date:\n    start_date = start_date + relativedelta(days=1)\n    hr_day = hr.loc[hr[\"Date\"] == start_date.strftime(GLD_format)]\n    mc_day = mc.loc[mc[\"Date\"] == start_date.strftime(GLD_format)]\n    bs_day = bs.loc[bs[\"date\"] == start_date.strftime(GLD_format)]\n    tt_day = tt.loc[tt[\"Date\"] == start_date.strftime(GLD_format)]\n    gold_day = GLD.loc[GLD[\"Date W/ Weekend\"] == start_date.strftime(GLD_format)]\n    spy_day = SPY.loc[SPY[\"Date W/ Weekends\"] == start_date.strftime(GLD_format)]\n    tsla_day = TSLA.loc[TSLA[\"Date W/ Weekends\"] == start_date.strftime(GLD_format)]\n    sent_day = Sent.loc[Sent[\"date\"] == start_date.strftime(Sentiment_format)]\n    ga_day = GAD.loc[GAD[\"Day\"] == start_date.strftime(GLD_format)]\n    ga_month = GAM.loc[GAM[\"Month\"] == start_date.strftime(GAM_format)]\n    btc_day = BTC.loc[BTC[\"Date\"] == start_date.strftime(Sentiment_format)]\n    vol_day = volume.loc[volume[\"Time\"] == start_date.strftime(Sentiment_format)]\n    spread_day = spread.loc[spread[\"Time\"] == start_date.strftime(Sentiment_format)]\n    data = sum(hr_day.values.tolist(), []) + sum(mc_day.values.tolist(), [])+ sum(bs_day.values.tolist(), []) + sum(tt_day.values.tolist(), []) +sum(gold_day.values.tolist(), []) + sum(spy_day.values.tolist(),[]) + sum(tsla_day.values.tolist(),[]) + sum(ga_day.values.tolist(),[]) + sum(ga_month.values.tolist(),[]) + sum(sent_day.values.tolist(),[]) + sum(btc_day.values.tolist(),[]) + sum(vol_day.values.tolist(),[]) + sum(spread_day.values.tolist(), [])\n    data_list.append(data)\ndf = pd.DataFrame(columns=columns, data=data_list)\ndel df[\"GAD Unnamed: 2\"]\ndel df[\"GAD in 8 month segments\"]\n\"\"\"\n#inserting new feature Trailing 30-day BTC Price\ndf[\"BTC Trailing 30-Day Avg\"]=df[\"BTC Closing Price (USD)\"]\nfor i in range(30,len(df)):\n    df[\"BTC Trailing 30-Day Avg\"][i]=df[\"BTC Closing Price (USD)\"][i-30:i].mean()\n\"\"\"\ndef get_data():\n    rdf = df.copy(deep=True)\n    return rdf  \nprint(df) \n",
      "execution_count": 13,
      "outputs": [
        {
          "name": "stdout",
          "text": "        HR Date  HR hash-rate    MC Date  MC market-cap    BS date  \\\n0     10/2/2013  1.213246e+03  10/2/2013   1.486635e+09  10/2/2013   \n1     10/3/2013  1.538751e+03  10/3/2013   1.224109e+09  10/3/2013   \n2     10/4/2013  1.538751e+03  10/4/2013   1.224109e+09  10/4/2013   \n3     10/5/2013  1.538751e+03  10/5/2013   1.438749e+09  10/5/2013   \n4     10/6/2013  1.900663e+03  10/6/2013   1.438749e+09  10/6/2013   \n...         ...           ...        ...            ...        ...   \n2742   4/5/2021  1.506721e+08   4/5/2021   1.080000e+12   4/5/2021   \n2743   4/6/2021  1.656242e+08   4/6/2021   1.080000e+12   4/6/2021   \n2744   4/7/2021  1.656242e+08   4/7/2021   1.050000e+12   4/7/2021   \n2745   4/8/2021  1.656242e+08   4/8/2021   1.050000e+12   4/8/2021   \n2746   4/9/2021  1.748256e+08   4/9/2021   1.050000e+12   4/9/2021   \n\n      BS block-size    TT Date  TT n-transactions-total GLD Date W/ Weekend  \\\n0       11295.90301  10/2/2013                 24732277           10/2/2013   \n1       11295.90301  10/3/2013                 24732277           10/3/2013   \n2       11295.90301  10/4/2013                 24732277           10/4/2013   \n3       11379.08463  10/5/2013                 24905523           10/5/2013   \n4       11379.08463  10/6/2013                 24905523           10/6/2013   \n...             ...        ...                      ...                 ...   \n2742   337415.78310   4/5/2021                631110144            4/5/2021   \n2743   337415.78310   4/6/2021                631110144            4/6/2021   \n2744   337415.78310   4/7/2021                631110144            4/7/2021   \n2745   338033.73910   4/8/2021                632029917            4/8/2021   \n2746   338033.73910   4/9/2021                632029917            4/9/2021   \n\n        GLD Open  ...    VOL Time     VOL CAD      VOL EUR     VOL GBP  \\\n0     125.370003  ...  2013-10-02    0.000000     9.111110    0.000000   \n1     126.769997  ...  2013-10-03    0.000000    59.862300    0.000000   \n2     127.050003  ...  2013-10-04    0.000000     2.169000    0.000000   \n3     127.050003  ...  2013-10-05    0.000000     0.540000    0.000000   \n4     127.050003  ...  2013-10-06    0.000000     3.482500    0.000000   \n...          ...  ...         ...         ...          ...         ...   \n2742  161.520004  ...  2021-04-05   59.741064  2229.250391  133.371945   \n2743  162.789993  ...  2021-04-06   66.358952  2998.182102  130.512076   \n2744  162.820007  ...  2021-04-07   58.899062  4141.536803  284.092347   \n2745  164.169998  ...  2021-04-08   74.401695  2514.767564  180.574186   \n2746  162.750000  ...  2021-04-09  123.188561  2079.958465   96.640232   \n\n       VOL JPY VOL KRW      VOL USD    VOL Total  SPREAD Time  SPREAD Spread  \n0     0.000000     0.0     0.000000     9.111110   2013-10-02       0.278489  \n1     0.000000     0.0     0.000000    59.862300   2013-10-03       0.417024  \n2     0.000000     0.0     0.000000     2.169000   2013-10-04       0.154029  \n3     0.000000     0.0     0.000000     0.540000   2013-10-05       0.131805  \n4     0.000000     0.0     0.000000     3.482500   2013-10-06       0.144004  \n...        ...     ...          ...          ...          ...            ...  \n2742  2.840767     0.0  3422.703824  5847.907991   2021-04-05       0.033426  \n2743  5.074091     0.0  2656.521275  5856.648495   2021-04-06       0.033239  \n2744  3.096795     0.0  5047.943509  9535.568516   2021-04-07       0.038333  \n2745  5.953280     0.0  2513.629469  5289.326193   2021-04-08       0.029015  \n2746  0.222579     0.0  3098.679646  5398.689484   2021-04-09       0.031823  \n\n[2747 rows x 65 columns]\n",
          "output_type": "stream"
        }
      ]
    },
    {
      "cell_type": "code",
      "metadata": {
        "tags": [],
        "cell_id": "00003-cc42493b-88e5-43f8-859b-9764010bd521",
        "deepnote_to_be_reexecuted": false,
        "source_hash": "c13f5b7f",
        "execution_millis": 204,
        "execution_start": 1619832662290,
        "deepnote_cell_type": "code"
      },
      "source": "# Prepare df for training\nimport numpy as np\nfrom sklearn.model_selection import train_test_split\nfrom sklearn.feature_selection import SelectKBest, chi2\nfrom sklearn.feature_selection import VarianceThreshold\n# delete unnecesary date columns\ndate_columns = [\"SPREAD Time\", \"VOL Time\", \"BTC Date\",\"HR Date\", \"MC Date\", \"BS date\", \"TT Date\", \"GLD Date W/ Weekend\", \"SPY Date W/ Weekends\", \"TSLA Date W/ Weekends\", \"GAD Day\", \"GAM Month\", \"SENT date\"]\ndata_proc = get_data()\ndata_proc = data_proc.drop(date_columns, axis = 1)\ndata_proc[\"SPREAD Spread\"].fillna(0, inplace=True)\n\n\ndata_proc = data_proc.drop([\"GAM  Bitcoin\"], axis =1)\ndata_proc = data_proc.drop([\"BTC Currency\"], axis=1)\nunnecessary_columns = [\"BTC 24h Open (USD)\", \"GLD Open\", \"GLD High\", \"GLD Low\", \"GLD Adj Close\", \"SPY Open\", \"SPY High\", \"SPY Low\", \"SPY Adj Close\", \"TSLA Open\", \"TSLA High\", \"TSLA Low\", \"TSLA Adj Close\", \"VOL KRW\"]\ndata_proc = data_proc.drop(unnecessary_columns, axis = 1)\n\n# Getting X and Y Values (I let the Y Value be the next day's 24H Close)\n\n\n# Add pct change values\ndata_proc[\"GLD Change\"] = data_proc[\"GLD Close\"].pct_change()\ndata_proc[\"TSLA Change\"] = data_proc[\"TSLA Close\"].pct_change()\ndata_proc[\"SPY Change\"] = data_proc[\"SPY Close\"].pct_change()\n# data_proc[\"VOL Total Change\"] = data_proc[\"VOL Total\"].pct_change()\n# Add gap features\ndata_proc[\"BTC diff\"] = data_proc[\"BTC 24h High (USD)\"] - data_proc[\"BTC 24h Low (USD)\"]\nfor x in range(3):\n    data_proc[\"BTC Change \" + str(x + 1) + \" Day\"] = data_proc[\"BTC Closing Price (USD)\"].pct_change(periods = x + 1)\nfor x in range(3):\n    data_proc[\"VOL Total Change \" + str(x + 1) +  \" Day\"] = data_proc[\"VOL Total\"].pct_change(periods = x + 1)\n\ndata_proc = data_proc.drop(data_proc.head(3).index)\nY = data_proc[\"BTC Closing Price (USD)\"]\n# Make Y the classification target\nY = Y.pct_change()\nY = Y.apply(lambda x: 0 if x <= 0 else 1)\nY = Y.drop(Y.head(1).index) # drop first 2018-01-01\ndata_proc = data_proc.drop(data_proc.tail(1).index) # drop last row 2021-04-09\n\n\n\n# Now the Ys are each one day ahead of the Xs at the same index\ndata_proc[\"Y\"] = Y.values\n\n# convert large range Xs to log of themselves\ndata_proc[\"HR hash-rate\"] = np.log(data_proc[\"HR hash-rate\"])\ndata_proc[\"MC market-cap\"] = np.log(data_proc[\"MC market-cap\"])\ndata_proc[\"BS block-size\"] = np.log(data_proc[\"BS block-size\"])\ndata_proc[\"TT n-transactions-total\"] = np.log(data_proc[\"TT n-transactions-total\"])\ndata_proc[\"GLD Volume\"] = np.log(data_proc[\"GLD Volume\"])\ndata_proc[\"SPY Volume\"] = np.log(data_proc[\"SPY Volume\"])\ndata_proc[\"TSLA Volume\"] = np.log(data_proc[\"TSLA Volume\"])\ndata_proc[\"BTC Closing Price (USD)\"] = np.log(data_proc[\"BTC Closing Price (USD)\"])\ndata_proc[\"BTC 24h High (USD)\"] = np.log(data_proc[\"BTC 24h High (USD)\"])\ndata_proc[\"BTC 24h Low (USD)\"] = np.log(data_proc[\"BTC 24h Low (USD)\"])\n\ndata_proc[\"BTC bb_bbm\"] = np.log(data_proc[\"BTC bb_bbm\"])\ndata_proc[\"BTC bb_bbh\"] = np.log(data_proc[\"BTC bb_bbh\"])\ndata_proc[\"BTC bb_bbl\"] = np.log(data_proc[\"BTC bb_bbl\"])\n# data_proc[\"BTC bb_bbq\"] = np.log(data_proc[\"BTC bb_bbq\"])\n\ndata_proc[\"BTC sma20\"] = np.log(data_proc[\"BTC sma20\"])\ndata_proc[\"BTC sma100\"] = np.log(data_proc[\"BTC sma100\"])\ndata_proc[\"BTC sma200\"] = np.log(data_proc[\"BTC sma200\"])\n\n\"\"\"\ndata_proc[\"VOL CAD\"] = np.log(data_proc[\"VOL CAD\"])\ndata_proc[\"VOL EUR\"] = np.log(data_proc[\"VOL EUR\"])\ndata_proc[\"VOL GBP\"] = np.log(data_proc[\"VOL GBP\"])\ndata_proc[\"VOL JPY\"] = np.log(data_proc[\"VOL JPY\"])\ndata_proc[\"VOL USD\"] = np.log(data_proc[\"VOL USD\"])\ndata_proc[\"VOL Total\"] = np.log(data_proc[\"VOL Total\"])\n\n\"\"\"\n\n\n'''\nfor col in data_proc.columns.values:\n    for x in range(3):\n        data_proc[col + \" \" + str(x + 1)] = data_proc[col].shift(periods=x + 1)\n\n# drop first 6 rows\ndata_proc = data_proc.drop(data_proc.head(7).index) # drop first week of rows\n'''\n'''\nfor col in data_proc.columns.values:\n    data_proc[col + \" delta\"] = data_proc[col].pct_change()\n'''\nX = data_proc.drop(\"Y\", axis = 1)\nY = data_proc[\"Y\"]\n\ndata_proc = data_proc.sample(frac = 1, random_state = 42)\nX_train, X_test, y_train, y_test = train_test_split(X, Y, test_size=0.2, random_state=42)\n\nsel = VarianceThreshold(threshold=(.8 * (1 - .8)))\nsel.fit(X_train)\nX_train = X_train.loc[: ,sel.get_support()]\nX_test = X_test.loc[: , sel.get_support()]\n\nbest = SelectKBest( k=16).fit(X_train, y_train)\n\nX_train = X_train.loc[: ,best.get_support()]\nX_test = X_test.loc[: , best.get_support()]\n\n# Make data available\ndef get_all_data():\n    return data_proc.copy()\ndef get_training_data():\n    return X_train.copy(), y_train.copy()\n\n# Only for final validation, do not contaminate\ndef get_test_data():\n    return X_test.copy(), y_test.copy()\n\nget_training_data()[0]\n",
      "execution_count": 43,
      "outputs": [
        {
          "output_type": "execute_result",
          "execution_count": 43,
          "data": {
            "application/vnd.deepnote.dataframe.v2+json": {
              "row_count": 2194,
              "column_count": 16,
              "columns": [
                {
                  "name": "BS block-size",
                  "dtype": "float64",
                  "stats": {
                    "unique_count": 907,
                    "nan_count": 0,
                    "min": "9.339532267714008",
                    "max": "12.730900989305974",
                    "histogram": [
                      {
                        "bin_start": 9.339532267714008,
                        "bin_end": 9.678669139873204,
                        "count": 121
                      },
                      {
                        "bin_start": 9.678669139873204,
                        "bin_end": 10.0178060120324,
                        "count": 133
                      },
                      {
                        "bin_start": 10.0178060120324,
                        "bin_end": 10.356942884191596,
                        "count": 142
                      },
                      {
                        "bin_start": 10.356942884191596,
                        "bin_end": 10.696079756350795,
                        "count": 157
                      },
                      {
                        "bin_start": 10.696079756350795,
                        "bin_end": 11.03521662850999,
                        "count": 150
                      },
                      {
                        "bin_start": 11.03521662850999,
                        "bin_end": 11.374353500669187,
                        "count": 175
                      },
                      {
                        "bin_start": 11.374353500669187,
                        "bin_end": 11.713490372828383,
                        "count": 203
                      },
                      {
                        "bin_start": 11.713490372828383,
                        "bin_end": 12.05262724498758,
                        "count": 282
                      },
                      {
                        "bin_start": 12.05262724498758,
                        "bin_end": 12.391764117146778,
                        "count": 371
                      },
                      {
                        "bin_start": 12.391764117146778,
                        "bin_end": 12.730900989305974,
                        "count": 460
                      }
                    ]
                  }
                },
                {
                  "name": "TT n-transactions-total",
                  "dtype": "float64",
                  "stats": {
                    "unique_count": 907,
                    "nan_count": 0,
                    "min": "17.030600144068266",
                    "max": "20.264447288016086",
                    "histogram": [
                      {
                        "bin_start": 17.030600144068266,
                        "bin_end": 17.353984858463047,
                        "count": 129
                      },
                      {
                        "bin_start": 17.353984858463047,
                        "bin_end": 17.67736957285783,
                        "count": 156
                      },
                      {
                        "bin_start": 17.67736957285783,
                        "bin_end": 18.00075428725261,
                        "count": 152
                      },
                      {
                        "bin_start": 18.00075428725261,
                        "bin_end": 18.324139001647396,
                        "count": 168
                      },
                      {
                        "bin_start": 18.324139001647396,
                        "bin_end": 18.647523716042176,
                        "count": 140
                      },
                      {
                        "bin_start": 18.647523716042176,
                        "bin_end": 18.970908430436957,
                        "count": 166
                      },
                      {
                        "bin_start": 18.970908430436957,
                        "bin_end": 19.29429314483174,
                        "count": 188
                      },
                      {
                        "bin_start": 19.29429314483174,
                        "bin_end": 19.61767785922652,
                        "count": 300
                      },
                      {
                        "bin_start": 19.61767785922652,
                        "bin_end": 19.941062573621306,
                        "count": 335
                      },
                      {
                        "bin_start": 19.941062573621306,
                        "bin_end": 20.264447288016086,
                        "count": 460
                      }
                    ]
                  }
                },
                {
                  "name": "GLD Volume",
                  "dtype": "float64",
                  "stats": {
                    "unique_count": 1572,
                    "nan_count": 0,
                    "min": "14.222041764254437",
                    "max": "17.630030982031183",
                    "histogram": [
                      {
                        "bin_start": 14.222041764254437,
                        "bin_end": 14.56284068603211,
                        "count": 12
                      },
                      {
                        "bin_start": 14.56284068603211,
                        "bin_end": 14.903639607809787,
                        "count": 31
                      },
                      {
                        "bin_start": 14.903639607809787,
                        "bin_end": 15.24443852958746,
                        "count": 175
                      },
                      {
                        "bin_start": 15.24443852958746,
                        "bin_end": 15.585237451365135,
                        "count": 380
                      },
                      {
                        "bin_start": 15.585237451365135,
                        "bin_end": 15.92603637314281,
                        "count": 646
                      },
                      {
                        "bin_start": 15.92603637314281,
                        "bin_end": 16.266835294920483,
                        "count": 520
                      },
                      {
                        "bin_start": 16.266835294920483,
                        "bin_end": 16.60763421669816,
                        "count": 306
                      },
                      {
                        "bin_start": 16.60763421669816,
                        "bin_end": 16.948433138475835,
                        "count": 86
                      },
                      {
                        "bin_start": 16.948433138475835,
                        "bin_end": 17.289232060253507,
                        "count": 29
                      },
                      {
                        "bin_start": 17.289232060253507,
                        "bin_end": 17.630030982031183,
                        "count": 9
                      }
                    ]
                  }
                },
                {
                  "name": "SPY Volume",
                  "dtype": "float64",
                  "stats": {
                    "unique_count": 1581,
                    "nan_count": 0,
                    "min": "16.824652518428184",
                    "max": "20.04450329954447",
                    "histogram": [
                      {
                        "bin_start": 16.824652518428184,
                        "bin_end": 17.14663759653981,
                        "count": 7
                      },
                      {
                        "bin_start": 17.14663759653981,
                        "bin_end": 17.468622674651442,
                        "count": 30
                      },
                      {
                        "bin_start": 17.468622674651442,
                        "bin_end": 17.79060775276307,
                        "count": 221
                      },
                      {
                        "bin_start": 17.79060775276307,
                        "bin_end": 18.1125928308747,
                        "count": 517
                      },
                      {
                        "bin_start": 18.1125928308747,
                        "bin_end": 18.434577908986327,
                        "count": 623
                      },
                      {
                        "bin_start": 18.434577908986327,
                        "bin_end": 18.756562987097954,
                        "count": 451
                      },
                      {
                        "bin_start": 18.756562987097954,
                        "bin_end": 19.078548065209585,
                        "count": 222
                      },
                      {
                        "bin_start": 19.078548065209585,
                        "bin_end": 19.400533143321212,
                        "count": 90
                      },
                      {
                        "bin_start": 19.400533143321212,
                        "bin_end": 19.722518221432843,
                        "count": 28
                      },
                      {
                        "bin_start": 19.722518221432843,
                        "bin_end": 20.04450329954447,
                        "count": 5
                      }
                    ]
                  }
                },
                {
                  "name": "TSLA Close",
                  "dtype": "float64",
                  "stats": {
                    "unique_count": 1542,
                    "nan_count": 0,
                    "min": "24.1",
                    "max": "883.090027",
                    "histogram": [
                      {
                        "bin_start": 24.1,
                        "bin_end": 109.9990027,
                        "count": 1855
                      },
                      {
                        "bin_start": 109.9990027,
                        "bin_end": 195.8980054,
                        "count": 98
                      },
                      {
                        "bin_start": 195.8980054,
                        "bin_end": 281.7970081,
                        "count": 21
                      },
                      {
                        "bin_start": 281.7970081,
                        "bin_end": 367.6960108,
                        "count": 32
                      },
                      {
                        "bin_start": 367.6960108,
                        "bin_end": 453.5950135,
                        "count": 67
                      },
                      {
                        "bin_start": 453.5950135,
                        "bin_end": 539.4940162,
                        "count": 9
                      },
                      {
                        "bin_start": 539.4940162,
                        "bin_end": 625.3930189,
                        "count": 22
                      },
                      {
                        "bin_start": 625.3930189,
                        "bin_end": 711.2920216,
                        "count": 49
                      },
                      {
                        "bin_start": 711.2920216,
                        "bin_end": 797.1910243,
                        "count": 13
                      },
                      {
                        "bin_start": 797.1910243,
                        "bin_end": 883.090027,
                        "count": 28
                      }
                    ]
                  }
                },
                {
                  "name": "BTC bb_bbw",
                  "dtype": "float64",
                  "stats": {
                    "unique_count": 2194,
                    "nan_count": 0,
                    "min": "2.798644525711752",
                    "max": "154.81476996921666",
                    "histogram": [
                      {
                        "bin_start": 2.798644525711752,
                        "bin_end": 18.000257070062244,
                        "count": 878
                      },
                      {
                        "bin_start": 18.000257070062244,
                        "bin_end": 33.201869614412736,
                        "count": 741
                      },
                      {
                        "bin_start": 33.201869614412736,
                        "bin_end": 48.403482158763225,
                        "count": 345
                      },
                      {
                        "bin_start": 48.403482158763225,
                        "bin_end": 63.605094703113714,
                        "count": 143
                      },
                      {
                        "bin_start": 63.605094703113714,
                        "bin_end": 78.8067072474642,
                        "count": 47
                      },
                      {
                        "bin_start": 78.8067072474642,
                        "bin_end": 94.0083197918147,
                        "count": 19
                      },
                      {
                        "bin_start": 94.0083197918147,
                        "bin_end": 109.20993233616518,
                        "count": 5
                      },
                      {
                        "bin_start": 109.20993233616518,
                        "bin_end": 124.41154488051568,
                        "count": 4
                      },
                      {
                        "bin_start": 124.41154488051568,
                        "bin_end": 139.61315742486616,
                        "count": 2
                      },
                      {
                        "bin_start": 139.61315742486616,
                        "bin_end": 154.81476996921666,
                        "count": 10
                      }
                    ]
                  }
                },
                {
                  "name": "BTC sma200",
                  "dtype": "float64",
                  "stats": {
                    "unique_count": 2194,
                    "nan_count": 0,
                    "min": "4.783664662175716",
                    "max": "10.340916333067163",
                    "histogram": [
                      {
                        "bin_start": 4.783664662175716,
                        "bin_end": 5.339389829264861,
                        "count": 40
                      },
                      {
                        "bin_start": 5.339389829264861,
                        "bin_end": 5.895114996354005,
                        "count": 340
                      },
                      {
                        "bin_start": 5.895114996354005,
                        "bin_end": 6.45084016344315,
                        "count": 516
                      },
                      {
                        "bin_start": 6.45084016344315,
                        "bin_end": 7.006565330532295,
                        "count": 166
                      },
                      {
                        "bin_start": 7.006565330532295,
                        "bin_end": 7.56229049762144,
                        "count": 62
                      },
                      {
                        "bin_start": 7.56229049762144,
                        "bin_end": 8.118015664710585,
                        "count": 67
                      },
                      {
                        "bin_start": 8.118015664710585,
                        "bin_end": 8.67374083179973,
                        "count": 187
                      },
                      {
                        "bin_start": 8.67374083179973,
                        "bin_end": 9.229465998888873,
                        "count": 660
                      },
                      {
                        "bin_start": 9.229465998888873,
                        "bin_end": 9.78519116597802,
                        "count": 101
                      },
                      {
                        "bin_start": 9.78519116597802,
                        "bin_end": 10.340916333067163,
                        "count": 55
                      }
                    ]
                  }
                },
                {
                  "name": "BTC RSI",
                  "dtype": "float64",
                  "stats": {
                    "unique_count": 2194,
                    "nan_count": 0,
                    "min": "10.9537498512112",
                    "max": "92.66084523140792",
                    "histogram": [
                      {
                        "bin_start": 10.9537498512112,
                        "bin_end": 19.12445938923087,
                        "count": 14
                      },
                      {
                        "bin_start": 19.12445938923087,
                        "bin_end": 27.295168927250543,
                        "count": 43
                      },
                      {
                        "bin_start": 27.295168927250543,
                        "bin_end": 35.465878465270215,
                        "count": 120
                      },
                      {
                        "bin_start": 35.465878465270215,
                        "bin_end": 43.63658800328989,
                        "count": 343
                      },
                      {
                        "bin_start": 43.63658800328989,
                        "bin_end": 51.80729754130956,
                        "count": 503
                      },
                      {
                        "bin_start": 51.80729754130956,
                        "bin_end": 59.97800707932923,
                        "count": 474
                      },
                      {
                        "bin_start": 59.97800707932923,
                        "bin_end": 68.1487166173489,
                        "count": 313
                      },
                      {
                        "bin_start": 68.1487166173489,
                        "bin_end": 76.31942615536857,
                        "count": 217
                      },
                      {
                        "bin_start": 76.31942615536857,
                        "bin_end": 84.49013569338825,
                        "count": 124
                      },
                      {
                        "bin_start": 84.49013569338825,
                        "bin_end": 92.66084523140792,
                        "count": 43
                      }
                    ]
                  }
                },
                {
                  "name": "VOL CAD",
                  "dtype": "float64",
                  "stats": {
                    "unique_count": 1648,
                    "nan_count": 0,
                    "min": "0.0",
                    "max": "1555.92242004",
                    "histogram": [
                      {
                        "bin_start": 0,
                        "bin_end": 155.59224200399998,
                        "count": 2011
                      },
                      {
                        "bin_start": 155.59224200399998,
                        "bin_end": 311.18448400799997,
                        "count": 155
                      },
                      {
                        "bin_start": 311.18448400799997,
                        "bin_end": 466.7767260119999,
                        "count": 23
                      },
                      {
                        "bin_start": 466.7767260119999,
                        "bin_end": 622.3689680159999,
                        "count": 3
                      },
                      {
                        "bin_start": 622.3689680159999,
                        "bin_end": 777.96121002,
                        "count": 0
                      },
                      {
                        "bin_start": 777.96121002,
                        "bin_end": 933.5534520239999,
                        "count": 0
                      },
                      {
                        "bin_start": 933.5534520239999,
                        "bin_end": 1089.145694028,
                        "count": 0
                      },
                      {
                        "bin_start": 1089.145694028,
                        "bin_end": 1244.7379360319999,
                        "count": 1
                      },
                      {
                        "bin_start": 1244.7379360319999,
                        "bin_end": 1400.3301780359998,
                        "count": 0
                      },
                      {
                        "bin_start": 1400.3301780359998,
                        "bin_end": 1555.92242004,
                        "count": 1
                      }
                    ]
                  }
                },
                {
                  "name": "VOL EUR",
                  "dtype": "float64",
                  "stats": {
                    "unique_count": 2194,
                    "nan_count": 0,
                    "min": "0.0",
                    "max": "51627.2153848098",
                    "histogram": [
                      {
                        "bin_start": 0,
                        "bin_end": 5162.721538480981,
                        "count": 1284
                      },
                      {
                        "bin_start": 5162.721538480981,
                        "bin_end": 10325.443076961961,
                        "count": 628
                      },
                      {
                        "bin_start": 10325.443076961961,
                        "bin_end": 15488.164615442942,
                        "count": 175
                      },
                      {
                        "bin_start": 15488.164615442942,
                        "bin_end": 20650.886153923922,
                        "count": 55
                      },
                      {
                        "bin_start": 20650.886153923922,
                        "bin_end": 25813.607692404905,
                        "count": 33
                      },
                      {
                        "bin_start": 25813.607692404905,
                        "bin_end": 30976.329230885884,
                        "count": 7
                      },
                      {
                        "bin_start": 30976.329230885884,
                        "bin_end": 36139.05076936686,
                        "count": 4
                      },
                      {
                        "bin_start": 36139.05076936686,
                        "bin_end": 41301.772307847845,
                        "count": 7
                      },
                      {
                        "bin_start": 41301.772307847845,
                        "bin_end": 46464.49384632883,
                        "count": 0
                      },
                      {
                        "bin_start": 46464.49384632883,
                        "bin_end": 51627.2153848098,
                        "count": 1
                      }
                    ]
                  }
                },
                {
                  "name": "VOL GBP",
                  "dtype": "float64",
                  "stats": {
                    "unique_count": 1797,
                    "nan_count": 0,
                    "min": "0.0",
                    "max": "1588.47546265",
                    "histogram": [
                      {
                        "bin_start": 0,
                        "bin_end": 158.847546265,
                        "count": 2014
                      },
                      {
                        "bin_start": 158.847546265,
                        "bin_end": 317.69509253,
                        "count": 150
                      },
                      {
                        "bin_start": 317.69509253,
                        "bin_end": 476.542638795,
                        "count": 24
                      },
                      {
                        "bin_start": 476.542638795,
                        "bin_end": 635.39018506,
                        "count": 3
                      },
                      {
                        "bin_start": 635.39018506,
                        "bin_end": 794.237731325,
                        "count": 2
                      },
                      {
                        "bin_start": 794.237731325,
                        "bin_end": 953.08527759,
                        "count": 0
                      },
                      {
                        "bin_start": 953.08527759,
                        "bin_end": 1111.9328238550002,
                        "count": 0
                      },
                      {
                        "bin_start": 1111.9328238550002,
                        "bin_end": 1270.78037012,
                        "count": 0
                      },
                      {
                        "bin_start": 1270.78037012,
                        "bin_end": 1429.627916385,
                        "count": 0
                      },
                      {
                        "bin_start": 1429.627916385,
                        "bin_end": 1588.47546265,
                        "count": 1
                      }
                    ]
                  }
                },
                {
                  "name": "VOL JPY",
                  "dtype": "float64",
                  "stats": {
                    "unique_count": 1823,
                    "nan_count": 0,
                    "min": "0.0",
                    "max": "1760.94953203",
                    "histogram": [
                      {
                        "bin_start": 0,
                        "bin_end": 176.094953203,
                        "count": 2049
                      },
                      {
                        "bin_start": 176.094953203,
                        "bin_end": 352.189906406,
                        "count": 71
                      },
                      {
                        "bin_start": 352.189906406,
                        "bin_end": 528.284859609,
                        "count": 26
                      },
                      {
                        "bin_start": 528.284859609,
                        "bin_end": 704.379812812,
                        "count": 14
                      },
                      {
                        "bin_start": 704.379812812,
                        "bin_end": 880.4747660149999,
                        "count": 12
                      },
                      {
                        "bin_start": 880.4747660149999,
                        "bin_end": 1056.569719218,
                        "count": 7
                      },
                      {
                        "bin_start": 1056.569719218,
                        "bin_end": 1232.664672421,
                        "count": 8
                      },
                      {
                        "bin_start": 1232.664672421,
                        "bin_end": 1408.759625624,
                        "count": 5
                      },
                      {
                        "bin_start": 1408.759625624,
                        "bin_end": 1584.8545788269998,
                        "count": 1
                      },
                      {
                        "bin_start": 1584.8545788269998,
                        "bin_end": 1760.94953203,
                        "count": 1
                      }
                    ]
                  }
                },
                {
                  "name": "VOL Total",
                  "dtype": "float64",
                  "stats": {
                    "unique_count": 2194,
                    "nan_count": 0,
                    "min": "0.009",
                    "max": "82168.1234762199",
                    "histogram": [
                      {
                        "bin_start": 0.009,
                        "bin_end": 8216.820447621989,
                        "count": 1207
                      },
                      {
                        "bin_start": 8216.820447621989,
                        "bin_end": 16433.631895243976,
                        "count": 657
                      },
                      {
                        "bin_start": 16433.631895243976,
                        "bin_end": 24650.443342865965,
                        "count": 188
                      },
                      {
                        "bin_start": 24650.443342865965,
                        "bin_end": 32867.254790487954,
                        "count": 81
                      },
                      {
                        "bin_start": 32867.254790487954,
                        "bin_end": 41084.06623810995,
                        "count": 41
                      },
                      {
                        "bin_start": 41084.06623810995,
                        "bin_end": 49300.87768573193,
                        "count": 10
                      },
                      {
                        "bin_start": 49300.87768573193,
                        "bin_end": 57517.68913335392,
                        "count": 8
                      },
                      {
                        "bin_start": 57517.68913335392,
                        "bin_end": 65734.50058097592,
                        "count": 0
                      },
                      {
                        "bin_start": 65734.50058097592,
                        "bin_end": 73951.31202859791,
                        "count": 0
                      },
                      {
                        "bin_start": 73951.31202859791,
                        "bin_end": 82168.1234762199,
                        "count": 2
                      }
                    ]
                  }
                },
                {
                  "name": "VOL Total Change 1 Day",
                  "dtype": "float64",
                  "stats": {
                    "unique_count": 2194,
                    "nan_count": 0,
                    "min": "-0.9999976407359548",
                    "max": "401784.184068889",
                    "histogram": [
                      {
                        "bin_start": -0.9999976407359548,
                        "bin_end": 40177.51840901224,
                        "count": 2193
                      },
                      {
                        "bin_start": 40177.51840901224,
                        "bin_end": 80356.03681566521,
                        "count": 0
                      },
                      {
                        "bin_start": 80356.03681566521,
                        "bin_end": 120534.55522231819,
                        "count": 0
                      },
                      {
                        "bin_start": 120534.55522231819,
                        "bin_end": 160713.07362897118,
                        "count": 0
                      },
                      {
                        "bin_start": 160713.07362897118,
                        "bin_end": 200891.59203562414,
                        "count": 0
                      },
                      {
                        "bin_start": 200891.59203562414,
                        "bin_end": 241070.11044227713,
                        "count": 0
                      },
                      {
                        "bin_start": 241070.11044227713,
                        "bin_end": 281248.6288489301,
                        "count": 0
                      },
                      {
                        "bin_start": 281248.6288489301,
                        "bin_end": 321427.1472555831,
                        "count": 0
                      },
                      {
                        "bin_start": 321427.1472555831,
                        "bin_end": 361605.66566223605,
                        "count": 0
                      },
                      {
                        "bin_start": 361605.66566223605,
                        "bin_end": 401784.184068889,
                        "count": 1
                      }
                    ]
                  }
                },
                {
                  "name": "VOL Total Change 2 Day",
                  "dtype": "float64",
                  "stats": {
                    "unique_count": 2194,
                    "nan_count": 0,
                    "min": "-0.9999992284730023",
                    "max": "797.120577",
                    "histogram": [
                      {
                        "bin_start": -0.9999992284730023,
                        "bin_end": 78.8120583943743,
                        "count": 2193
                      },
                      {
                        "bin_start": 78.8120583943743,
                        "bin_end": 158.6241160172216,
                        "count": 0
                      },
                      {
                        "bin_start": 158.6241160172216,
                        "bin_end": 238.43617364006892,
                        "count": 0
                      },
                      {
                        "bin_start": 238.43617364006892,
                        "bin_end": 318.2482312629162,
                        "count": 0
                      },
                      {
                        "bin_start": 318.2482312629162,
                        "bin_end": 398.0602888857635,
                        "count": 0
                      },
                      {
                        "bin_start": 398.0602888857635,
                        "bin_end": 477.8723465086108,
                        "count": 0
                      },
                      {
                        "bin_start": 477.8723465086108,
                        "bin_end": 557.6844041314581,
                        "count": 0
                      },
                      {
                        "bin_start": 557.6844041314581,
                        "bin_end": 637.4964617543054,
                        "count": 0
                      },
                      {
                        "bin_start": 637.4964617543054,
                        "bin_end": 717.3085193771527,
                        "count": 0
                      },
                      {
                        "bin_start": 717.3085193771527,
                        "bin_end": 797.120577,
                        "count": 1
                      }
                    ]
                  }
                },
                {
                  "name": "VOL Total Change 3 Day",
                  "dtype": "float64",
                  "stats": {
                    "unique_count": 2194,
                    "nan_count": 0,
                    "min": "-0.9999989920280838",
                    "max": "1121009.1762888902",
                    "histogram": [
                      {
                        "bin_start": -0.9999989920280838,
                        "bin_end": 112100.01762979619,
                        "count": 2193
                      },
                      {
                        "bin_start": 112100.01762979619,
                        "bin_end": 224201.03525858442,
                        "count": 0
                      },
                      {
                        "bin_start": 224201.03525858442,
                        "bin_end": 336302.0528873726,
                        "count": 0
                      },
                      {
                        "bin_start": 336302.0528873726,
                        "bin_end": 448403.07051616086,
                        "count": 0
                      },
                      {
                        "bin_start": 448403.07051616086,
                        "bin_end": 560504.088144949,
                        "count": 0
                      },
                      {
                        "bin_start": 560504.088144949,
                        "bin_end": 672605.1057737372,
                        "count": 0
                      },
                      {
                        "bin_start": 672605.1057737372,
                        "bin_end": 784706.1234025254,
                        "count": 0
                      },
                      {
                        "bin_start": 784706.1234025254,
                        "bin_end": 896807.1410313137,
                        "count": 0
                      },
                      {
                        "bin_start": 896807.1410313137,
                        "bin_end": 1008908.1586601019,
                        "count": 0
                      },
                      {
                        "bin_start": 1008908.1586601019,
                        "bin_end": 1121009.1762888902,
                        "count": 1
                      }
                    ]
                  }
                },
                {
                  "name": "_deepnote_index_column",
                  "dtype": "int64"
                }
              ],
              "rows_top": [
                {
                  "BS block-size": 12.450740809300187,
                  "TT n-transactions-total": 20.00481683801793,
                  "GLD Volume": 15.936873489607667,
                  "SPY Volume": 17.246629135742307,
                  "TSLA Close": 86.188004,
                  "BTC bb_bbw": 11.264487532642445,
                  "BTC sma200": 9.138279551187447,
                  "BTC RSI": 46.275882756236,
                  "VOL CAD": 15.76081376,
                  "VOL EUR": 2536.50453147,
                  "VOL GBP": 24.0310311,
                  "VOL JPY": 4.97192955,
                  "VOL Total": 6248.29931335,
                  "VOL Total Change 1 Day": -0.1290223521358529,
                  "VOL Total Change 2 Day": -0.20936284568118801,
                  "VOL Total Change 3 Day": -0.5559632456685099,
                  "_deepnote_index_column": 2276
                },
                {
                  "BS block-size": 11.79603708454616,
                  "TT n-transactions-total": 19.348000816418455,
                  "GLD Volume": 16.014954892038805,
                  "SPY Volume": 17.971777722790577,
                  "TSLA Close": 68.68,
                  "BTC bb_bbw": 22.0164340896218,
                  "BTC sma200": 7.7315137205418,
                  "BTC RSI": 50.47626435905038,
                  "VOL CAD": 55.56984979,
                  "VOL EUR": 5133.0526892,
                  "VOL GBP": 0,
                  "VOL JPY": 51.22453644,
                  "VOL Total": 8784.76814172,
                  "VOL Total Change 1 Day": -0.5347650962384902,
                  "VOL Total Change 2 Day": -0.10836289698741453,
                  "VOL Total Change 3 Day": -0.3709707214997463,
                  "_deepnote_index_column": 1438
                },
                {
                  "BS block-size": 12.42414473187787,
                  "TT n-transactions-total": 19.976241133122386,
                  "GLD Volume": 15.679373610948703,
                  "SPY Volume": 17.654631632908753,
                  "TSLA Close": 69.986,
                  "BTC bb_bbw": 20.043044415988025,
                  "BTC sma200": 9.133031660278892,
                  "BTC RSI": 47.29472471176587,
                  "VOL CAD": 59.08792155,
                  "VOL EUR": 3597.5983512,
                  "VOL GBP": 0.3902631,
                  "VOL JPY": 0.05588612,
                  "VOL Total": 7009.092743470001,
                  "VOL Total Change 1 Day": -0.12424950543964519,
                  "VOL Total Change 2 Day": 0.37347426833012753,
                  "VOL Total Change 3 Day": 1.1978225908913407,
                  "_deepnote_index_column": 2232
                },
                {
                  "BS block-size": 11.98198808160244,
                  "TT n-transactions-total": 19.526185845841976,
                  "GLD Volume": 16.117525488446564,
                  "SPY Volume": 18.75058287317977,
                  "TSLA Close": 67.024002,
                  "BTC bb_bbw": 36.57213981083119,
                  "BTC sma200": 9.068270165012407,
                  "BTC RSI": 55.76664917914975,
                  "VOL CAD": 19.79870584,
                  "VOL EUR": 7909.01557188999,
                  "VOL GBP": 1.86522279,
                  "VOL JPY": 1.86124271,
                  "VOL Total": 13671.072099419991,
                  "VOL Total Change 1 Day": -0.16048434923296317,
                  "VOL Total Change 2 Day": -0.24574265429937414,
                  "VOL Total Change 3 Day": -0.18967226782597324,
                  "_deepnote_index_column": 1612
                },
                {
                  "BS block-size": 12.158128557337498,
                  "TT n-transactions-total": 19.687396582556115,
                  "GLD Volume": 15.848751080743396,
                  "SPY Volume": 17.998856044491333,
                  "TSLA Close": 70.279999,
                  "BTC bb_bbw": 3.4536508548278824,
                  "BTC sma200": 8.863571146832388,
                  "BTC RSI": 49.750167461066376,
                  "VOL CAD": 47.00811452,
                  "VOL EUR": 2411.15867451,
                  "VOL GBP": 2.05839199,
                  "VOL JPY": 2.12959328,
                  "VOL Total": 4685.04524634,
                  "VOL Total Change 1 Day": -0.19508401840649858,
                  "VOL Total Change 2 Day": -0.09289748484492544,
                  "VOL Total Change 3 Day": 0.3710098420305239,
                  "_deepnote_index_column": 1863
                },
                {
                  "BS block-size": 11.627617619437695,
                  "TT n-transactions-total": 19.180623915957796,
                  "GLD Volume": 15.951993840011307,
                  "SPY Volume": 18.04096232684502,
                  "TSLA Close": 60.287998,
                  "BTC bb_bbw": 21.769096650715543,
                  "BTC sma200": 6.804547424297341,
                  "BTC RSI": 56.23310814969463,
                  "VOL CAD": 60.953568,
                  "VOL EUR": 5179.79920512,
                  "VOL GBP": 12.86495266,
                  "VOL JPY": 473.96534026,
                  "VOL Total": 7584.12025551,
                  "VOL Total Change 1 Day": 1.3144738639891669,
                  "VOL Total Change 2 Day": 0.2846016210331679,
                  "VOL Total Change 3 Day": -0.14427009576082994,
                  "_deepnote_index_column": 1293
                },
                {
                  "BS block-size": 9.888577825914476,
                  "TT n-transactions-total": 17.511926665026333,
                  "GLD Volume": 14.840835050862552,
                  "SPY Volume": 17.991726923275294,
                  "TSLA Close": 41.062,
                  "BTC bb_bbw": 38.33710782568714,
                  "BTC sma200": 6.484992711885675,
                  "BTC RSI": 72.05944186243353,
                  "VOL CAD": 0,
                  "VOL EUR": 557.82747315,
                  "VOL GBP": 0,
                  "VOL JPY": 0,
                  "VOL Total": 562.4938558599999,
                  "VOL Total Change 1 Day": 2.151465190651276,
                  "VOL Total Change 2 Day": 0.14492405678523035,
                  "VOL Total Change 3 Day": -0.2359713693014761,
                  "_deepnote_index_column": 250
                },
                {
                  "BS block-size": 12.436815089192105,
                  "TT n-transactions-total": 19.989681325373716,
                  "GLD Volume": 15.928713224793782,
                  "SPY Volume": 18.143183958247803,
                  "TSLA Close": 66.973999,
                  "BTC bb_bbw": 28.342091941479485,
                  "BTC sma200": 9.149592062270877,
                  "BTC RSI": 37.757711115736036,
                  "VOL CAD": 57.50981158,
                  "VOL EUR": 3920.49005246,
                  "VOL GBP": 2.06366777,
                  "VOL JPY": 0.33523386,
                  "VOL Total": 8068.58557753,
                  "VOL Total Change 1 Day": -0.11388623886602867,
                  "VOL Total Change 2 Day": 0.3531646508973787,
                  "VOL Total Change 3 Day": -0.25061307567384083,
                  "_deepnote_index_column": 2252
                },
                {
                  "BS block-size": 12.608546493276513,
                  "TT n-transactions-total": 20.157176531436686,
                  "GLD Volume": 16.088615345635812,
                  "SPY Volume": 17.99917314038348,
                  "TSLA Close": 419.619995,
                  "BTC bb_bbw": 22.844648505174682,
                  "BTC sma200": 9.120669624936506,
                  "BTC RSI": 47.19812375528428,
                  "VOL CAD": 60.10396404,
                  "VOL EUR": 6011.88441141999,
                  "VOL GBP": 203.14359818,
                  "VOL JPY": 1.2036764,
                  "VOL Total": 10428.06793342999,
                  "VOL Total Change 1 Day": 0.9603542997799202,
                  "VOL Total Change 2 Day": 1.3533028777264824,
                  "VOL Total Change 3 Day": 0.4281637546211543,
                  "_deepnote_index_column": 2539
                },
                {
                  "BS block-size": 10.06360294149316,
                  "TT n-transactions-total": 17.659231253412976,
                  "GLD Volume": 15.935217939539047,
                  "SPY Volume": 18.834550434404342,
                  "TSLA Close": 52.276001,
                  "BTC bb_bbw": 9.418423462198582,
                  "BTC sma200": 6.297702699006285,
                  "BTC RSI": 35.47075093741992,
                  "VOL CAD": 0,
                  "VOL EUR": 1035.7697912,
                  "VOL GBP": 0,
                  "VOL JPY": 0,
                  "VOL Total": 1040.9098094600001,
                  "VOL Total Change 1 Day": 0.3309108508147436,
                  "VOL Total Change 2 Day": 0.21410445603560202,
                  "VOL Total Change 3 Day": 1.3692252803283487,
                  "_deepnote_index_column": 350
                },
                {
                  "BS block-size": 12.033964805494334,
                  "TT n-transactions-total": 19.570647791119068,
                  "GLD Volume": 15.273939516843363,
                  "SPY Volume": 17.907711156871965,
                  "TSLA Close": 60.212002,
                  "BTC bb_bbw": 15.901877677727704,
                  "BTC sma200": 9.224063455682407,
                  "BTC RSI": 43.5428879237396,
                  "VOL CAD": 5.22205446,
                  "VOL EUR": 4468.68000232,
                  "VOL GBP": 0.14518492,
                  "VOL JPY": 5.85761888,
                  "VOL Total": 7841.01565895,
                  "VOL Total Change 1 Day": -0.3078942377543845,
                  "VOL Total Change 2 Day": -0.5008794759593198,
                  "VOL Total Change 3 Day": 0.0631852634768888,
                  "_deepnote_index_column": 1684
                },
                {
                  "BS block-size": 11.815892913312979,
                  "TT n-transactions-total": 19.367908469673146,
                  "GLD Volume": 16.13868228456671,
                  "SPY Volume": 18.264938798733613,
                  "TSLA Close": 68.220001,
                  "BTC bb_bbw": 24.52179416420429,
                  "BTC sma200": 7.84280695612342,
                  "BTC RSI": 52.27544065655846,
                  "VOL CAD": 39.77700856,
                  "VOL EUR": 5858.26262018,
                  "VOL GBP": 2.28515209,
                  "VOL JPY": 36.85079129,
                  "VOL Total": 10201.58890404,
                  "VOL Total Change 1 Day": -0.2583923706611494,
                  "VOL Total Change 2 Day": -0.3684265605624305,
                  "VOL Total Change 3 Day": -0.1211175804384459,
                  "_deepnote_index_column": 1458
                },
                {
                  "BS block-size": 12.344710555112751,
                  "TT n-transactions-total": 19.888762625827596,
                  "GLD Volume": 15.657566992075102,
                  "SPY Volume": 17.51250698018016,
                  "TSLA Close": 49.015999,
                  "BTC bb_bbw": 21.70172966137633,
                  "BTC sma200": 8.680768332655019,
                  "BTC RSI": 46.97015518894816,
                  "VOL CAD": 97.43920854,
                  "VOL EUR": 5722.41225646,
                  "VOL GBP": 0.83686892,
                  "VOL JPY": 0.52199733,
                  "VOL Total": 13376.19202028999,
                  "VOL Total Change 1 Day": 0.03918090685176967,
                  "VOL Total Change 2 Day": 0.0271751842768182,
                  "VOL Total Change 3 Day": -0.477363494171405,
                  "_deepnote_index_column": 2111
                },
                {
                  "BS block-size": 11.564797133567165,
                  "TT n-transactions-total": 19.115586202834617,
                  "GLD Volume": 16.041592504972204,
                  "SPY Volume": 17.850023725348887,
                  "TSLA Close": 49.245998,
                  "BTC bb_bbw": 25.012006331655,
                  "BTC sma200": 6.641235759101001,
                  "BTC RSI": 69.788245300284,
                  "VOL CAD": 78.06830628,
                  "VOL EUR": 5682.18540621,
                  "VOL GBP": 25.84622173,
                  "VOL JPY": 108.67961018,
                  "VOL Total": 7732.46959939,
                  "VOL Total Change 1 Day": -0.0006526291056374589,
                  "VOL Total Change 2 Day": -0.24597061006902043,
                  "VOL Total Change 3 Day": -0.6554333186414251,
                  "_deepnote_index_column": 1244
                },
                {
                  "BS block-size": 12.526144461025638,
                  "TT n-transactions-total": 20.081935828825944,
                  "GLD Volume": 15.893225610118408,
                  "SPY Volume": 18.20839305396888,
                  "TSLA Close": 152.238007,
                  "BTC bb_bbw": 39.73129117716982,
                  "BTC sma200": 8.987762588880406,
                  "BTC RSI": 73.52026675807066,
                  "VOL CAD": 104.36944945,
                  "VOL EUR": 8417.77178371,
                  "VOL GBP": 102.26087998,
                  "VOL JPY": 0.86611168,
                  "VOL Total": 16866.14254433,
                  "VOL Total Change 1 Day": 0.12295167939591711,
                  "VOL Total Change 2 Day": 0.7584634031124289,
                  "VOL Total Change 3 Day": 0.08403567162955272,
                  "_deepnote_index_column": 2406
                },
                {
                  "BS block-size": 10.984156486768557,
                  "TT n-transactions-total": 18.507519377689405,
                  "GLD Volume": 16.404108831584516,
                  "SPY Volume": 18.81416840800098,
                  "TSLA Close": 28.733999,
                  "BTC bb_bbw": 9.97403255926821,
                  "BTC sma200": 5.780725658688448,
                  "BTC RSI": 42.90655774855217,
                  "VOL CAD": 118.02847693,
                  "VOL EUR": 9442.59070052,
                  "VOL GBP": 61.91626951,
                  "VOL JPY": 192.55175399,
                  "VOL Total": 10989.27489952,
                  "VOL Total Change 1 Day": 0.3915464461308664,
                  "VOL Total Change 2 Day": 0.8676373078532531,
                  "VOL Total Change 3 Day": 1.5860763647667122,
                  "_deepnote_index_column": 861
                },
                {
                  "BS block-size": 11.798983894026161,
                  "TT n-transactions-total": 19.350727624665197,
                  "GLD Volume": 16.02670378452789,
                  "SPY Volume": 18.08331530854786,
                  "TSLA Close": 72.737999,
                  "BTC bb_bbw": 18.77808953162786,
                  "BTC sma200": 7.745168489464489,
                  "BTC RSI": 51.22264881538375,
                  "VOL CAD": 128.59808531,
                  "VOL EUR": 6638.11942169,
                  "VOL GBP": 0,
                  "VOL JPY": 15.54670552,
                  "VOL Total": 11067.54900178,
                  "VOL Total Change 1 Day": -0.0024083729417863076,
                  "VOL Total Change 2 Day": 0.25985670005549477,
                  "VOL Total Change 3 Day": -0.4138706893963887,
                  "_deepnote_index_column": 1440
                },
                {
                  "BS block-size": 10.245568304135743,
                  "TT n-transactions-total": 17.81841862131631,
                  "GLD Volume": 14.222041764254437,
                  "SPY Volume": 17.57585914842241,
                  "TSLA Close": 44.452,
                  "BTC bb_bbw": 23.074093095612344,
                  "BTC sma200": 6.1476981421604044,
                  "BTC RSI": 43.56454722380806,
                  "VOL CAD": 0,
                  "VOL EUR": 1307.3051441,
                  "VOL GBP": 4.99900742,
                  "VOL JPY": 12.376856,
                  "VOL Total": 1328.78872657,
                  "VOL Total Change 1 Day": -0.22532632380437123,
                  "VOL Total Change 2 Day": -0.3402540546831204,
                  "VOL Total Change 3 Day": 0.3623182944072372,
                  "_deepnote_index_column": 448
                },
                {
                  "BS block-size": 12.388742136371391,
                  "TT n-transactions-total": 19.936912628101844,
                  "GLD Volume": 15.906707730654963,
                  "SPY Volume": 17.87924469852024,
                  "TSLA Close": 48.562,
                  "BTC bb_bbw": 13.612076270741571,
                  "BTC sma200": 8.992695546582512,
                  "BTC RSI": 49.70768853023134,
                  "VOL CAD": 46.54291063,
                  "VOL EUR": 3742.80343494,
                  "VOL GBP": 3.34983375,
                  "VOL JPY": 0.03844184,
                  "VOL Total": 7135.669071529999,
                  "VOL Total Change 1 Day": 2.283053028871064,
                  "VOL Total Change 2 Day": 1.056515270575027,
                  "VOL Total Change 3 Day": -0.020721011614824425,
                  "_deepnote_index_column": 2175
                },
                {
                  "BS block-size": 12.206859884576186,
                  "TT n-transactions-total": 19.73867339735516,
                  "GLD Volume": 15.743853008978864,
                  "SPY Volume": 18.16755081149778,
                  "TSLA Close": 69.209999,
                  "BTC bb_bbw": 16.51602142425947,
                  "BTC sma200": 8.664260417614264,
                  "BTC RSI": 44.03703982563742,
                  "VOL CAD": 84.53481417,
                  "VOL EUR": 5519.1983184,
                  "VOL GBP": 2.34780561,
                  "VOL JPY": 0.10212065,
                  "VOL Total": 12189.808094650001,
                  "VOL Total Change 1 Day": 0.02228706734684982,
                  "VOL Total Change 2 Day": -0.14818792436620942,
                  "VOL Total Change 3 Day": 0.32009915730466654,
                  "_deepnote_index_column": 1932
                },
                {
                  "BS block-size": 10.84618962226778,
                  "TT n-transactions-total": 18.36807505190552,
                  "GLD Volume": 15.35149566818933,
                  "SPY Volume": 18.399032093803996,
                  "TSLA Close": 47.438,
                  "BTC bb_bbw": 21.002247426794042,
                  "BTC sma200": 5.585866861649329,
                  "BTC RSI": 64.38379329121068,
                  "VOL CAD": 5.10529302,
                  "VOL EUR": 8810.59624387,
                  "VOL GBP": 53.64943575,
                  "VOL JPY": 37.96908948,
                  "VOL Total": 9349.401506920001,
                  "VOL Total Change 1 Day": -0.1389823710762137,
                  "VOL Total Change 2 Day": 0.41361835314205786,
                  "VOL Total Change 3 Day": 1.1277349522071392,
                  "_deepnote_index_column": 790
                },
                {
                  "BS block-size": 10.836430950489532,
                  "TT n-transactions-total": 18.358264896348444,
                  "GLD Volume": 14.890956568600544,
                  "SPY Volume": 17.76637151099262,
                  "TSLA Close": 45.928001,
                  "BTC bb_bbw": 26.88482475473765,
                  "BTC sma200": 5.572444613529059,
                  "BTC RSI": 47.25620712412973,
                  "VOL CAD": 0,
                  "VOL EUR": 5481.10443333,
                  "VOL GBP": 7.23023824,
                  "VOL JPY": 17.73415207,
                  "VOL Total": 5681.5906311300005,
                  "VOL Total Change 1 Day": 0.3663356925789436,
                  "VOL Total Change 2 Day": 0.7663982545976715,
                  "VOL Total Change 3 Day": 1.7509466882412164,
                  "_deepnote_index_column": 784
                },
                {
                  "BS block-size": 11.666015161296352,
                  "TT n-transactions-total": 19.222688042412557,
                  "GLD Volume": 16.151636804365012,
                  "SPY Volume": 18.488785087481904,
                  "TSLA Close": 62.612,
                  "BTC bb_bbw": 38.52371404782283,
                  "BTC sma200": 6.938649079764996,
                  "BTC RSI": 69.17218204602794,
                  "VOL CAD": 63.57228654,
                  "VOL EUR": 13981.92582596,
                  "VOL GBP": 107.63543873,
                  "VOL JPY": 1336.27173823,
                  "VOL Total": 22182.787740959997,
                  "VOL Total Change 1 Day": -0.10865816840954501,
                  "VOL Total Change 2 Day": 0.15353258010957216,
                  "VOL Total Change 3 Day": 0.05028148500941909,
                  "_deepnote_index_column": 1324
                },
                {
                  "BS block-size": 12.485727122509099,
                  "TT n-transactions-total": 20.04283301132793,
                  "GLD Volume": 17.117660786025194,
                  "SPY Volume": 18.897463840588863,
                  "TSLA Close": 166.757996,
                  "BTC bb_bbw": 10.189570676359294,
                  "BTC sma200": 9.08384557464169,
                  "BTC RSI": 50.4868546492196,
                  "VOL CAD": 63.84387241,
                  "VOL EUR": 4215.3234438,
                  "VOL GBP": 49.8739536,
                  "VOL JPY": 1.14554481,
                  "VOL Total": 8565.05740755,
                  "VOL Total Change 1 Day": 0.8337089720342448,
                  "VOL Total Change 2 Day": 2.8147532933667008,
                  "VOL Total Change 3 Day": 0.4585804393478581,
                  "_deepnote_index_column": 2336
                },
                {
                  "BS block-size": 12.200587793693352,
                  "TT n-transactions-total": 19.731293834779972,
                  "GLD Volume": 15.826887368729981,
                  "SPY Volume": 18.451589120545524,
                  "TSLA Close": 66.991997,
                  "BTC bb_bbw": 12.913601129558142,
                  "BTC sma200": 8.683347430712157,
                  "BTC RSI": 54.63196969090808,
                  "VOL CAD": 103.74984298,
                  "VOL EUR": 5422.29481793999,
                  "VOL GBP": 0.18941484,
                  "VOL JPY": 1.42777324,
                  "VOL Total": 10831.20511892999,
                  "VOL Total Change 1 Day": -0.24979166489316695,
                  "VOL Total Change 2 Day": 0.4966625507632083,
                  "VOL Total Change 3 Day": 0.0633505830806822,
                  "_deepnote_index_column": 1923
                },
                {
                  "BS block-size": 12.039519822577999,
                  "TT n-transactions-total": 19.576050424765675,
                  "GLD Volume": 15.232988614064418,
                  "SPY Volume": 17.876400020560283,
                  "TSLA Close": 56.897999,
                  "BTC bb_bbw": 25.454478680550928,
                  "BTC sma200": 9.23282450002471,
                  "BTC RSI": 47.916655506011736,
                  "VOL CAD": 15.49979031,
                  "VOL EUR": 3823.31349905,
                  "VOL GBP": 0.92269249,
                  "VOL JPY": 2.38923707,
                  "VOL Total": 6744.7332079299995,
                  "VOL Total Change 1 Day": 0.1965256242801372,
                  "VOL Total Change 2 Day": 0.3911334948795151,
                  "VOL Total Change 3 Day": -0.28529689814675985,
                  "_deepnote_index_column": 1692
                },
                {
                  "BS block-size": 9.915458104733611,
                  "TT n-transactions-total": 17.53388162759676,
                  "GLD Volume": 15.716468169731373,
                  "SPY Volume": 18.231721204418225,
                  "TSLA Close": 47.377998,
                  "BTC bb_bbw": 18.73006428462892,
                  "BTC sma200": 6.443324094705321,
                  "BTC RSI": 45.82728137649271,
                  "VOL CAD": 0,
                  "VOL EUR": 1259.70659736,
                  "VOL GBP": 0,
                  "VOL JPY": 0,
                  "VOL Total": 1291.04593265,
                  "VOL Total Change 1 Day": 0.7779857145679803,
                  "VOL Total Change 2 Day": 0.760139568887916,
                  "VOL Total Change 3 Day": 1.734072140838443,
                  "_deepnote_index_column": 266
                },
                {
                  "BS block-size": 11.306605990353606,
                  "TT n-transactions-total": 18.83810747244554,
                  "GLD Volume": 16.70408625947191,
                  "SPY Volume": 18.62367301519808,
                  "TSLA Close": 43.998001,
                  "BTC bb_bbw": 4.636119736248559,
                  "BTC sma200": 6.254093404067792,
                  "BTC RSI": 37.94237926560259,
                  "VOL CAD": 12.26323979,
                  "VOL EUR": 1675.57229213,
                  "VOL GBP": 10.01651738,
                  "VOL JPY": 5.00854484,
                  "VOL Total": 2264.05938094,
                  "VOL Total Change 1 Day": -0.18276419346154982,
                  "VOL Total Change 2 Day": -0.38740125311234586,
                  "VOL Total Change 3 Day": -0.5551703037140054,
                  "_deepnote_index_column": 1061
                },
                {
                  "BS block-size": 12.709612047937785,
                  "TT n-transactions-total": 20.247229125202097,
                  "GLD Volume": 16.442242237888895,
                  "SPY Volume": 19.024212250191443,
                  "TSLA Close": 621.440002,
                  "BTC bb_bbw": 26.34538929765568,
                  "BTC sma200": 10.04580059080448,
                  "BTC RSI": 52.43796178985231,
                  "VOL CAD": 162.20174652,
                  "VOL EUR": 5995.32569423,
                  "VOL GBP": 168.63290404,
                  "VOL JPY": 2.15055947,
                  "VOL Total": 13554.53619137999,
                  "VOL Total Change 1 Day": 0.01658084167688134,
                  "VOL Total Change 2 Day": 0.22273654402592968,
                  "VOL Total Change 3 Day": -0.022636093498383247,
                  "_deepnote_index_column": 2710
                },
                {
                  "BS block-size": 10.074549764721288,
                  "TT n-transactions-total": 17.668976944283607,
                  "GLD Volume": 15.355555518890084,
                  "SPY Volume": 18.52857504685838,
                  "TSLA Close": 50.082001,
                  "BTC bb_bbw": 25.891057681345515,
                  "BTC sma200": 6.28586915314228,
                  "BTC RSI": 19.310662607980703,
                  "VOL CAD": 0,
                  "VOL EUR": 2834.06731385,
                  "VOL GBP": 0,
                  "VOL JPY": 0,
                  "VOL Total": 2841.7700874,
                  "VOL Total Change 1 Day": 1.910397949134203,
                  "VOL Total Change 2 Day": 1.3497089941928366,
                  "VOL Total Change 3 Day": 0.5282019222786907,
                  "_deepnote_index_column": 356
                },
                {
                  "BS block-size": 9.81222952546034,
                  "TT n-transactions-total": 17.448077114218272,
                  "GLD Volume": 15.715720763197133,
                  "SPY Volume": 18.348314331326176,
                  "TSLA Close": 41.546001,
                  "BTC bb_bbw": 27.934307041963212,
                  "BTC sma200": 6.407726991120625,
                  "BTC RSI": 46.051581633041465,
                  "VOL CAD": 0,
                  "VOL EUR": 613.65181508,
                  "VOL GBP": 0,
                  "VOL JPY": 0,
                  "VOL Total": 628.16126113,
                  "VOL Total Change 1 Day": -0.21150660369435115,
                  "VOL Total Change 2 Day": -0.4456389287114537,
                  "VOL Total Change 3 Day": -0.36073618658626494,
                  "_deepnote_index_column": 211
                }
              ],
              "rows_bottom": [
                {
                  "BS block-size": 12.120424044448589,
                  "TT n-transactions-total": 19.649352208655262,
                  "GLD Volume": 15.497380753655046,
                  "SPY Volume": 17.824295416282048,
                  "TSLA Close": 59.040001,
                  "BTC bb_bbw": 24.99384309677503,
                  "BTC sma200": 8.937733824113794,
                  "BTC RSI": 38.96698967930511,
                  "VOL CAD": 33.15319264,
                  "VOL EUR": 1238.18440824,
                  "VOL GBP": 4.62139641,
                  "VOL JPY": 0.9865108,
                  "VOL Total": 2566.16390648,
                  "VOL Total Change 1 Day": -0.6773515068743671,
                  "VOL Total Change 2 Day": -0.7755055977949755,
                  "VOL Total Change 3 Day": -0.6192087612455869,
                  "_deepnote_index_column": 1809
                },
                {
                  "BS block-size": 11.182561109567478,
                  "TT n-transactions-total": 18.71201493678643,
                  "GLD Volume": 16.106822345359863,
                  "SPY Volume": 17.98815785344355,
                  "TSLA Close": 44.136002,
                  "BTC bb_bbw": 40.76472706931902,
                  "BTC sma200": 6.048530725874962,
                  "BTC RSI": 85.03138732580803,
                  "VOL CAD": 380.90361669,
                  "VOL EUR": 7425.81103878,
                  "VOL GBP": 40.57610127,
                  "VOL JPY": 215.37513501,
                  "VOL Total": 9084.38787817,
                  "VOL Total Change 1 Day": 0.34272959662760716,
                  "VOL Total Change 2 Day": -0.2694037527555334,
                  "VOL Total Change 3 Day": -0.41267256078629067,
                  "_deepnote_index_column": 978
                },
                {
                  "BS block-size": 12.295723748832938,
                  "TT n-transactions-total": 19.838049103484288,
                  "GLD Volume": 15.53038898285637,
                  "SPY Volume": 18.159357537395987,
                  "TSLA Close": 46.462002,
                  "BTC bb_bbw": 58.69088199392514,
                  "BTC sma200": 8.394779752309432,
                  "BTC RSI": 84.58115439148958,
                  "VOL CAD": 190.62220045,
                  "VOL EUR": 14116.1535238,
                  "VOL GBP": 1.71402036,
                  "VOL JPY": 2.18232739,
                  "VOL Total": 32432.647509199996,
                  "VOL Total Change 1 Day": -0.08704087686328421,
                  "VOL Total Change 2 Day": 0.007877898472246514,
                  "VOL Total Change 3 Day": 0.050249981945459155,
                  "_deepnote_index_column": 2050
                },
                {
                  "BS block-size": 12.621364862378522,
                  "TT n-transactions-total": 20.168742791704606,
                  "GLD Volume": 15.97107946003166,
                  "SPY Volume": 18.31675142586475,
                  "TSLA Close": 413.980011,
                  "BTC bb_bbw": 6.509912291393601,
                  "BTC sma200": 9.160372496300566,
                  "BTC RSI": 46.08023122856952,
                  "VOL CAD": 33.58479922,
                  "VOL EUR": 4566.35277845,
                  "VOL GBP": 83.50272971,
                  "VOL JPY": 1.52421758,
                  "VOL Total": 8032.50718426,
                  "VOL Total Change 1 Day": 0.157988666888224,
                  "VOL Total Change 2 Day": 1.7663935711644316,
                  "VOL Total Change 3 Day": 1.5466864934881128,
                  "_deepnote_index_column": 2561
                },
                {
                  "BS block-size": 11.339185587209125,
                  "TT n-transactions-total": 18.871709725282372,
                  "GLD Volume": 16.428986308546982,
                  "SPY Volume": 18.51857304176428,
                  "TSLA Close": 41.043999,
                  "BTC bb_bbw": 8.671208142760943,
                  "BTC sma200": 6.29526462902173,
                  "BTC RSI": 46.005000550594055,
                  "VOL CAD": 42.1382456,
                  "VOL EUR": 5268.13757519,
                  "VOL GBP": 23.73585991,
                  "VOL JPY": 38.61153604,
                  "VOL Total": 6358.125180169999,
                  "VOL Total Change 1 Day": 0.2344828936956409,
                  "VOL Total Change 2 Day": 0.7605345768965013,
                  "VOL Total Change 3 Day": 1.4612575056445811,
                  "_deepnote_index_column": 1085
                },
                {
                  "BS block-size": 10.298100624727278,
                  "TT n-transactions-total": 17.866669518574124,
                  "GLD Volume": 16.168636662452037,
                  "SPY Volume": 18.976609744029794,
                  "TSLA Close": 40.324001,
                  "BTC bb_bbw": 58.03092399127859,
                  "BTC sma200": 6.036369026415389,
                  "BTC RSI": 41.00763102501014,
                  "VOL CAD": 0,
                  "VOL EUR": 5858.12456625,
                  "VOL GBP": 7.066082,
                  "VOL JPY": 20.55377077,
                  "VOL Total": 5912.215577859999,
                  "VOL Total Change 1 Day": 0.19799468993806535,
                  "VOL Total Change 2 Day": 0.35250505553107003,
                  "VOL Total Change 3 Day": 1.0052631335295215,
                  "_deepnote_index_column": 477
                },
                {
                  "BS block-size": 10.778775140775185,
                  "TT n-transactions-total": 18.302130491560476,
                  "GLD Volume": 15.049934969746039,
                  "SPY Volume": 18.979791833120217,
                  "TSLA Close": 42.344002,
                  "BTC bb_bbw": 17.838781805673435,
                  "BTC sma200": 5.506160629334544,
                  "BTC RSI": 69.65784436708478,
                  "VOL CAD": 0,
                  "VOL EUR": 7557.31857805,
                  "VOL GBP": 3.04505308,
                  "VOL JPY": 4.03039486,
                  "VOL Total": 7634.6211890800005,
                  "VOL Total Change 1 Day": 0.509011388972948,
                  "VOL Total Change 2 Day": 0.18896115344663245,
                  "VOL Total Change 3 Day": 0.2175028477259029,
                  "_deepnote_index_column": 750
                },
                {
                  "BS block-size": 12.466084201085707,
                  "TT n-transactions-total": 20.021721831517766,
                  "GLD Volume": 15.379574464510057,
                  "SPY Volume": 17.705592611508905,
                  "TSLA Close": 113.912003,
                  "BTC bb_bbw": 25.711083216695386,
                  "BTC sma200": 9.105295228096418,
                  "BTC RSI": 62.668419988684505,
                  "VOL CAD": 40.60191922,
                  "VOL EUR": 2800.37429921,
                  "VOL GBP": 27.29468647,
                  "VOL JPY": 0.39068775,
                  "VOL Total": 5966.57416183,
                  "VOL Total Change 1 Day": -0.3112508071170277,
                  "VOL Total Change 2 Day": -0.263649263183366,
                  "VOL Total Change 3 Day": -0.6025023954271125,
                  "_deepnote_index_column": 2303
                },
                {
                  "BS block-size": 9.386467176686049,
                  "TT n-transactions-total": 17.0744103117831,
                  "GLD Volume": 15.986607882995406,
                  "SPY Volume": 18.354807999801658,
                  "TSLA Close": 33.931999,
                  "BTC bb_bbw": 65.76460909731581,
                  "BTC sma200": 4.953142042303884,
                  "BTC RSI": 65.24308635243798,
                  "VOL CAD": 0,
                  "VOL EUR": 28.36738404,
                  "VOL GBP": 0,
                  "VOL JPY": 0,
                  "VOL Total": 28.36738404,
                  "VOL Total Change 1 Day": -0.5175106357954592,
                  "VOL Total Change 2 Day": -0.5066064591168976,
                  "VOL Total Change 3 Day": -0.5557749905488207,
                  "_deepnote_index_column": 24
                },
                {
                  "BS block-size": 10.26959387393263,
                  "TT n-transactions-total": 17.84033443085666,
                  "GLD Volume": 15.677138071159657,
                  "SPY Volume": 18.646594055935637,
                  "TSLA Close": 42.189999,
                  "BTC bb_bbw": 23.014860624849558,
                  "BTC sma200": 6.100927210379086,
                  "BTC RSI": 33.24905702086323,
                  "VOL CAD": 0,
                  "VOL EUR": 3409.72390835,
                  "VOL GBP": 5.174,
                  "VOL JPY": 16.35711983,
                  "VOL Total": 3438.9624053899997,
                  "VOL Total Change 1 Day": -0.00937674305928382,
                  "VOL Total Change 2 Day": -0.0984201861202545,
                  "VOL Total Change 3 Day": -0.050281291956661645,
                  "_deepnote_index_column": 462
                },
                {
                  "BS block-size": 11.485491322205373,
                  "TT n-transactions-total": 19.03023867988803,
                  "GLD Volume": 15.998602403723437,
                  "SPY Volume": 18.50684284374152,
                  "TSLA Close": 42.737999,
                  "BTC bb_bbw": 34.32562373337076,
                  "BTC sma200": 6.512752829375807,
                  "BTC RSI": 75.84447392330308,
                  "VOL CAD": 82.62465867,
                  "VOL EUR": 6509.07153475999,
                  "VOL GBP": 23.45948275,
                  "VOL JPY": 111.97637685,
                  "VOL Total": 8205.32271470999,
                  "VOL Total Change 1 Day": 0.8360255304166133,
                  "VOL Total Change 2 Day": -0.3341537910829202,
                  "VOL Total Change 3 Day": -0.29427370939649655,
                  "_deepnote_index_column": 1187
                },
                {
                  "BS block-size": 12.48050458717991,
                  "TT n-transactions-total": 20.037143553913392,
                  "GLD Volume": 15.49174693593679,
                  "SPY Volume": 17.98344938898855,
                  "TSLA Close": 160.005997,
                  "BTC bb_bbw": 17.745083100914478,
                  "BTC sma200": 9.090440828020558,
                  "BTC RSI": 58.98857917822028,
                  "VOL CAD": 71.905504,
                  "VOL EUR": 4114.62964417,
                  "VOL GBP": 22.34649638,
                  "VOL JPY": 0.19218645,
                  "VOL Total": 7836.037170899999,
                  "VOL Total Change 1 Day": 0.03562841519817206,
                  "VOL Total Change 2 Day": -0.45978028591085396,
                  "VOL Total Change 3 Day": -0.3469553782589253,
                  "_deepnote_index_column": 2327
                },
                {
                  "BS block-size": 11.14766455906794,
                  "TT n-transactions-total": 18.67739250925809,
                  "GLD Volume": 15.96957244051456,
                  "SPY Volume": 18.55978942952349,
                  "TSLA Close": 40.931999,
                  "BTC bb_bbw": 4.7687517021645895,
                  "BTC sma200": 6.014293814993281,
                  "BTC RSI": 54.43045535095355,
                  "VOL CAD": 113.18468528,
                  "VOL EUR": 4127.14275339,
                  "VOL GBP": 33.79900437,
                  "VOL JPY": 62.92361497,
                  "VOL Total": 5440.65169986,
                  "VOL Total Change 1 Day": -0.29418660371822414,
                  "VOL Total Change 2 Day": 0.9507545533217832,
                  "VOL Total Change 3 Day": 0.1596597187362312,
                  "_deepnote_index_column": 958
                },
                {
                  "BS block-size": 11.527160315039415,
                  "TT n-transactions-total": 19.075088572286266,
                  "GLD Volume": 15.75178875405023,
                  "SPY Volume": 18.186447175088755,
                  "TSLA Close": 49.848,
                  "BTC bb_bbw": 20.390271498054986,
                  "BTC sma200": 6.5660453650254285,
                  "BTC RSI": 62.27204775340321,
                  "VOL CAD": 73.47905681,
                  "VOL EUR": 7231.43168589,
                  "VOL GBP": 27.93468785,
                  "VOL JPY": 153.84623623,
                  "VOL Total": 9870.15064443,
                  "VOL Total Change 1 Day": -0.16198305705220695,
                  "VOL Total Change 2 Day": 0.6878444194859734,
                  "VOL Total Change 3 Day": 2.781423379202303,
                  "_deepnote_index_column": 1218
                },
                {
                  "BS block-size": 12.544436903292885,
                  "TT n-transactions-total": 20.09850266788912,
                  "GLD Volume": 16.648753313352678,
                  "SPY Volume": 18.34344974638128,
                  "TSLA Close": 176.591995,
                  "BTC bb_bbw": 13.91280981949296,
                  "BTC sma200": 8.99902946526333,
                  "BTC RSI": 55.54605205537927,
                  "VOL CAD": 47.15121762,
                  "VOL EUR": 5942.85995269,
                  "VOL GBP": 106.13996771,
                  "VOL JPY": 0.64784969,
                  "VOL Total": 10480.1942978,
                  "VOL Total Change 1 Day": -0.6696019491258388,
                  "VOL Total Change 2 Day": -0.4136548120196666,
                  "VOL Total Change 3 Day": 0.4851858773797142,
                  "_deepnote_index_column": 2436
                },
                {
                  "BS block-size": 11.879506789291371,
                  "TT n-transactions-total": 19.434122393160813,
                  "GLD Volume": 15.538830573969808,
                  "SPY Volume": 18.41034450864765,
                  "TSLA Close": 63.509998,
                  "BTC bb_bbw": 50.17721451281518,
                  "BTC sma200": 8.311409823001451,
                  "BTC RSI": 78.4178367939488,
                  "VOL CAD": 115.14656914,
                  "VOL EUR": 6761.32799374,
                  "VOL GBP": 0.21044513,
                  "VOL JPY": 37.12317901,
                  "VOL Total": 9389.71229931,
                  "VOL Total Change 1 Day": -0.1341369036736234,
                  "VOL Total Change 2 Day": 0.04121924999104731,
                  "VOL Total Change 3 Day": 0.2209968373448623,
                  "_deepnote_index_column": 1518
                },
                {
                  "BS block-size": 12.51852590833867,
                  "TT n-transactions-total": 20.074966497898984,
                  "GLD Volume": 16.375609710637498,
                  "SPY Volume": 18.353735061258035,
                  "TSLA Close": 146.421997,
                  "BTC bb_bbw": 11.196721131010943,
                  "BTC sma200": 8.987777584346189,
                  "BTC RSI": 52.81543300187315,
                  "VOL CAD": 57.18520122,
                  "VOL EUR": 6849.58651201999,
                  "VOL GBP": 47.56228294,
                  "VOL JPY": 1.06128777,
                  "VOL Total": 12889.265289399988,
                  "VOL Total Change 1 Day": 0.16361455211977782,
                  "VOL Total Change 2 Day": -0.18303360301388727,
                  "VOL Total Change 3 Day": 1.0970211202531566,
                  "_deepnote_index_column": 2394
                },
                {
                  "BS block-size": 10.816722580298194,
                  "TT n-transactions-total": 18.33869048185862,
                  "GLD Volume": 14.986195415424035,
                  "SPY Volume": 18.849713279021376,
                  "TSLA Close": 41.438,
                  "BTC bb_bbw": 51.47486333607526,
                  "BTC sma200": 5.551133857861674,
                  "BTC RSI": 52.155168337772125,
                  "VOL CAD": 1.3221896,
                  "VOL EUR": 6167.30421327,
                  "VOL GBP": 3.89120947,
                  "VOL JPY": 0.0955044,
                  "VOL Total": 6287.49183008,
                  "VOL Total Change 1 Day": -0.5019718032747832,
                  "VOL Total Change 2 Day": -0.6960381000018159,
                  "VOL Total Change 3 Day": -0.6108824086496016,
                  "_deepnote_index_column": 772
                },
                {
                  "BS block-size": 12.03577981743138,
                  "TT n-transactions-total": 19.572387962421185,
                  "GLD Volume": 15.867233977311422,
                  "SPY Volume": 17.850395236465765,
                  "TSLA Close": 56.908001,
                  "BTC bb_bbw": 21.328738649702007,
                  "BTC sma200": 9.229204167089664,
                  "BTC RSI": 44.27133789480301,
                  "VOL CAD": 48.61457357,
                  "VOL EUR": 5342.87938408999,
                  "VOL GBP": 0.9596817,
                  "VOL JPY": 2.75280336,
                  "VOL Total": 9642.04538380999,
                  "VOL Total Change 1 Day": -0.26025029530172095,
                  "VOL Total Change 2 Day": 0.08582327361301179,
                  "VOL Total Change 3 Day": -0.2997084531310593,
                  "_deepnote_index_column": 1688
                },
                {
                  "BS block-size": 9.63623985745762,
                  "TT n-transactions-total": 17.30182504305667,
                  "GLD Volume": 15.710413086109197,
                  "SPY Volume": 18.36641144671056,
                  "TSLA Close": 39.063999,
                  "BTC bb_bbw": 35.66537414813056,
                  "BTC sma200": 6.3941651911843955,
                  "BTC RSI": 30.252923997805553,
                  "VOL CAD": 0,
                  "VOL EUR": 578.00482686,
                  "VOL GBP": 0,
                  "VOL JPY": 0,
                  "VOL Total": 578.00482686,
                  "VOL Total Change 1 Day": -0.4789763503342671,
                  "VOL Total Change 2 Day": -0.6028152607577408,
                  "VOL Total Change 3 Day": 0.2870260160208189,
                  "_deepnote_index_column": 133
                },
                {
                  "BS block-size": 12.363280197074923,
                  "TT n-transactions-total": 19.90881121053644,
                  "GLD Volume": 16.065317043512948,
                  "SPY Volume": 18.355928866722667,
                  "TSLA Close": 47.001999,
                  "BTC bb_bbw": 32.69323581520951,
                  "BTC sma200": 8.825101441617964,
                  "BTC RSI": 54.91975425974417,
                  "VOL CAD": 47.9240961,
                  "VOL EUR": 3620.94643907999,
                  "VOL GBP": 1.6008604,
                  "VOL JPY": 0.01692241,
                  "VOL Total": 8746.39286115998,
                  "VOL Total Change 1 Day": -0.04056627493945353,
                  "VOL Total Change 2 Day": -0.11662454886040308,
                  "VOL Total Change 3 Day": -0.4636513251006097,
                  "_deepnote_index_column": 2138
                },
                {
                  "BS block-size": 11.845572078217007,
                  "TT n-transactions-total": 19.397733424683754,
                  "GLD Volume": 15.677852745314212,
                  "SPY Volume": 18.06111591402696,
                  "TSLA Close": 65.234001,
                  "BTC bb_bbw": 39.10293308955308,
                  "BTC sma200": 8.036307802476939,
                  "BTC RSI": 62.5908568119782,
                  "VOL CAD": 69.25404068,
                  "VOL EUR": 6029.2140997,
                  "VOL GBP": 2.63686407,
                  "VOL JPY": 57.09088935,
                  "VOL Total": 10021.45796689,
                  "VOL Total Change 1 Day": -0.21765429963589533,
                  "VOL Total Change 2 Day": -0.3354436113039817,
                  "VOL Total Change 3 Day": -0.2408293925770847,
                  "_deepnote_index_column": 1485
                },
                {
                  "BS block-size": 10.037629617724699,
                  "TT n-transactions-total": 17.636978941974224,
                  "GLD Volume": 15.119373945105005,
                  "SPY Volume": 18.003755215379424,
                  "TSLA Close": 53.939999,
                  "BTC bb_bbw": 19.632010203365468,
                  "BTC sma200": 6.315691468339241,
                  "BTC RSI": 40.90288914437258,
                  "VOL CAD": 0,
                  "VOL EUR": 1080.82088905,
                  "VOL GBP": 0,
                  "VOL JPY": 0,
                  "VOL Total": 1086.4329285000001,
                  "VOL Total Change 1 Day": 1.5380744111901348,
                  "VOL Total Change 2 Day": 0.5580966399681475,
                  "VOL Total Change 3 Day": 0.15973554193633577,
                  "_deepnote_index_column": 333
                },
                {
                  "BS block-size": 11.560405291021517,
                  "TT n-transactions-total": 19.111206431399857,
                  "GLD Volume": 16.098810889546453,
                  "SPY Volume": 18.226872668973453,
                  "TSLA Close": 51.400002,
                  "BTC bb_bbw": 19.480309603381116,
                  "BTC sma200": 6.629781508823047,
                  "BTC RSI": 77.29097588348168,
                  "VOL CAD": 60.74286546,
                  "VOL EUR": 17208.31036161,
                  "VOL GBP": 19.69144935,
                  "VOL JPY": 153.18272162,
                  "VOL Total": 22441.141345710002,
                  "VOL Total Change 1 Day": 0.592141809749283,
                  "VOL Total Change 2 Day": 1.0934924733865743,
                  "VOL Total Change 3 Day": 0.5541201077064133,
                  "_deepnote_index_column": 1241
                },
                {
                  "BS block-size": 10.280875814799389,
                  "TT n-transactions-total": 17.850875254391877,
                  "GLD Volume": 15.860283012108816,
                  "SPY Volume": 19.07815463181624,
                  "TSLA Close": 38.537998,
                  "BTC bb_bbw": 37.31763867931767,
                  "BTC sma200": 6.075530555097565,
                  "BTC RSI": 20.6754000077011,
                  "VOL CAD": 0,
                  "VOL EUR": 12255.676145,
                  "VOL GBP": 14.4057296,
                  "VOL JPY": 56.92063126,
                  "VOL Total": 12548.669260589999,
                  "VOL Total Change 1 Day": 0.43353758382784324,
                  "VOL Total Change 2 Day": 4.899253714399171,
                  "VOL Total Change 3 Day": 5.827767393820653,
                  "_deepnote_index_column": 469
                },
                {
                  "BS block-size": 12.386955997770253,
                  "TT n-transactions-total": 19.934972867869153,
                  "GLD Volume": 16.41461605007711,
                  "SPY Volume": 17.944333838602617,
                  "TSLA Close": 49.040001,
                  "BTC bb_bbw": 13.576218704201787,
                  "BTC sma200": 8.980447412653021,
                  "BTC RSI": 49.727774399391826,
                  "VOL CAD": 42.45791762,
                  "VOL EUR": 3019.04798893,
                  "VOL GBP": 2.30484721,
                  "VOL JPY": 0.75963685,
                  "VOL Total": 7286.65595419,
                  "VOL Total Change 1 Day": -0.187177429779122,
                  "VOL Total Change 2 Day": -0.22267802639722967,
                  "VOL Total Change 3 Day": -0.10107076582494323,
                  "_deepnote_index_column": 2172
                },
                {
                  "BS block-size": 12.00515409952228,
                  "TT n-transactions-total": 19.544381748865256,
                  "GLD Volume": 15.77588699248517,
                  "SPY Volume": 18.530445944726274,
                  "TSLA Close": 53.226002,
                  "BTC bb_bbw": 33.03224333844693,
                  "BTC sma200": 9.14135458298915,
                  "BTC RSI": 35.031850213691456,
                  "VOL CAD": 57.27497385,
                  "VOL EUR": 8518.99353188001,
                  "VOL GBP": 0.72836414,
                  "VOL JPY": 1.65987017,
                  "VOL Total": 17897.23510714001,
                  "VOL Total Change 1 Day": -0.5564051321732041,
                  "VOL Total Change 2 Day": -0.529131108499797,
                  "VOL Total Change 3 Day": 0.3451020960458411,
                  "_deepnote_index_column": 1641
                },
                {
                  "BS block-size": 11.35943411923447,
                  "TT n-transactions-total": 18.893332594811827,
                  "GLD Volume": 17.008974211421737,
                  "SPY Volume": 18.60256970719122,
                  "TSLA Close": 42.282001,
                  "BTC bb_bbw": 3.3478078214582325,
                  "BTC sma200": 6.317986717469742,
                  "BTC RSI": 56.319474358651284,
                  "VOL CAD": 85.12321559,
                  "VOL EUR": 3349.20644818,
                  "VOL GBP": 71.11339191,
                  "VOL JPY": 17.50131943,
                  "VOL Total": 3954.34815413,
                  "VOL Total Change 1 Day": 0.3281663367964409,
                  "VOL Total Change 2 Day": 1.2380204089423184,
                  "VOL Total Change 3 Day": 0.08255463702269283,
                  "_deepnote_index_column": 1098
                },
                {
                  "BS block-size": 11.409487998290093,
                  "TT n-transactions-total": 18.946591620975568,
                  "GLD Volume": 16.064758163367646,
                  "SPY Volume": 18.486207214407255,
                  "TSLA Close": 38.987999,
                  "BTC bb_bbw": 19.33597030606793,
                  "BTC sma200": 6.390084553537985,
                  "BTC RSI": 63.33185743526825,
                  "VOL CAD": 51.49495146,
                  "VOL EUR": 5191.32935252,
                  "VOL GBP": 89.28886893,
                  "VOL JPY": 14.64334482,
                  "VOL Total": 6314.105696619999,
                  "VOL Total Change 1 Day": 0.5453038899979472,
                  "VOL Total Change 2 Day": 0.4933369431021859,
                  "VOL Total Change 3 Day": 0.9110866624291665,
                  "_deepnote_index_column": 1133
                },
                {
                  "BS block-size": 11.631258336994444,
                  "TT n-transactions-total": 19.184637118819165,
                  "GLD Volume": 16.563294161285086,
                  "SPY Volume": 18.519528296234583,
                  "TSLA Close": 61.119999,
                  "BTC bb_bbw": 13.225007443865607,
                  "BTC sma200": 6.818201137851586,
                  "BTC RSI": 67.05786356092769,
                  "VOL CAD": 57.09754617,
                  "VOL EUR": 6528.69346557,
                  "VOL GBP": 7.75304799,
                  "VOL JPY": 310.01368726,
                  "VOL Total": 8889.19577938,
                  "VOL Total Change 1 Day": -0.26537471280691494,
                  "VOL Total Change 2 Day": 0.05564957242330282,
                  "VOL Total Change 3 Day": 0.13805711183484126,
                  "_deepnote_index_column": 1297
                },
                {
                  "BS block-size": 10.990057696078985,
                  "TT n-transactions-total": 18.513521814377036,
                  "GLD Volume": 16.647617407728465,
                  "SPY Volume": 18.664664815138416,
                  "TSLA Close": 30.208,
                  "BTC bb_bbw": 8.19802781821964,
                  "BTC sma200": 5.783479955515048,
                  "BTC RSI": 45.335044491658564,
                  "VOL CAD": 91.64559473,
                  "VOL EUR": 7643.43725650999,
                  "VOL GBP": 66.03152678,
                  "VOL JPY": 117.15123186,
                  "VOL Total": 8895.78470110999,
                  "VOL Total Change 1 Day": -0.18774294241068645,
                  "VOL Total Change 2 Day": -0.1905030329618428,
                  "VOL Total Change 3 Day": 0.12645262763566278,
                  "_deepnote_index_column": 863
                }
              ]
            },
            "text/plain": "      BS block-size  TT n-transactions-total  GLD Volume  SPY Volume  \\\n2276      12.450741                20.004817   15.936873   17.246629   \n1438      11.796037                19.348001   16.014955   17.971778   \n2232      12.424145                19.976241   15.679374   17.654632   \n1612      11.981988                19.526186   16.117525   18.750583   \n1863      12.158129                19.687397   15.848751   17.998856   \n...             ...                      ...         ...         ...   \n1641      12.005154                19.544382   15.775887   18.530446   \n1098      11.359434                18.893333   17.008974   18.602570   \n1133      11.409488                18.946592   16.064758   18.486207   \n1297      11.631258                19.184637   16.563294   18.519528   \n863       10.990058                18.513522   16.647617   18.664665   \n\n      TSLA Close  BTC bb_bbw  BTC sma200    BTC RSI    VOL CAD      VOL EUR  \\\n2276   86.188004   11.264488    9.138280  46.275883  15.760814  2536.504531   \n1438   68.680000   22.016434    7.731514  50.476264  55.569850  5133.052689   \n2232   69.986000   20.043044    9.133032  47.294725  59.087922  3597.598351   \n1612   67.024002   36.572140    9.068270  55.766649  19.798706  7909.015572   \n1863   70.279999    3.453651    8.863571  49.750167  47.008115  2411.158675   \n...          ...         ...         ...        ...        ...          ...   \n1641   53.226002   33.032243    9.141355  35.031850  57.274974  8518.993532   \n1098   42.282001    3.347808    6.317987  56.319474  85.123216  3349.206448   \n1133   38.987999   19.335970    6.390085  63.331857  51.494951  5191.329353   \n1297   61.119999   13.225007    6.818201  67.057864  57.097546  6528.693466   \n863    30.208000    8.198028    5.783480  45.335044  91.645595  7643.437257   \n\n        VOL GBP     VOL JPY     VOL Total  VOL Total Change 1 Day  \\\n2276  24.031031    4.971930   6248.299313               -0.129022   \n1438   0.000000   51.224536   8784.768142               -0.534765   \n2232   0.390263    0.055886   7009.092743               -0.124250   \n1612   1.865223    1.861243  13671.072099               -0.160484   \n1863   2.058392    2.129593   4685.045246               -0.195084   \n...         ...         ...           ...                     ...   \n1641   0.728364    1.659870  17897.235107               -0.556405   \n1098  71.113392   17.501319   3954.348154                0.328166   \n1133  89.288869   14.643345   6314.105697                0.545304   \n1297   7.753048  310.013687   8889.195779               -0.265375   \n863   66.031527  117.151232   8895.784701               -0.187743   \n\n      VOL Total Change 2 Day  VOL Total Change 3 Day  \n2276               -0.209363               -0.555963  \n1438               -0.108363               -0.370971  \n2232                0.373474                1.197823  \n1612               -0.245743               -0.189672  \n1863               -0.092897                0.371010  \n...                      ...                     ...  \n1641               -0.529131                0.345102  \n1098                1.238020                0.082555  \n1133                0.493337                0.911087  \n1297                0.055650                0.138057  \n863                -0.190503                0.126453  \n\n[2194 rows x 16 columns]",
            "text/html": "<div>\n<style scoped>\n    .dataframe tbody tr th:only-of-type {\n        vertical-align: middle;\n    }\n\n    .dataframe tbody tr th {\n        vertical-align: top;\n    }\n\n    .dataframe thead th {\n        text-align: right;\n    }\n</style>\n<table border=\"1\" class=\"dataframe\">\n  <thead>\n    <tr style=\"text-align: right;\">\n      <th></th>\n      <th>BS block-size</th>\n      <th>TT n-transactions-total</th>\n      <th>GLD Volume</th>\n      <th>SPY Volume</th>\n      <th>TSLA Close</th>\n      <th>BTC bb_bbw</th>\n      <th>BTC sma200</th>\n      <th>BTC RSI</th>\n      <th>VOL CAD</th>\n      <th>VOL EUR</th>\n      <th>VOL GBP</th>\n      <th>VOL JPY</th>\n      <th>VOL Total</th>\n      <th>VOL Total Change 1 Day</th>\n      <th>VOL Total Change 2 Day</th>\n      <th>VOL Total Change 3 Day</th>\n    </tr>\n  </thead>\n  <tbody>\n    <tr>\n      <th>2276</th>\n      <td>12.450741</td>\n      <td>20.004817</td>\n      <td>15.936873</td>\n      <td>17.246629</td>\n      <td>86.188004</td>\n      <td>11.264488</td>\n      <td>9.138280</td>\n      <td>46.275883</td>\n      <td>15.760814</td>\n      <td>2536.504531</td>\n      <td>24.031031</td>\n      <td>4.971930</td>\n      <td>6248.299313</td>\n      <td>-0.129022</td>\n      <td>-0.209363</td>\n      <td>-0.555963</td>\n    </tr>\n    <tr>\n      <th>1438</th>\n      <td>11.796037</td>\n      <td>19.348001</td>\n      <td>16.014955</td>\n      <td>17.971778</td>\n      <td>68.680000</td>\n      <td>22.016434</td>\n      <td>7.731514</td>\n      <td>50.476264</td>\n      <td>55.569850</td>\n      <td>5133.052689</td>\n      <td>0.000000</td>\n      <td>51.224536</td>\n      <td>8784.768142</td>\n      <td>-0.534765</td>\n      <td>-0.108363</td>\n      <td>-0.370971</td>\n    </tr>\n    <tr>\n      <th>2232</th>\n      <td>12.424145</td>\n      <td>19.976241</td>\n      <td>15.679374</td>\n      <td>17.654632</td>\n      <td>69.986000</td>\n      <td>20.043044</td>\n      <td>9.133032</td>\n      <td>47.294725</td>\n      <td>59.087922</td>\n      <td>3597.598351</td>\n      <td>0.390263</td>\n      <td>0.055886</td>\n      <td>7009.092743</td>\n      <td>-0.124250</td>\n      <td>0.373474</td>\n      <td>1.197823</td>\n    </tr>\n    <tr>\n      <th>1612</th>\n      <td>11.981988</td>\n      <td>19.526186</td>\n      <td>16.117525</td>\n      <td>18.750583</td>\n      <td>67.024002</td>\n      <td>36.572140</td>\n      <td>9.068270</td>\n      <td>55.766649</td>\n      <td>19.798706</td>\n      <td>7909.015572</td>\n      <td>1.865223</td>\n      <td>1.861243</td>\n      <td>13671.072099</td>\n      <td>-0.160484</td>\n      <td>-0.245743</td>\n      <td>-0.189672</td>\n    </tr>\n    <tr>\n      <th>1863</th>\n      <td>12.158129</td>\n      <td>19.687397</td>\n      <td>15.848751</td>\n      <td>17.998856</td>\n      <td>70.279999</td>\n      <td>3.453651</td>\n      <td>8.863571</td>\n      <td>49.750167</td>\n      <td>47.008115</td>\n      <td>2411.158675</td>\n      <td>2.058392</td>\n      <td>2.129593</td>\n      <td>4685.045246</td>\n      <td>-0.195084</td>\n      <td>-0.092897</td>\n      <td>0.371010</td>\n    </tr>\n    <tr>\n      <th>...</th>\n      <td>...</td>\n      <td>...</td>\n      <td>...</td>\n      <td>...</td>\n      <td>...</td>\n      <td>...</td>\n      <td>...</td>\n      <td>...</td>\n      <td>...</td>\n      <td>...</td>\n      <td>...</td>\n      <td>...</td>\n      <td>...</td>\n      <td>...</td>\n      <td>...</td>\n      <td>...</td>\n    </tr>\n    <tr>\n      <th>1641</th>\n      <td>12.005154</td>\n      <td>19.544382</td>\n      <td>15.775887</td>\n      <td>18.530446</td>\n      <td>53.226002</td>\n      <td>33.032243</td>\n      <td>9.141355</td>\n      <td>35.031850</td>\n      <td>57.274974</td>\n      <td>8518.993532</td>\n      <td>0.728364</td>\n      <td>1.659870</td>\n      <td>17897.235107</td>\n      <td>-0.556405</td>\n      <td>-0.529131</td>\n      <td>0.345102</td>\n    </tr>\n    <tr>\n      <th>1098</th>\n      <td>11.359434</td>\n      <td>18.893333</td>\n      <td>17.008974</td>\n      <td>18.602570</td>\n      <td>42.282001</td>\n      <td>3.347808</td>\n      <td>6.317987</td>\n      <td>56.319474</td>\n      <td>85.123216</td>\n      <td>3349.206448</td>\n      <td>71.113392</td>\n      <td>17.501319</td>\n      <td>3954.348154</td>\n      <td>0.328166</td>\n      <td>1.238020</td>\n      <td>0.082555</td>\n    </tr>\n    <tr>\n      <th>1133</th>\n      <td>11.409488</td>\n      <td>18.946592</td>\n      <td>16.064758</td>\n      <td>18.486207</td>\n      <td>38.987999</td>\n      <td>19.335970</td>\n      <td>6.390085</td>\n      <td>63.331857</td>\n      <td>51.494951</td>\n      <td>5191.329353</td>\n      <td>89.288869</td>\n      <td>14.643345</td>\n      <td>6314.105697</td>\n      <td>0.545304</td>\n      <td>0.493337</td>\n      <td>0.911087</td>\n    </tr>\n    <tr>\n      <th>1297</th>\n      <td>11.631258</td>\n      <td>19.184637</td>\n      <td>16.563294</td>\n      <td>18.519528</td>\n      <td>61.119999</td>\n      <td>13.225007</td>\n      <td>6.818201</td>\n      <td>67.057864</td>\n      <td>57.097546</td>\n      <td>6528.693466</td>\n      <td>7.753048</td>\n      <td>310.013687</td>\n      <td>8889.195779</td>\n      <td>-0.265375</td>\n      <td>0.055650</td>\n      <td>0.138057</td>\n    </tr>\n    <tr>\n      <th>863</th>\n      <td>10.990058</td>\n      <td>18.513522</td>\n      <td>16.647617</td>\n      <td>18.664665</td>\n      <td>30.208000</td>\n      <td>8.198028</td>\n      <td>5.783480</td>\n      <td>45.335044</td>\n      <td>91.645595</td>\n      <td>7643.437257</td>\n      <td>66.031527</td>\n      <td>117.151232</td>\n      <td>8895.784701</td>\n      <td>-0.187743</td>\n      <td>-0.190503</td>\n      <td>0.126453</td>\n    </tr>\n  </tbody>\n</table>\n<p>2194 rows × 16 columns</p>\n</div>"
          },
          "metadata": {}
        }
      ]
    },
    {
      "cell_type": "code",
      "metadata": {
        "tags": [],
        "cell_id": "00004-ed92127c-90ba-442a-b658-c59656f3b454",
        "deepnote_to_be_reexecuted": false,
        "source_hash": "f8a320ad",
        "execution_millis": 27,
        "execution_start": 1619832158842,
        "deepnote_cell_type": "code"
      },
      "source": "data = get_all_data()\n# Correlation list\ncorr = data.corr()\n\ncorrelations_s = corr['Y']\nprint('Correlations to Y: \\n' + correlations_s.abs().sort_values()[::\n-1].to_string() +'\\n\\n\\n')",
      "execution_count": 31,
      "outputs": [
        {
          "name": "stdout",
          "text": "Correlations to Y: \nY                          1.000000\nBTC RSI                    0.071606\nBTC Change 1 Day           0.063181\nBTC bb_bbp                 0.061319\nSENT compound              0.049958\nSENT neg                   0.045703\nBTC bb_bbw                 0.042180\nSENT neu                   0.039857\nTT n-transactions-total    0.034435\nBS block-size              0.034334\nVOL GBP                    0.030817\nBTC Change 2 Day           0.028237\nVOL JPY                    0.027213\nVOL CAD                    0.027058\nTSLA Close                 0.025652\nSPY Volume                 0.025203\nTSLA Change                0.025035\nSPY Change                 0.024422\nSPY Close                  0.021422\nVOL Total Change 2 Day     0.020704\nVOL Total Change 3 Day     0.020668\nVOL EUR                    0.020145\nVOL Total                  0.019010\nVOL Total Change 1 Day     0.017652\nGLD Volume                 0.016499\nBTC MACD                   0.015651\nHR hash-rate               0.014982\nMC market-cap              0.014586\nSENT pos                   0.013495\nTSLA Volume                0.013298\nSPREAD Spread              0.012938\nVOL USD                    0.012898\nBTC 24h High (USD)         0.011329\nGLD Close                  0.011241\nBTC 24h Low (USD)          0.010593\nBTC Closing Price (USD)    0.010255\nBTC bb_bbh                 0.009248\nBTC Change 3 Day           0.008889\nGAD bitcoin                0.008124\nBTC sma10                  0.007774\nBTC diff                   0.007241\nBTC bb_bbm                 0.007228\nBTC sma20                  0.007228\nGLD Change                 0.005024\nBTC bb_bbl                 0.003341\nBTC sma200                 0.003309\nBTC sma100                 0.000192\n\n\n\n",
          "output_type": "stream"
        }
      ]
    },
    {
      "cell_type": "code",
      "metadata": {
        "tags": [],
        "cell_id": "00005-85253419-7366-4128-9e0b-15f1df4d5dfe",
        "deepnote_to_be_reexecuted": false,
        "source_hash": "739210a4",
        "execution_millis": 2795,
        "execution_start": 1619831206982,
        "deepnote_cell_type": "code"
      },
      "source": "# Correlation heatmap\nimport seaborn as sns\n\nsns.set(rc={'figure.figsize':(11.7, 8.27)})\nsns.heatmap(corr, xticklabels=corr.columns.values, yticklabels=corr.columns.values)",
      "execution_count": 11,
      "outputs": [
        {
          "output_type": "execute_result",
          "execution_count": 11,
          "data": {
            "text/plain": "<AxesSubplot:>"
          },
          "metadata": {}
        },
        {
          "data": {
            "text/plain": "<Figure size 842.4x595.44 with 2 Axes>",
            "image/png": "[encoded data removed]"
          },
          "metadata": {
            "image/png": {
              "width": 777,
              "height": 610
            }
          },
          "output_type": "display_data"
        }
      ]
    },
    {
      "cell_type": "code",
      "metadata": {
        "tags": [],
        "cell_id": "00008-64da7285-2484-4f28-be4e-d56c3f43c27a",
        "deepnote_to_be_reexecuted": false,
        "source_hash": "f92a5af",
        "execution_millis": 333474,
        "execution_start": 1619833484187,
        "deepnote_cell_type": "code"
      },
      "source": "# Run simple models\nfrom sklearn import linear_model\nimport numpy as np\nfrom sklearn.model_selection import RepeatedStratifiedKFold\nfrom sklearn.model_selection import cross_val_score\nfrom sklearn.linear_model import LogisticRegression\nfrom sklearn.preprocessing import StandardScaler, MinMaxScaler\nfrom sklearn.neighbors import KNeighborsClassifier\nfrom sklearn.neural_network import MLPClassifier\nfrom sklearn.gaussian_process import GaussianProcessClassifier\nfrom sklearn.tree import DecisionTreeClassifier\nfrom sklearn.ensemble import GradientBoostingClassifier\nfrom sklearn.ensemble import RandomForestClassifier, AdaBoostClassifier, VotingClassifier\nfrom sklearn.linear_model import PassiveAggressiveClassifier, RidgeClassifier\n\nxtrain, ytrain = get_training_data()\nscaler = MinMaxScaler()\nscaler.fit(xtrain)\nxtrain = scaler.transform(xtrain)\nprint(ytrain.value_counts(normalize=True) * 100)\n\ndef test_model(mod, name):\n    cv = RepeatedStratifiedKFold(n_splits=10, n_repeats=10, random_state=42)\n    scores = cross_val_score(mod, X_train, y_train, scoring='accuracy', cv=cv, n_jobs=-1)\n    print(name + ' accuracy: %.3f (%.3f)' % (np.mean(scores), np.std(scores)))\n\n\ntest_model(LogisticRegression(), \"Logistic Regression\")\ntest_model(KNeighborsClassifier(), \"K Neighbors\")\n\ntest_model(DecisionTreeClassifier(), \"Decision Tree\")\ntest_model(RidgeClassifier(), \"Ridge Classifier\")\ntest_model(PassiveAggressiveClassifier(), \"PA\")\n# test_model(GaussianProcessClassifier(), \"GP\")\ntest_model(GradientBoostingClassifier(), \"Gradient Boosting\")\ntest_model(RandomForestClassifier(), \"Random Forest\")\ntest_model(AdaBoostClassifier(), \"AdaBoost\")\ntest_model(MLPClassifier(), \"MLP\")\n\ntest_model(VotingClassifier(estimators=[('rf', RandomForestClassifier()), ('rr', RidgeClassifier(alpha = 2.5)), ('ab', AdaBoostClassifier())]), \"voting\")",
      "execution_count": 68,
      "outputs": [
        {
          "name": "stdout",
          "text": "1    54.557885\n0    45.442115\nName: Y, dtype: float64\nLogistic Regression accuracy: 0.543 (0.008)\nK Neighbors accuracy: 0.519 (0.033)\nDecision Tree accuracy: 0.507 (0.037)\nRidge Classifier accuracy: 0.555 (0.029)\nPA accuracy: 0.503 (0.037)\nGradient Boosting accuracy: 0.541 (0.028)\nRandom Forest accuracy: 0.522 (0.032)\nAdaBoost accuracy: 0.528 (0.033)\nMLP accuracy: 0.506 (0.039)\nvoting accuracy: 0.539 (0.030)\n",
          "output_type": "stream"
        }
      ]
    },
    {
      "cell_type": "code",
      "metadata": {
        "tags": [],
        "cell_id": "00008-f38c6a6e-573f-4901-b549-c18d65cbee07",
        "deepnote_to_be_reexecuted": true,
        "source_hash": "583bd438",
        "execution_start": 1619803661050,
        "execution_millis": 154193,
        "deepnote_cell_type": "code"
      },
      "source": "# Parameter tuning\nfrom sklearn.model_selection import RandomizedSearchCV\n\"\"\"\noptions = dict(alpha=[0.1, 0.5, 1.0, 1.5, 2.5, 5, 10])\nr = RandomizedSearchCV(RidgeClassifier(), options, random_state=42)\nr.fit(xtrain, ytrain)\nprint(r.best_params_)\ntest_model(RidgeClassifier(alpha=2.5), \"ro\")\n\noptions = dict(n_estimators=[int(x) for x in np.linspace(start = 200, stop = 2000, num = 10)], max_features = ['auto', 'sqrt'], max_depth = [int(x) for x in np.linspace(10, 110, num = 11)], min_samples_split = [2, 5, 10], min_samples_leaf = [1, 2, 4], bootstrap = [True, False])\nr = RandomizedSearchCV(RandomForestClassifier(), options, random_state=42, verbose=3)\nr.fit(xtrain, ytrain)\nprint(r.best_params_)\n\"\"\"",
      "execution_count": null,
      "outputs": [
        {
          "name": "stdout",
          "text": "rf accuracy: 0.540 (0.030)\n",
          "output_type": "stream"
        }
      ]
    },
    {
      "cell_type": "code",
      "metadata": {
        "tags": [],
        "cell_id": "00008-ee9f1a91-8923-4bee-bae7-2387ae06a985",
        "deepnote_to_be_reexecuted": false,
        "source_hash": "2991669",
        "execution_start": 1619836660670,
        "execution_millis": 10676,
        "output_cleared": false,
        "deepnote_cell_type": "code"
      },
      "source": "import tensorflow as tf\nfrom tensorflow import keras\nfrom tensorflow.keras import layers\nfrom keras.models import Sequential\nfrom keras.layers import Dense\nfrom keras.layers import Dropout\nfrom sklearn.preprocessing import StandardScaler, MinMaxScaler\nfrom sklearn.model_selection import StratifiedKFold\nfrom sklearn.pipeline import Pipeline\nfrom keras.wrappers.scikit_learn import KerasClassifier\n\nxtrain, ytrain = get_training_data()\n\ndef build():\n    model = Sequential()\n    model.add(Dense(64, input_dim=16, activation='relu'))\n    model.add(Dense(1, activation='sigmoid'))\n    # Compile model\n    model.compile(loss='binary_crossentropy', optimizer='adam', metrics=['accuracy'])\n    return model;\n\nestimator = []\nestimator.append((\"standardize\", StandardScaler()))\nestimator.append((\"nn\",KerasClassifier(build_fn=build, epochs=10, batch_size=32, verbose=1)))\npipe = Pipeline(estimator)\nkfold = StratifiedKFold()\nresults = cross_val_score(pipe, xtrain, ytrain, cv=kfold)\n\nprint(\"Baseline: %.2f%% (%.2f%%)\" % (results.mean()*100, results.std()*100))\n\n#test_model(VotingClassifier(estimators=[('mlp', MLPClassifier()), ('rf', RandomForestClassifier()), ('rr', RidgeClassifier(alpha = 2.5)), ('ab', AdaBoostClassifier())], voting=\"hard\"), \"soft\")\n\n",
      "execution_count": 102,
      "outputs": [
        {
          "name": "stdout",
          "text": "Epoch 1/10\n55/55 [==============================] - 1s 2ms/step - loss: 0.7098 - accuracy: 0.5434\nEpoch 2/10\n55/55 [==============================] - 0s 2ms/step - loss: 0.6972 - accuracy: 0.5403\nEpoch 3/10\n55/55 [==============================] - 0s 2ms/step - loss: 0.6813 - accuracy: 0.5517\nEpoch 4/10\n55/55 [==============================] - 0s 2ms/step - loss: 0.6812 - accuracy: 0.5623\nEpoch 5/10\n55/55 [==============================] - 0s 2ms/step - loss: 0.6753 - accuracy: 0.5749\nEpoch 6/10\n55/55 [==============================] - 0s 2ms/step - loss: 0.6736 - accuracy: 0.5729\nEpoch 7/10\n55/55 [==============================] - 0s 2ms/step - loss: 0.6790 - accuracy: 0.5539\nEpoch 8/10\n55/55 [==============================] - 0s 2ms/step - loss: 0.6727 - accuracy: 0.5849\nEpoch 9/10\n55/55 [==============================] - 0s 2ms/step - loss: 0.6721 - accuracy: 0.5691\nEpoch 10/10\n55/55 [==============================] - 0s 2ms/step - loss: 0.6657 - accuracy: 0.5950\n14/14 [==============================] - 0s 1ms/step - loss: 62.1199 - accuracy: 0.5399\nEpoch 1/10\n55/55 [==============================] - 1s 2ms/step - loss: 0.7144 - accuracy: 0.5048\nEpoch 2/10\n55/55 [==============================] - 0s 2ms/step - loss: 0.6936 - accuracy: 0.5323\nEpoch 3/10\n55/55 [==============================] - 0s 2ms/step - loss: 0.6784 - accuracy: 0.5643\nEpoch 4/10\n55/55 [==============================] - 0s 2ms/step - loss: 0.6760 - accuracy: 0.5630\nEpoch 5/10\n55/55 [==============================] - 0s 2ms/step - loss: 0.6859 - accuracy: 0.5553\nEpoch 6/10\n55/55 [==============================] - 0s 4ms/step - loss: 0.6841 - accuracy: 0.5499\nEpoch 7/10\n55/55 [==============================] - 0s 6ms/step - loss: 0.6798 - accuracy: 0.5541\nEpoch 8/10\n55/55 [==============================] - 0s 4ms/step - loss: 0.6744 - accuracy: 0.5912\nEpoch 9/10\n55/55 [==============================] - 0s 2ms/step - loss: 0.6724 - accuracy: 0.5781\nEpoch 10/10\n55/55 [==============================] - 0s 2ms/step - loss: 0.6740 - accuracy: 0.5742\n14/14 [==============================] - 0s 2ms/step - loss: 0.6926 - accuracy: 0.5216\nEpoch 1/10\n55/55 [==============================] - 1s 5ms/step - loss: 0.7116 - accuracy: 0.4981\nEpoch 2/10\n55/55 [==============================] - 0s 6ms/step - loss: 0.6916 - accuracy: 0.5567\nEpoch 3/10\n55/55 [==============================] - 0s 3ms/step - loss: 0.6898 - accuracy: 0.5340\nEpoch 4/10\n55/55 [==============================] - 0s 3ms/step - loss: 0.6820 - accuracy: 0.5464\nEpoch 5/10\n55/55 [==============================] - 0s 2ms/step - loss: 0.6785 - accuracy: 0.5625\nEpoch 6/10\n55/55 [==============================] - 0s 2ms/step - loss: 0.6818 - accuracy: 0.5445\nEpoch 7/10\n55/55 [==============================] - 0s 2ms/step - loss: 0.6751 - accuracy: 0.5785\nEpoch 8/10\n55/55 [==============================] - 0s 2ms/step - loss: 0.6759 - accuracy: 0.5896\nEpoch 9/10\n55/55 [==============================] - 0s 2ms/step - loss: 0.6750 - accuracy: 0.5725\nEpoch 10/10\n55/55 [==============================] - 0s 2ms/step - loss: 0.6760 - accuracy: 0.5806\n14/14 [==============================] - 0s 8ms/step - loss: 0.6874 - accuracy: 0.5923\nEpoch 1/10\n55/55 [==============================] - 1s 2ms/step - loss: 0.7011 - accuracy: 0.5192\nEpoch 2/10\n55/55 [==============================] - 0s 2ms/step - loss: 0.6949 - accuracy: 0.5287\nEpoch 3/10\n55/55 [==============================] - 0s 2ms/step - loss: 0.6832 - accuracy: 0.5720\nEpoch 4/10\n55/55 [==============================] - 0s 3ms/step - loss: 0.6817 - accuracy: 0.5726\nEpoch 5/10\n55/55 [==============================] - 0s 2ms/step - loss: 0.6810 - accuracy: 0.5663\nEpoch 6/10\n55/55 [==============================] - 0s 2ms/step - loss: 0.6741 - accuracy: 0.5851\nEpoch 7/10\n55/55 [==============================] - 0s 2ms/step - loss: 0.6819 - accuracy: 0.5757\nEpoch 8/10\n55/55 [==============================] - 0s 2ms/step - loss: 0.6851 - accuracy: 0.5538\nEpoch 9/10\n55/55 [==============================] - 0s 2ms/step - loss: 0.6732 - accuracy: 0.5726\nEpoch 10/10\n55/55 [==============================] - 0s 2ms/step - loss: 0.6702 - accuracy: 0.5950\n14/14 [==============================] - 0s 2ms/step - loss: 0.6891 - accuracy: 0.5308\nEpoch 1/10\n55/55 [==============================] - 1s 4ms/step - loss: 0.7237 - accuracy: 0.5183\nEpoch 2/10\n55/55 [==============================] - 0s 2ms/step - loss: 0.6913 - accuracy: 0.5138\nEpoch 3/10\n55/55 [==============================] - 0s 2ms/step - loss: 0.6820 - accuracy: 0.5796\nEpoch 4/10\n55/55 [==============================] - 0s 3ms/step - loss: 0.6775 - accuracy: 0.5861\nEpoch 5/10\n55/55 [==============================] - 0s 2ms/step - loss: 0.6749 - accuracy: 0.5713\nEpoch 6/10\n55/55 [==============================] - 0s 3ms/step - loss: 0.6737 - accuracy: 0.5763\nEpoch 7/10\n55/55 [==============================] - 0s 2ms/step - loss: 0.6776 - accuracy: 0.5596\nEpoch 8/10\n55/55 [==============================] - 0s 3ms/step - loss: 0.6724 - accuracy: 0.5788\nEpoch 9/10\n55/55 [==============================] - 0s 2ms/step - loss: 0.6708 - accuracy: 0.5832\nEpoch 10/10\n55/55 [==============================] - 0s 2ms/step - loss: 0.6728 - accuracy: 0.5695\n14/14 [==============================] - 0s 2ms/step - loss: 0.6887 - accuracy: 0.5434\nBaseline: 54.56% (2.45%)\n",
          "output_type": "stream"
        }
      ]
    },
    {
      "cell_type": "code",
      "source": "# Test Models\n\nfrom sklearn.metrics import accuracy_score\nfrom sklearn.metrics import precision_score\nfrom sklearn.metrics import recall_score\nfrom sklearn.linear_model import RidgeClassifier\n\nxtest, ytest = get_test_data()\nxtrain, ytrain = get_training_data()\n\n# scale Xs\nscaler = MinMaxScaler()\nscaler.fit(xtrain)\nxtrain = scaler.transform(xtrain)\nscaler = MinMaxScaler()\nscaler.fit(xtest)\nxtest = scaler.transform(xtest)\nprint(ytest.value_counts(normalize=True) * 100)\n\nridge = RidgeClassifier(alpha=2.5)\nridge.fit(xtrain, ytrain)\n\nyhat = ridge.predict(xtest)\nprint(accuracy_score(ytest, yhat))\nprint(precision_score(ytest, yhat))\nprint(recall_score(ytest, yhat))\n\nclf = KerasClassifier(build_fn=build, epochs=10, batch_size=32, verbose=0)\nclf.fit(xtrain, ytrain)\nyhat = clf.predict(xtest)\nprint(accuracy_score(ytest, yhat))\nprint(precision_score(ytest, yhat))\nprint(recall_score(ytest, yhat))",
      "metadata": {
        "tags": [],
        "cell_id": "00010-ea742902-d926-4cd4-88b8-5a18e2f65857",
        "deepnote_to_be_reexecuted": false,
        "source_hash": "4aea7a32",
        "execution_start": 1619836204015,
        "execution_millis": 2695,
        "deepnote_cell_type": "code"
      },
      "outputs": [
        {
          "name": "stdout",
          "text": "1    52.094718\n0    47.905282\nName: Y, dtype: float64\n0.5282331511839709\n0.5314685314685315\n0.7972027972027972\n0.5482695810564663\n0.5381526104417671\n0.9370629370629371\n/shared-libs/python3.7/py/lib/python3.7/site-packages/tensorflow/python/keras/engine/sequential.py:450: UserWarning: `model.predict_classes()` is deprecated and will be removed after 2021-01-01. Please use instead:* `np.argmax(model.predict(x), axis=-1)`,   if your model does multi-class classification   (e.g. if it uses a `softmax` last-layer activation).* `(model.predict(x) > 0.5).astype(\"int32\")`,   if your model does binary classification   (e.g. if it uses a `sigmoid` last-layer activation).\n  warnings.warn('`model.predict_classes()` is deprecated and '\n",
          "output_type": "stream"
        }
      ],
      "execution_count": 101
    },
    {
      "cell_type": "markdown",
      "source": "<a style='text-decoration:none;line-height:16px;display:flex;color:#5B5B62;padding:10px;justify-content:end;' href='https://deepnote.com?utm_source=created-in-deepnote-cell&projectId=1a209e17-199c-4870-98fa-a9ef0ffeed4c' target=\"_blank\">\n<img alt='Created in deepnote.com' style='display:inline;max-height:16px;margin:0px;margin-right:7.5px;' src='data:image/svg+xml;base64,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' > </img>\nCreated in <span style='font-weight:600;margin-left:4px;'>Deepnote</span></a>",
      "metadata": {
        "tags": [],
        "created_in_deepnote_cell": true,
        "deepnote_cell_type": "markdown"
      }
    }
  ],
  "nbformat": 4,
  "nbformat_minor": 2,
  "metadata": {
    "orig_nbformat": 2,
    "deepnote": {
      "is_reactive": false
    },
    "deepnote_notebook_id": "62ec2aad-9005-4bda-861b-3f135519d929",
    "deepnote_execution_queue": []
  }
}