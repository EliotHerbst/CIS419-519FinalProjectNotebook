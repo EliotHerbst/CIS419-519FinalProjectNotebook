{
  "cells": [
    {
      "cell_type": "code",
      "metadata": {
        "tags": [],
        "cell_id": "00000-3d399415-8a0a-4ad2-9062-8c1ef5fda577",
        "deepnote_to_be_reexecuted": false,
        "source_hash": "ac3a7c81",
        "execution_millis": 0,
        "execution_start": 1619793328307,
        "deepnote_cell_type": "code"
      },
      "source": "import dateutil.parser\nimport pandas as pd\nfrom dateutil.relativedelta import relativedelta",
      "execution_count": null,
      "outputs": []
    },
    {
      "cell_type": "code",
      "metadata": {
        "tags": [],
        "cell_id": "00001-e209e967-d738-433b-86b0-44c4d8320650",
        "deepnote_to_be_reexecuted": false,
        "source_hash": "bb64ae5f",
        "execution_millis": 88,
        "execution_start": 1619793329632,
        "deepnote_cell_type": "code"
      },
      "source": "# Read csvs\n#Need to modify standard commodities to fit 247 BTC model\nGLD = pd.read_csv(\"GLD_With_Weekends.csv\")\nSPY = pd.read_csv(\"SPY_With_Weekends.csv\")\nTSLA = pd.read_csv(\"TSLA_With_Weekends.csv\")\nSent = pd.read_csv(\"sentiment_dataset.csv\")\nBTC = pd.read_csv(\"BTC.csv\")\nGAD = pd.read_csv(\"GAD.csv\")\nGAM = pd.read_csv(\"GAM.csv\")\ntt = pd.read_csv(\"n-transactions-total.csv\")\nhr = pd.read_csv(\"hash-rate.csv\")\nmc = pd.read_csv(\"market-cap.csv\")\nbs = pd.read_csv(\"blocks-size.csv\")\n\nprint(\"Gold: \" + str(GLD[\"Date W/ Weekend\"][0]) + \" \" + str(GLD[\"Date W/ Weekend\"][len(GLD) - 1]))\nprint(\"SPY: \" + str(SPY[\"Date W/ Weekends\"][0]) + \" \" + str(SPY[\"Date W/ Weekends\"][len(SPY) - 1]))\nprint(\"TSLA: \" + str(TSLA[\"Date W/ Weekends\"][0]) + \" \" + str(TSLA[\"Date W/ Weekends\"][len(TSLA) - 1]))\nprint(\"Sentiment: \" + str(Sent[\"date\"][0]) + \" \"  + str(Sent[\"date\"][len(Sent) - 1]))\nprint(\"GAD: \" +str(GAD[\"Day\"][0]) + \" \" + str(GAD[\"Day\"][len(GAD) - 1]))\nprint(\"GAM: \" + str(GAM[\"Month\"][0]) + \" \" + str(GAM[\"Month\"][len(GAM) - 1]))\nprint(\"BTC: \" + str(BTC[\"Date\"][0]) + \" \" + str(BTC[\"Date\"][len(BTC) - 1]))",
      "execution_count": null,
      "outputs": [
        {
          "name": "stdout",
          "text": "Gold: 1/2/2008 4/9/2021\nSPY: 1/2/2008 4/9/2021\nTSLA: 6/30/2010 4/9/2021\nSentiment: 2021-04-15 2013-09-30\nGAD: 4/14/2021 4/16/2013\nGAM: 2013-05 2021-04\nBTC: 2013-10-01 2021-04-15\n",
          "output_type": "stream"
        }
      ]
    },
    {
      "cell_type": "code",
      "metadata": {
        "tags": [],
        "cell_id": "00002-4919afb5-594a-4cba-a260-9f1fef5c89de",
        "deepnote_to_be_reexecuted": false,
        "source_hash": "8c73471f",
        "execution_start": 1619804722003,
        "execution_millis": 5515,
        "deepnote_cell_type": "code"
      },
      "source": "!pip install --upgrade ta\n",
      "execution_count": null,
      "outputs": [
        {
          "name": "stdout",
          "text": "Collecting ta\n  Downloading ta-0.7.0.tar.gz (25 kB)\nRequirement already satisfied: numpy in /shared-libs/python3.7/py/lib/python3.7/site-packages (from ta) (1.19.5)\nRequirement already satisfied: pandas in /shared-libs/python3.7/py/lib/python3.7/site-packages (from ta) (1.2.4)\nRequirement already satisfied: pytz>=2017.3 in /shared-libs/python3.7/py/lib/python3.7/site-packages (from pandas->ta) (2021.1)\nRequirement already satisfied: python-dateutil>=2.7.3 in /shared-libs/python3.7/py-core/lib/python3.7/site-packages (from pandas->ta) (2.8.1)\nRequirement already satisfied: six>=1.5 in /shared-libs/python3.7/py-core/lib/python3.7/site-packages (from python-dateutil>=2.7.3->pandas->ta) (1.15.0)\nBuilding wheels for collected packages: ta\n  Building wheel for ta (setup.py) ... \u001b[?25ldone\n\u001b[?25h  Created wheel for ta: filename=ta-0.7.0-py3-none-any.whl size=28718 sha256=0ad7825f4aae5bda581b8ed7bd2939577d174d548ad7f53fc10f82a87cc713f0\n  Stored in directory: /root/.cache/pip/wheels/5e/74/e0/72395003bd1d3c8f3f5860c2d180ff15699e47a2733d8ebd38\nSuccessfully built ta\nInstalling collected packages: ta\nSuccessfully installed ta-0.7.0\n\u001b[33mWARNING: You are using pip version 21.0.1; however, version 21.1 is available.\nYou should consider upgrading via the '/root/venv/bin/python -m pip install --upgrade pip' command.\u001b[0m\n",
          "output_type": "stream"
        }
      ]
    },
    {
      "cell_type": "code",
      "metadata": {
        "tags": [],
        "cell_id": "00002-c4efef8a-0aef-440d-8ee4-8aeb96555994",
        "deepnote_to_be_reexecuted": false,
        "source_hash": "ef469340",
        "execution_millis": 20183,
        "output_cleared": false,
        "execution_start": 1619802588505,
        "deepnote_cell_type": "code"
      },
      "source": "# Merge DataFrames\n\nstart_date = dateutil.parser.isoparse(\"2013-10-01\")\nend_date = dateutil.parser.isoparse(\"2021-04-08\")\nGLD_format = \"%-m/%-d/%Y\"\nSentiment_format = \"%Y-%m-%d\"\nGAM_format = \"%Y-%m\"\n\ncolumns =[\"HR \" + x for x in hr.columns.to_list()] + [\"MC \" + x for x in mc.columns.to_list()] + [\"BS \" + x for x in bs.columns.to_list()] + [\"TT \" + x for x in tt.columns.to_list()] + [\"GLD \" + x for x in GLD.columns.to_list()] + [\"SPY \" + x for x in SPY.columns.to_list()] + [\"TSLA \" + x for x in TSLA.columns.to_list()] + [\"GAD \" + x for x in GAD.columns.to_list()] + [\"GAM \" + x for x in GAM.columns.to_list()] + [\"SENT \" + x for x in Sent.columns.to_list()] + [\"BTC \" + x for x in BTC.columns.to_list()]\n\n\ndata_list = []\nwhile start_date <= end_date:\n    start_date = start_date + relativedelta(days=1)\n    hr_day = hr.loc[hr[\"Date\"] == start_date.strftime(GLD_format)]\n    mc_day = mc.loc[mc[\"Date\"] == start_date.strftime(GLD_format)]\n    bs_day = bs.loc[bs[\"date\"] == start_date.strftime(GLD_format)]\n    tt_day = tt.loc[tt[\"Date\"] == start_date.strftime(GLD_format)]\n    gold_day = GLD.loc[GLD[\"Date W/ Weekend\"] == start_date.strftime(GLD_format)]\n    spy_day = SPY.loc[SPY[\"Date W/ Weekends\"] == start_date.strftime(GLD_format)]\n    tsla_day = TSLA.loc[TSLA[\"Date W/ Weekends\"] == start_date.strftime(GLD_format)]\n    sent_day = Sent.loc[Sent[\"date\"] == start_date.strftime(Sentiment_format)]\n    ga_day = GAD.loc[GAD[\"Day\"] == start_date.strftime(GLD_format)]\n    ga_month = GAM.loc[GAM[\"Month\"] == start_date.strftime(GAM_format)]\n    btc_day = BTC.loc[BTC[\"Date\"] == start_date.strftime(Sentiment_format)]\n    data = sum(hr_day.values.tolist(), []) + sum(mc_day.values.tolist(), [])+ sum(bs_day.values.tolist(), []) + sum(tt_day.values.tolist(), []) +sum(gold_day.values.tolist(), []) + sum(spy_day.values.tolist(),[]) + sum(tsla_day.values.tolist(),[]) + sum(ga_day.values.tolist(),[]) + sum(ga_month.values.tolist(),[]) + sum(sent_day.values.tolist(),[]) + sum(btc_day.values.tolist(),[])\n    data_list.append(data)\ndf = pd.DataFrame(columns=columns, data=data_list)\ndel df[\"GAD Unnamed: 2\"]\ndel df[\"GAD in 8 month segments\"]\n\"\"\"\n#inserting new feature Trailing 30-day BTC Price\ndf[\"BTC Trailing 30-Day Avg\"]=df[\"BTC Closing Price (USD)\"]\nfor i in range(30,len(df)):\n    df[\"BTC Trailing 30-Day Avg\"][i]=df[\"BTC Closing Price (USD)\"][i-30:i].mean()\n\"\"\"\ndef get_data():\n    rdf = df.copy(deep=True)\n    return rdf  \nprint(df) \n",
      "execution_count": null,
      "outputs": [
        {
          "name": "stdout",
          "text": "        HR Date  HR hash-rate    MC Date  MC market-cap    BS date  \\\n0     10/2/2013  1.213246e+03  10/2/2013   1.486635e+09  10/2/2013   \n1     10/3/2013  1.538751e+03  10/3/2013   1.224109e+09  10/3/2013   \n2     10/4/2013  1.538751e+03  10/4/2013   1.224109e+09  10/4/2013   \n3     10/5/2013  1.538751e+03  10/5/2013   1.438749e+09  10/5/2013   \n4     10/6/2013  1.900663e+03  10/6/2013   1.438749e+09  10/6/2013   \n...         ...           ...        ...            ...        ...   \n2742   4/5/2021  1.506721e+08   4/5/2021   1.080000e+12   4/5/2021   \n2743   4/6/2021  1.656242e+08   4/6/2021   1.080000e+12   4/6/2021   \n2744   4/7/2021  1.656242e+08   4/7/2021   1.050000e+12   4/7/2021   \n2745   4/8/2021  1.656242e+08   4/8/2021   1.050000e+12   4/8/2021   \n2746   4/9/2021  1.748256e+08   4/9/2021   1.050000e+12   4/9/2021   \n\n      BS block-size    TT Date  TT n-transactions-total GLD Date W/ Weekend  \\\n0       11295.90301  10/2/2013                 24732277           10/2/2013   \n1       11295.90301  10/3/2013                 24732277           10/3/2013   \n2       11295.90301  10/4/2013                 24732277           10/4/2013   \n3       11379.08463  10/5/2013                 24905523           10/5/2013   \n4       11379.08463  10/6/2013                 24905523           10/6/2013   \n...             ...        ...                      ...                 ...   \n2742   337415.78310   4/5/2021                631110144            4/5/2021   \n2743   337415.78310   4/6/2021                631110144            4/6/2021   \n2744   337415.78310   4/7/2021                631110144            4/7/2021   \n2745   338033.73910   4/8/2021                632029917            4/8/2021   \n2746   338033.73910   4/9/2021                632029917            4/9/2021   \n\n        GLD Open  ...  SENT neg  SENT neu  SENT pos  SENT compound  \\\n0     125.370003  ...     0.049     0.848     0.103         0.9819   \n1     126.769997  ...     0.059     0.829     0.112         0.9821   \n2     127.050003  ...     0.055     0.854     0.091         0.9576   \n3     127.050003  ...     0.064     0.730     0.206         0.9971   \n4     127.050003  ...     0.063     0.811     0.126         0.9844   \n...          ...  ...       ...       ...       ...            ...   \n2742  161.520004  ...     0.064     0.767     0.169         0.9957   \n2743  162.789993  ...     0.065     0.808     0.127         0.9898   \n2744  162.820007  ...     0.054     0.818     0.128         0.9958   \n2745  164.169998  ...     0.049     0.756     0.195         0.9989   \n2746  162.750000  ...     0.010     0.788     0.202         0.9993   \n\n      BTC Currency    BTC Date  BTC Closing Price (USD)  BTC 24h Open (USD)  \\\n0              BTC  2013-10-02               125.455000          123.654990   \n1              BTC  2013-10-03               108.584830          125.455000   \n2              BTC  2013-10-04               118.674660          108.584830   \n3              BTC  2013-10-05               121.338660          118.674660   \n4              BTC  2013-10-06               120.655330          121.338660   \n...            ...         ...                      ...                 ...   \n2742           BTC  2021-04-05             58843.559540        58230.675538   \n2743           BTC  2021-04-06             58040.187602        59133.655740   \n2744           BTC  2021-04-07             56508.942864        58030.621849   \n2745           BTC  2021-04-08             57880.905684        55996.080360   \n2746           BTC  2021-04-09             58171.909019        58094.744128   \n\n      BTC 24h High (USD)  BTC 24h Low (USD)  \n0             125.758500         123.633830  \n1             125.665660          83.328330  \n2             118.675000         107.058160  \n3             121.936330         118.005660  \n4             121.852160         120.554500  \n...                  ...                ...  \n2742        59243.036175       56846.969047  \n2743        59484.199475       57421.853085  \n2744        58645.772971       55541.906134  \n2745        58179.656864       55758.491178  \n2746        58880.821608       57717.859778  \n\n[2747 rows x 44 columns]\n",
          "output_type": "stream"
        }
      ]
    },
    {
      "cell_type": "code",
      "metadata": {
        "tags": [],
        "cell_id": "00003-cc42493b-88e5-43f8-859b-9764010bd521",
        "deepnote_to_be_reexecuted": false,
        "source_hash": "b87cc1db",
        "execution_millis": 143,
        "execution_start": 1619802958810,
        "deepnote_cell_type": "code"
      },
      "source": "# Prepare df for training\nimport numpy as np\nfrom sklearn.model_selection import train_test_split\n# delete unnecesary date columns\ndate_columns = [  \"BTC Date\",\"HR Date\", \"MC Date\", \"BS date\", \"TT Date\", \"GLD Date W/ Weekend\", \"SPY Date W/ Weekends\", \"TSLA Date W/ Weekends\", \"GAD Day\", \"GAM Month\", \"SENT date\"]\ndata_proc = get_data()\ndata_proc = data_proc.drop(date_columns, axis = 1)\n\n\ndata_proc = data_proc.drop([\"GAM  Bitcoin\"], axis = 1)\ndata_proc = data_proc.drop([\"BTC Currency\"], axis=1)\nunnecessary_columns = [\"BTC 24h Open (USD)\", \"GLD Open\", \"GLD High\", \"GLD Low\", \"GLD Adj Close\", \"SPY Open\", \"SPY High\", \"SPY Low\", \"SPY Adj Close\", \"TSLA Open\", \"TSLA High\", \"TSLA Low\", \"TSLA Adj Close\"]\ndata_proc = data_proc.drop(unnecessary_columns, axis = 1)\n\n# Getting X and Y Values (I let the Y Value be the next day's 24H Close)\n\n\n# Add pct change values\ndata_proc[\"GLD Change\"] = data_proc[\"GLD Close\"].pct_change()\ndata_proc[\"TSLA Change\"] = data_proc[\"TSLA Close\"].pct_change()\ndata_proc[\"SPY Change\"] = data_proc[\"SPY Close\"].pct_change()\n# Add gap features\ndata_proc[\"BTC diff\"] = data_proc[\"BTC 24h High (USD)\"] - data_proc[\"BTC 24h Low (USD)\"]\nfor x in range(3):\n    data_proc[\"BTC Change \" + str(x + 1) + \" Day\"] = data_proc[\"BTC Closing Price (USD)\"].pct_change(periods = x + 1)\ndata_proc = data_proc.drop(data_proc.head(3).index)\nY = data_proc[\"BTC Closing Price (USD)\"]\n# Make Y the classification target\nY = Y.pct_change()\nY = Y.apply(lambda x: 0 if x <= 0 else 1)\nY = Y.drop(Y.head(1).index) # drop first 2018-01-01\ndata_proc = data_proc.drop(data_proc.tail(1).index) # drop last row 2021-04-09\n\n\n\n# Now the Ys are each one day ahead of the Xs at the same index\ndata_proc[\"Y\"] = Y.values\n\n# convert large range Xs to log of themselves\ndata_proc[\"HR hash-rate\"] = np.log(data_proc[\"HR hash-rate\"])\ndata_proc[\"MC market-cap\"] = np.log(data_proc[\"MC market-cap\"])\ndata_proc[\"BS block-size\"] = np.log(data_proc[\"BS block-size\"])\ndata_proc[\"TT n-transactions-total\"] = np.log(data_proc[\"TT n-transactions-total\"])\ndata_proc[\"GLD Volume\"] = np.log(data_proc[\"GLD Volume\"])\ndata_proc[\"SPY Volume\"] = np.log(data_proc[\"SPY Volume\"])\ndata_proc[\"TSLA Volume\"] = np.log(data_proc[\"TSLA Volume\"])\ndata_proc[\"BTC Closing Price (USD)\"] = np.log(data_proc[\"BTC Closing Price (USD)\"])\ndata_proc[\"BTC 24h High (USD)\"] = np.log(data_proc[\"BTC 24h High (USD)\"])\ndata_proc[\"BTC 24h Low (USD)\"] = np.log(data_proc[\"BTC 24h Low (USD)\"])\n\n\n\n\n'''\nfor col in data_proc.columns.values:\n    for x in range(3):\n        data_proc[col + \" \" + str(x + 1)] = data_proc[col].shift(periods=x + 1)\n\n# drop first 6 rows\ndata_proc = data_proc.drop(data_proc.head(7).index) # drop first week of rows\n'''\n'''\nfor col in data_proc.columns.values:\n    data_proc[col + \" delta\"] = data_proc[col].pct_change()\n'''\nX = data_proc.drop(\"Y\", axis = 1)\nY = data_proc[\"Y\"]\n\ndata_proc = data_proc.sample(frac = 1, random_state = 42)\nX_train, X_test, y_train, y_test = train_test_split(X, Y, test_size=0.2, random_state=42)\n\n# Make data available\ndef get_all_data():\n    return data_proc.copy()\ndef get_training_data():\n    return X_train.copy(), y_train.copy()\n\n# Only for final validation, do not contaminate\ndef get_test_data():\n    return X_test.copy(), y_test.copy()\n\nget_training_data()[0]\n",
      "execution_count": null,
      "outputs": [
        {
          "output_type": "execute_result",
          "execution_count": 75,
          "data": {
            "application/vnd.deepnote.dataframe.v2+json": {
              "row_count": 2194,
              "column_count": 25,
              "columns": [
                {
                  "name": "HR hash-rate",
                  "dtype": "float64",
                  "stats": {
                    "unique_count": 881,
                    "nan_count": 0,
                    "min": "7.338726489846018",
                    "max": "18.967783732314153",
                    "histogram": [
                      {
                        "bin_start": 7.338726489846018,
                        "bin_end": 8.501632214092831,
                        "count": 39
                      },
                      {
                        "bin_start": 8.501632214092831,
                        "bin_end": 9.664537938339645,
                        "count": 44
                      },
                      {
                        "bin_start": 9.664537938339645,
                        "bin_end": 10.82744366258646,
                        "count": 71
                      },
                      {
                        "bin_start": 10.82744366258646,
                        "bin_end": 11.990349386833273,
                        "count": 90
                      },
                      {
                        "bin_start": 11.990349386833273,
                        "bin_end": 13.153255111080085,
                        "count": 370
                      },
                      {
                        "bin_start": 13.153255111080085,
                        "bin_end": 14.3161608353269,
                        "count": 217
                      },
                      {
                        "bin_start": 14.3161608353269,
                        "bin_end": 15.479066559573713,
                        "count": 252
                      },
                      {
                        "bin_start": 15.479066559573713,
                        "bin_end": 16.641972283820525,
                        "count": 164
                      },
                      {
                        "bin_start": 16.641972283820525,
                        "bin_end": 17.80487800806734,
                        "count": 374
                      },
                      {
                        "bin_start": 17.80487800806734,
                        "bin_end": 18.967783732314153,
                        "count": 573
                      }
                    ]
                  }
                },
                {
                  "name": "MC market-cap",
                  "dtype": "float64",
                  "stats": {
                    "unique_count": 722,
                    "nan_count": 0,
                    "min": "21.087039629033853",
                    "max": "27.753238748652798",
                    "histogram": [
                      {
                        "bin_start": 21.087039629033853,
                        "bin_end": 21.75365954099575,
                        "count": 34
                      },
                      {
                        "bin_start": 21.75365954099575,
                        "bin_end": 22.420279452957644,
                        "count": 350
                      },
                      {
                        "bin_start": 22.420279452957644,
                        "bin_end": 23.086899364919535,
                        "count": 477
                      },
                      {
                        "bin_start": 23.086899364919535,
                        "bin_end": 23.75351927688143,
                        "count": 172
                      },
                      {
                        "bin_start": 23.75351927688143,
                        "bin_end": 24.420139188843326,
                        "count": 41
                      },
                      {
                        "bin_start": 24.420139188843326,
                        "bin_end": 25.08675910080522,
                        "count": 204
                      },
                      {
                        "bin_start": 25.08675910080522,
                        "bin_end": 25.753379012767116,
                        "count": 389
                      },
                      {
                        "bin_start": 25.753379012767116,
                        "bin_end": 26.419998924729008,
                        "count": 407
                      },
                      {
                        "bin_start": 26.419998924729008,
                        "bin_end": 27.086618836690903,
                        "count": 42
                      },
                      {
                        "bin_start": 27.086618836690903,
                        "bin_end": 27.753238748652798,
                        "count": 78
                      }
                    ]
                  }
                },
                {
                  "name": "BS block-size",
                  "dtype": "float64",
                  "stats": {
                    "unique_count": 907,
                    "nan_count": 0,
                    "min": "9.339532267714008",
                    "max": "12.730900989305974",
                    "histogram": [
                      {
                        "bin_start": 9.339532267714008,
                        "bin_end": 9.678669139873204,
                        "count": 121
                      },
                      {
                        "bin_start": 9.678669139873204,
                        "bin_end": 10.0178060120324,
                        "count": 133
                      },
                      {
                        "bin_start": 10.0178060120324,
                        "bin_end": 10.356942884191596,
                        "count": 142
                      },
                      {
                        "bin_start": 10.356942884191596,
                        "bin_end": 10.696079756350795,
                        "count": 157
                      },
                      {
                        "bin_start": 10.696079756350795,
                        "bin_end": 11.03521662850999,
                        "count": 150
                      },
                      {
                        "bin_start": 11.03521662850999,
                        "bin_end": 11.374353500669187,
                        "count": 175
                      },
                      {
                        "bin_start": 11.374353500669187,
                        "bin_end": 11.713490372828383,
                        "count": 203
                      },
                      {
                        "bin_start": 11.713490372828383,
                        "bin_end": 12.05262724498758,
                        "count": 282
                      },
                      {
                        "bin_start": 12.05262724498758,
                        "bin_end": 12.391764117146778,
                        "count": 371
                      },
                      {
                        "bin_start": 12.391764117146778,
                        "bin_end": 12.730900989305974,
                        "count": 460
                      }
                    ]
                  }
                },
                {
                  "name": "TT n-transactions-total",
                  "dtype": "float64",
                  "stats": {
                    "unique_count": 907,
                    "nan_count": 0,
                    "min": "17.030600144068266",
                    "max": "20.264447288016086",
                    "histogram": [
                      {
                        "bin_start": 17.030600144068266,
                        "bin_end": 17.353984858463047,
                        "count": 129
                      },
                      {
                        "bin_start": 17.353984858463047,
                        "bin_end": 17.67736957285783,
                        "count": 156
                      },
                      {
                        "bin_start": 17.67736957285783,
                        "bin_end": 18.00075428725261,
                        "count": 152
                      },
                      {
                        "bin_start": 18.00075428725261,
                        "bin_end": 18.324139001647396,
                        "count": 168
                      },
                      {
                        "bin_start": 18.324139001647396,
                        "bin_end": 18.647523716042176,
                        "count": 140
                      },
                      {
                        "bin_start": 18.647523716042176,
                        "bin_end": 18.970908430436957,
                        "count": 166
                      },
                      {
                        "bin_start": 18.970908430436957,
                        "bin_end": 19.29429314483174,
                        "count": 188
                      },
                      {
                        "bin_start": 19.29429314483174,
                        "bin_end": 19.61767785922652,
                        "count": 300
                      },
                      {
                        "bin_start": 19.61767785922652,
                        "bin_end": 19.941062573621306,
                        "count": 335
                      },
                      {
                        "bin_start": 19.941062573621306,
                        "bin_end": 20.264447288016086,
                        "count": 460
                      }
                    ]
                  }
                },
                {
                  "name": "GLD Close",
                  "dtype": "float64",
                  "stats": {
                    "unique_count": 1294,
                    "nan_count": 0,
                    "min": "100.5",
                    "max": "193.889999",
                    "histogram": [
                      {
                        "bin_start": 100.5,
                        "bin_end": 109.8389999,
                        "count": 157
                      },
                      {
                        "bin_start": 109.8389999,
                        "bin_end": 119.1779998,
                        "count": 602
                      },
                      {
                        "bin_start": 119.1779998,
                        "bin_end": 128.51699969999999,
                        "count": 858
                      },
                      {
                        "bin_start": 128.51699969999999,
                        "bin_end": 137.8559996,
                        "count": 91
                      },
                      {
                        "bin_start": 137.8559996,
                        "bin_end": 147.1949995,
                        "count": 136
                      },
                      {
                        "bin_start": 147.1949995,
                        "bin_end": 156.5339994,
                        "count": 45
                      },
                      {
                        "bin_start": 156.5339994,
                        "bin_end": 165.8729993,
                        "count": 108
                      },
                      {
                        "bin_start": 165.8729993,
                        "bin_end": 175.21199919999998,
                        "count": 86
                      },
                      {
                        "bin_start": 175.21199919999998,
                        "bin_end": 184.5509991,
                        "count": 98
                      },
                      {
                        "bin_start": 184.5509991,
                        "bin_end": 193.889999,
                        "count": 13
                      }
                    ]
                  }
                },
                {
                  "name": "GLD Volume",
                  "dtype": "float64",
                  "stats": {
                    "unique_count": 1572,
                    "nan_count": 0,
                    "min": "14.222041764254437",
                    "max": "17.630030982031183",
                    "histogram": [
                      {
                        "bin_start": 14.222041764254437,
                        "bin_end": 14.56284068603211,
                        "count": 12
                      },
                      {
                        "bin_start": 14.56284068603211,
                        "bin_end": 14.903639607809787,
                        "count": 31
                      },
                      {
                        "bin_start": 14.903639607809787,
                        "bin_end": 15.24443852958746,
                        "count": 175
                      },
                      {
                        "bin_start": 15.24443852958746,
                        "bin_end": 15.585237451365135,
                        "count": 380
                      },
                      {
                        "bin_start": 15.585237451365135,
                        "bin_end": 15.92603637314281,
                        "count": 646
                      },
                      {
                        "bin_start": 15.92603637314281,
                        "bin_end": 16.266835294920483,
                        "count": 520
                      },
                      {
                        "bin_start": 16.266835294920483,
                        "bin_end": 16.60763421669816,
                        "count": 306
                      },
                      {
                        "bin_start": 16.60763421669816,
                        "bin_end": 16.948433138475835,
                        "count": 86
                      },
                      {
                        "bin_start": 16.948433138475835,
                        "bin_end": 17.289232060253507,
                        "count": 29
                      },
                      {
                        "bin_start": 17.289232060253507,
                        "bin_end": 17.630030982031183,
                        "count": 9
                      }
                    ]
                  }
                },
                {
                  "name": "SPY Close",
                  "dtype": "float64",
                  "stats": {
                    "unique_count": 1504,
                    "nan_count": 0,
                    "min": "165.479996",
                    "max": "408.519989",
                    "histogram": [
                      {
                        "bin_start": 165.479996,
                        "bin_end": 189.78399530000002,
                        "count": 212
                      },
                      {
                        "bin_start": 189.78399530000002,
                        "bin_end": 214.0879946,
                        "count": 615
                      },
                      {
                        "bin_start": 214.0879946,
                        "bin_end": 238.3919939,
                        "count": 214
                      },
                      {
                        "bin_start": 238.3919939,
                        "bin_end": 262.6959932,
                        "count": 223
                      },
                      {
                        "bin_start": 262.6959932,
                        "bin_end": 286.9999925,
                        "count": 373
                      },
                      {
                        "bin_start": 286.9999925,
                        "bin_end": 311.3039918,
                        "count": 236
                      },
                      {
                        "bin_start": 311.3039918,
                        "bin_end": 335.60799110000005,
                        "count": 136
                      },
                      {
                        "bin_start": 335.60799110000005,
                        "bin_end": 359.91199040000004,
                        "count": 73
                      },
                      {
                        "bin_start": 359.91199040000004,
                        "bin_end": 384.2159897,
                        "count": 64
                      },
                      {
                        "bin_start": 384.2159897,
                        "bin_end": 408.519989,
                        "count": 48
                      }
                    ]
                  }
                },
                {
                  "name": "SPY Volume",
                  "dtype": "float64",
                  "stats": {
                    "unique_count": 1581,
                    "nan_count": 0,
                    "min": "16.824652518428184",
                    "max": "20.04450329954447",
                    "histogram": [
                      {
                        "bin_start": 16.824652518428184,
                        "bin_end": 17.14663759653981,
                        "count": 7
                      },
                      {
                        "bin_start": 17.14663759653981,
                        "bin_end": 17.468622674651442,
                        "count": 30
                      },
                      {
                        "bin_start": 17.468622674651442,
                        "bin_end": 17.79060775276307,
                        "count": 221
                      },
                      {
                        "bin_start": 17.79060775276307,
                        "bin_end": 18.1125928308747,
                        "count": 517
                      },
                      {
                        "bin_start": 18.1125928308747,
                        "bin_end": 18.434577908986327,
                        "count": 623
                      },
                      {
                        "bin_start": 18.434577908986327,
                        "bin_end": 18.756562987097954,
                        "count": 451
                      },
                      {
                        "bin_start": 18.756562987097954,
                        "bin_end": 19.078548065209585,
                        "count": 222
                      },
                      {
                        "bin_start": 19.078548065209585,
                        "bin_end": 19.400533143321212,
                        "count": 90
                      },
                      {
                        "bin_start": 19.400533143321212,
                        "bin_end": 19.722518221432843,
                        "count": 28
                      },
                      {
                        "bin_start": 19.722518221432843,
                        "bin_end": 20.04450329954447,
                        "count": 5
                      }
                    ]
                  }
                },
                {
                  "name": "TSLA Close",
                  "dtype": "float64",
                  "stats": {
                    "unique_count": 1542,
                    "nan_count": 0,
                    "min": "24.1",
                    "max": "883.090027",
                    "histogram": [
                      {
                        "bin_start": 24.1,
                        "bin_end": 109.9990027,
                        "count": 1855
                      },
                      {
                        "bin_start": 109.9990027,
                        "bin_end": 195.8980054,
                        "count": 98
                      },
                      {
                        "bin_start": 195.8980054,
                        "bin_end": 281.7970081,
                        "count": 21
                      },
                      {
                        "bin_start": 281.7970081,
                        "bin_end": 367.6960108,
                        "count": 32
                      },
                      {
                        "bin_start": 367.6960108,
                        "bin_end": 453.5950135,
                        "count": 67
                      },
                      {
                        "bin_start": 453.5950135,
                        "bin_end": 539.4940162,
                        "count": 9
                      },
                      {
                        "bin_start": 539.4940162,
                        "bin_end": 625.3930189,
                        "count": 22
                      },
                      {
                        "bin_start": 625.3930189,
                        "bin_end": 711.2920216,
                        "count": 49
                      },
                      {
                        "bin_start": 711.2920216,
                        "bin_end": 797.1910243,
                        "count": 13
                      },
                      {
                        "bin_start": 797.1910243,
                        "bin_end": 883.090027,
                        "count": 28
                      }
                    ]
                  }
                },
                {
                  "name": "TSLA Volume",
                  "dtype": "float64",
                  "stats": {
                    "unique_count": 1574,
                    "nan_count": 0,
                    "min": "15.079637285109957",
                    "max": "19.21875624678803",
                    "histogram": [
                      {
                        "bin_start": 15.079637285109957,
                        "bin_end": 15.493549181277764,
                        "count": 4
                      },
                      {
                        "bin_start": 15.493549181277764,
                        "bin_end": 15.907461077445571,
                        "count": 4
                      },
                      {
                        "bin_start": 15.907461077445571,
                        "bin_end": 16.32137297361338,
                        "count": 79
                      },
                      {
                        "bin_start": 16.32137297361338,
                        "bin_end": 16.735284869781186,
                        "count": 282
                      },
                      {
                        "bin_start": 16.735284869781186,
                        "bin_end": 17.149196765948993,
                        "count": 564
                      },
                      {
                        "bin_start": 17.149196765948993,
                        "bin_end": 17.5631086621168,
                        "count": 616
                      },
                      {
                        "bin_start": 17.5631086621168,
                        "bin_end": 17.977020558284607,
                        "count": 326
                      },
                      {
                        "bin_start": 17.977020558284607,
                        "bin_end": 18.390932454452415,
                        "count": 212
                      },
                      {
                        "bin_start": 18.390932454452415,
                        "bin_end": 18.804844350620222,
                        "count": 89
                      },
                      {
                        "bin_start": 18.804844350620222,
                        "bin_end": 19.21875624678803,
                        "count": 18
                      }
                    ]
                  }
                },
                {
                  "name": "GAD bitcoin",
                  "dtype": "int64",
                  "stats": {
                    "unique_count": 89,
                    "nan_count": 0,
                    "min": "3",
                    "max": "100",
                    "histogram": [
                      {
                        "bin_start": 3,
                        "bin_end": 12.7,
                        "count": 366
                      },
                      {
                        "bin_start": 12.7,
                        "bin_end": 22.4,
                        "count": 233
                      },
                      {
                        "bin_start": 22.4,
                        "bin_end": 32.099999999999994,
                        "count": 563
                      },
                      {
                        "bin_start": 32.099999999999994,
                        "bin_end": 41.8,
                        "count": 507
                      },
                      {
                        "bin_start": 41.8,
                        "bin_end": 51.5,
                        "count": 313
                      },
                      {
                        "bin_start": 51.5,
                        "bin_end": 61.199999999999996,
                        "count": 122
                      },
                      {
                        "bin_start": 61.199999999999996,
                        "bin_end": 70.89999999999999,
                        "count": 43
                      },
                      {
                        "bin_start": 70.89999999999999,
                        "bin_end": 80.6,
                        "count": 19
                      },
                      {
                        "bin_start": 80.6,
                        "bin_end": 90.3,
                        "count": 11
                      },
                      {
                        "bin_start": 90.3,
                        "bin_end": 100,
                        "count": 17
                      }
                    ]
                  }
                },
                {
                  "name": "SENT neg",
                  "dtype": "float64",
                  "stats": {
                    "unique_count": 135,
                    "nan_count": 0,
                    "min": "0.003",
                    "max": "0.181",
                    "histogram": [
                      {
                        "bin_start": 0.003,
                        "bin_end": 0.0208,
                        "count": 70
                      },
                      {
                        "bin_start": 0.0208,
                        "bin_end": 0.0386,
                        "count": 363
                      },
                      {
                        "bin_start": 0.0386,
                        "bin_end": 0.056400000000000006,
                        "count": 692
                      },
                      {
                        "bin_start": 0.056400000000000006,
                        "bin_end": 0.0742,
                        "count": 616
                      },
                      {
                        "bin_start": 0.0742,
                        "bin_end": 0.092,
                        "count": 284
                      },
                      {
                        "bin_start": 0.092,
                        "bin_end": 0.10980000000000001,
                        "count": 121
                      },
                      {
                        "bin_start": 0.10980000000000001,
                        "bin_end": 0.1276,
                        "count": 34
                      },
                      {
                        "bin_start": 0.1276,
                        "bin_end": 0.1454,
                        "count": 10
                      },
                      {
                        "bin_start": 0.1454,
                        "bin_end": 0.1632,
                        "count": 2
                      },
                      {
                        "bin_start": 0.1632,
                        "bin_end": 0.181,
                        "count": 2
                      }
                    ]
                  }
                },
                {
                  "name": "SENT neu",
                  "dtype": "float64",
                  "stats": {
                    "unique_count": 190,
                    "nan_count": 0,
                    "min": "0.696",
                    "max": "0.932",
                    "histogram": [
                      {
                        "bin_start": 0.696,
                        "bin_end": 0.7196,
                        "count": 8
                      },
                      {
                        "bin_start": 0.7196,
                        "bin_end": 0.7432,
                        "count": 84
                      },
                      {
                        "bin_start": 0.7432,
                        "bin_end": 0.7667999999999999,
                        "count": 223
                      },
                      {
                        "bin_start": 0.7667999999999999,
                        "bin_end": 0.7904,
                        "count": 437
                      },
                      {
                        "bin_start": 0.7904,
                        "bin_end": 0.8140000000000001,
                        "count": 514
                      },
                      {
                        "bin_start": 0.8140000000000001,
                        "bin_end": 0.8376,
                        "count": 464
                      },
                      {
                        "bin_start": 0.8376,
                        "bin_end": 0.8612,
                        "count": 303
                      },
                      {
                        "bin_start": 0.8612,
                        "bin_end": 0.8848,
                        "count": 128
                      },
                      {
                        "bin_start": 0.8848,
                        "bin_end": 0.9084000000000001,
                        "count": 24
                      },
                      {
                        "bin_start": 0.9084000000000001,
                        "bin_end": 0.932,
                        "count": 9
                      }
                    ]
                  }
                },
                {
                  "name": "SENT pos",
                  "dtype": "float64",
                  "stats": {
                    "unique_count": 169,
                    "nan_count": 0,
                    "min": "0.038",
                    "max": "0.265",
                    "histogram": [
                      {
                        "bin_start": 0.038,
                        "bin_end": 0.060700000000000004,
                        "count": 6
                      },
                      {
                        "bin_start": 0.060700000000000004,
                        "bin_end": 0.0834,
                        "count": 73
                      },
                      {
                        "bin_start": 0.0834,
                        "bin_end": 0.1061,
                        "count": 288
                      },
                      {
                        "bin_start": 0.1061,
                        "bin_end": 0.1288,
                        "count": 556
                      },
                      {
                        "bin_start": 0.1288,
                        "bin_end": 0.1515,
                        "count": 624
                      },
                      {
                        "bin_start": 0.1515,
                        "bin_end": 0.17420000000000002,
                        "count": 427
                      },
                      {
                        "bin_start": 0.17420000000000002,
                        "bin_end": 0.19690000000000002,
                        "count": 158
                      },
                      {
                        "bin_start": 0.19690000000000002,
                        "bin_end": 0.21960000000000002,
                        "count": 55
                      },
                      {
                        "bin_start": 0.21960000000000002,
                        "bin_end": 0.24230000000000002,
                        "count": 6
                      },
                      {
                        "bin_start": 0.24230000000000002,
                        "bin_end": 0.265,
                        "count": 1
                      }
                    ]
                  }
                },
                {
                  "name": "SENT compound",
                  "dtype": "float64",
                  "stats": {
                    "unique_count": 564,
                    "nan_count": 0,
                    "min": "-0.9898",
                    "max": "0.9996",
                    "histogram": [
                      {
                        "bin_start": -0.9898,
                        "bin_end": -0.79086,
                        "count": 34
                      },
                      {
                        "bin_start": -0.79086,
                        "bin_end": -0.59192,
                        "count": 11
                      },
                      {
                        "bin_start": -0.59192,
                        "bin_end": -0.39298,
                        "count": 10
                      },
                      {
                        "bin_start": -0.39298,
                        "bin_end": -0.19404,
                        "count": 8
                      },
                      {
                        "bin_start": -0.19404,
                        "bin_end": 0.0049000000000000155,
                        "count": 1
                      },
                      {
                        "bin_start": 0.0049000000000000155,
                        "bin_end": 0.20384000000000002,
                        "count": 10
                      },
                      {
                        "bin_start": 0.20384000000000002,
                        "bin_end": 0.40278000000000014,
                        "count": 11
                      },
                      {
                        "bin_start": 0.40278000000000014,
                        "bin_end": 0.60172,
                        "count": 13
                      },
                      {
                        "bin_start": 0.60172,
                        "bin_end": 0.8006599999999999,
                        "count": 31
                      },
                      {
                        "bin_start": 0.8006599999999999,
                        "bin_end": 0.9996,
                        "count": 2065
                      }
                    ]
                  }
                },
                {
                  "name": "BTC Closing Price (USD)",
                  "dtype": "float64",
                  "stats": {
                    "unique_count": 2194,
                    "nan_count": 0,
                    "min": "4.792937968467815",
                    "max": "11.005392780055068",
                    "histogram": [
                      {
                        "bin_start": 4.792937968467815,
                        "bin_end": 5.41418344962654,
                        "count": 54
                      },
                      {
                        "bin_start": 5.41418344962654,
                        "bin_end": 6.035428930785265,
                        "count": 389
                      },
                      {
                        "bin_start": 6.035428930785265,
                        "bin_end": 6.656674411943991,
                        "count": 442
                      },
                      {
                        "bin_start": 6.656674411943991,
                        "bin_end": 7.277919893102716,
                        "count": 157
                      },
                      {
                        "bin_start": 7.277919893102716,
                        "bin_end": 7.899165374261441,
                        "count": 50
                      },
                      {
                        "bin_start": 7.899165374261441,
                        "bin_end": 8.520410855420167,
                        "count": 190
                      },
                      {
                        "bin_start": 8.520410855420167,
                        "bin_end": 9.141656336578892,
                        "count": 490
                      },
                      {
                        "bin_start": 9.141656336578892,
                        "bin_end": 9.762901817737617,
                        "count": 303
                      },
                      {
                        "bin_start": 9.762901817737617,
                        "bin_end": 10.384147298896343,
                        "count": 42
                      },
                      {
                        "bin_start": 10.384147298896343,
                        "bin_end": 11.005392780055068,
                        "count": 77
                      }
                    ]
                  }
                },
                {
                  "name": "BTC 24h High (USD)",
                  "dtype": "float64",
                  "stats": {
                    "unique_count": 2194,
                    "nan_count": 0,
                    "min": "4.8028085066272705",
                    "max": "11.026028883355844",
                    "histogram": [
                      {
                        "bin_start": 4.8028085066272705,
                        "bin_end": 5.425130544300128,
                        "count": 49
                      },
                      {
                        "bin_start": 5.425130544300128,
                        "bin_end": 6.047452581972985,
                        "count": 394
                      },
                      {
                        "bin_start": 6.047452581972985,
                        "bin_end": 6.6697746196458425,
                        "count": 439
                      },
                      {
                        "bin_start": 6.6697746196458425,
                        "bin_end": 7.2920966573187,
                        "count": 161
                      },
                      {
                        "bin_start": 7.2920966573187,
                        "bin_end": 7.914418694991557,
                        "count": 45
                      },
                      {
                        "bin_start": 7.914418694991557,
                        "bin_end": 8.536740732664414,
                        "count": 195
                      },
                      {
                        "bin_start": 8.536740732664414,
                        "bin_end": 9.159062770337272,
                        "count": 491
                      },
                      {
                        "bin_start": 9.159062770337272,
                        "bin_end": 9.781384808010129,
                        "count": 300
                      },
                      {
                        "bin_start": 9.781384808010129,
                        "bin_end": 10.403706845682986,
                        "count": 39
                      },
                      {
                        "bin_start": 10.403706845682986,
                        "bin_end": 11.026028883355844,
                        "count": 81
                      }
                    ]
                  }
                },
                {
                  "name": "BTC 24h Low (USD)",
                  "dtype": "float64",
                  "stats": {
                    "unique_count": 2192,
                    "nan_count": 0,
                    "min": "4.770732589417023",
                    "max": "10.989954784875248",
                    "histogram": [
                      {
                        "bin_start": 4.770732589417023,
                        "bin_end": 5.392654808962845,
                        "count": 51
                      },
                      {
                        "bin_start": 5.392654808962845,
                        "bin_end": 6.014577028508668,
                        "count": 387
                      },
                      {
                        "bin_start": 6.014577028508668,
                        "bin_end": 6.636499248054491,
                        "count": 442
                      },
                      {
                        "bin_start": 6.636499248054491,
                        "bin_end": 7.258421467600313,
                        "count": 163
                      },
                      {
                        "bin_start": 7.258421467600313,
                        "bin_end": 7.880343687146135,
                        "count": 55
                      },
                      {
                        "bin_start": 7.880343687146135,
                        "bin_end": 8.502265906691958,
                        "count": 190
                      },
                      {
                        "bin_start": 8.502265906691958,
                        "bin_end": 9.12418812623778,
                        "count": 489
                      },
                      {
                        "bin_start": 9.12418812623778,
                        "bin_end": 9.746110345783602,
                        "count": 299
                      },
                      {
                        "bin_start": 9.746110345783602,
                        "bin_end": 10.368032565329425,
                        "count": 45
                      },
                      {
                        "bin_start": 10.368032565329425,
                        "bin_end": 10.989954784875248,
                        "count": 73
                      }
                    ]
                  }
                },
                {
                  "name": "GLD Change",
                  "dtype": "float64",
                  "stats": {
                    "unique_count": 1490,
                    "nan_count": 0,
                    "min": "-0.05369441137084652",
                    "max": "0.04903837274965972",
                    "histogram": [
                      {
                        "bin_start": -0.05369441137084652,
                        "bin_end": -0.04342113295879589,
                        "count": 2
                      },
                      {
                        "bin_start": -0.04342113295879589,
                        "bin_end": -0.03314785454674527,
                        "count": 3
                      },
                      {
                        "bin_start": -0.03314785454674527,
                        "bin_end": -0.02287457613469465,
                        "count": 12
                      },
                      {
                        "bin_start": -0.02287457613469465,
                        "bin_end": -0.012601297722644025,
                        "count": 92
                      },
                      {
                        "bin_start": -0.012601297722644025,
                        "bin_end": -0.002328019310593399,
                        "count": 409
                      },
                      {
                        "bin_start": -0.002328019310593399,
                        "bin_end": 0.00794525910145722,
                        "count": 1451
                      },
                      {
                        "bin_start": 0.00794525910145722,
                        "bin_end": 0.01821853751350784,
                        "count": 193
                      },
                      {
                        "bin_start": 0.01821853751350784,
                        "bin_end": 0.028491815925558467,
                        "count": 28
                      },
                      {
                        "bin_start": 0.028491815925558467,
                        "bin_end": 0.03876509433760909,
                        "count": 2
                      },
                      {
                        "bin_start": 0.03876509433760909,
                        "bin_end": 0.04903837274965972,
                        "count": 2
                      }
                    ]
                  }
                },
                {
                  "name": "TSLA Change",
                  "dtype": "float64",
                  "stats": {
                    "unique_count": 1497,
                    "nan_count": 0,
                    "min": "-0.21062826191815387",
                    "max": "0.19641210834813494",
                    "histogram": [
                      {
                        "bin_start": -0.21062826191815387,
                        "bin_end": -0.16992422489152498,
                        "count": 2
                      },
                      {
                        "bin_start": -0.16992422489152498,
                        "bin_end": -0.1292201878648961,
                        "count": 4
                      },
                      {
                        "bin_start": -0.1292201878648961,
                        "bin_end": -0.08851615083826724,
                        "count": 9
                      },
                      {
                        "bin_start": -0.08851615083826724,
                        "bin_end": -0.04781211381163836,
                        "count": 64
                      },
                      {
                        "bin_start": -0.04781211381163836,
                        "bin_end": -0.007108076785009465,
                        "count": 438
                      },
                      {
                        "bin_start": -0.007108076785009465,
                        "bin_end": 0.0335959602416194,
                        "count": 1512
                      },
                      {
                        "bin_start": 0.0335959602416194,
                        "bin_end": 0.07429999726824826,
                        "count": 130
                      },
                      {
                        "bin_start": 0.07429999726824826,
                        "bin_end": 0.11500403429487716,
                        "count": 25
                      },
                      {
                        "bin_start": 0.11500403429487716,
                        "bin_end": 0.15570807132150605,
                        "count": 7
                      },
                      {
                        "bin_start": 0.15570807132150605,
                        "bin_end": 0.19641210834813494,
                        "count": 3
                      }
                    ]
                  }
                },
                {
                  "name": "SPY Change",
                  "dtype": "float64",
                  "stats": {
                    "unique_count": 1497,
                    "nan_count": 0,
                    "min": "-0.1094237347171908",
                    "max": "0.0854863000867101",
                    "histogram": [
                      {
                        "bin_start": -0.1094237347171908,
                        "bin_end": -0.0899327312368007,
                        "count": 1
                      },
                      {
                        "bin_start": -0.0899327312368007,
                        "bin_end": -0.07044172775641062,
                        "count": 0
                      },
                      {
                        "bin_start": -0.07044172775641062,
                        "bin_end": -0.050950724276020536,
                        "count": 0
                      },
                      {
                        "bin_start": -0.050950724276020536,
                        "bin_end": -0.03145972079563045,
                        "count": 14
                      },
                      {
                        "bin_start": -0.03145972079563045,
                        "bin_end": -0.011968717315240351,
                        "count": 98
                      },
                      {
                        "bin_start": -0.011968717315240351,
                        "bin_end": 0.00752228616514973,
                        "count": 1816
                      },
                      {
                        "bin_start": 0.00752228616514973,
                        "bin_end": 0.027013289645539812,
                        "count": 252
                      },
                      {
                        "bin_start": 0.027013289645539812,
                        "bin_end": 0.04650429312592991,
                        "count": 9
                      },
                      {
                        "bin_start": 0.04650429312592991,
                        "bin_end": 0.06599529660632,
                        "count": 3
                      },
                      {
                        "bin_start": 0.06599529660632,
                        "bin_end": 0.0854863000867101,
                        "count": 1
                      }
                    ]
                  }
                },
                {
                  "name": "BTC diff",
                  "dtype": "float64",
                  "stats": {
                    "unique_count": 2193,
                    "nan_count": 0,
                    "min": "0.8316718455998853",
                    "max": "9755.113899227399",
                    "histogram": [
                      {
                        "bin_start": 0.8316718455998853,
                        "bin_end": 976.2598945837797,
                        "count": 2005
                      },
                      {
                        "bin_start": 976.2598945837797,
                        "bin_end": 1951.6881173219595,
                        "count": 92
                      },
                      {
                        "bin_start": 1951.6881173219595,
                        "bin_end": 2927.116340060139,
                        "count": 45
                      },
                      {
                        "bin_start": 2927.116340060139,
                        "bin_end": 3902.544562798319,
                        "count": 25
                      },
                      {
                        "bin_start": 3902.544562798319,
                        "bin_end": 4877.972785536499,
                        "count": 13
                      },
                      {
                        "bin_start": 4877.972785536499,
                        "bin_end": 5853.401008274678,
                        "count": 8
                      },
                      {
                        "bin_start": 5853.401008274678,
                        "bin_end": 6828.829231012858,
                        "count": 2
                      },
                      {
                        "bin_start": 6828.829231012858,
                        "bin_end": 7804.257453751038,
                        "count": 1
                      },
                      {
                        "bin_start": 7804.257453751038,
                        "bin_end": 8779.685676489218,
                        "count": 1
                      },
                      {
                        "bin_start": 8779.685676489218,
                        "bin_end": 9755.113899227399,
                        "count": 2
                      }
                    ]
                  }
                },
                {
                  "name": "BTC Change 1 Day",
                  "dtype": "float64",
                  "stats": {
                    "unique_count": 2194,
                    "nan_count": 0,
                    "min": "-0.2337021696821162",
                    "max": "0.25170538057228464",
                    "histogram": [
                      {
                        "bin_start": -0.2337021696821162,
                        "bin_end": -0.18516141465667613,
                        "count": 2
                      },
                      {
                        "bin_start": -0.18516141465667613,
                        "bin_end": -0.13662065963123604,
                        "count": 5
                      },
                      {
                        "bin_start": -0.13662065963123604,
                        "bin_end": -0.08807990460579596,
                        "count": 49
                      },
                      {
                        "bin_start": -0.08807990460579596,
                        "bin_end": -0.03953914958035587,
                        "count": 160
                      },
                      {
                        "bin_start": -0.03953914958035587,
                        "bin_end": 0.009001605445084215,
                        "count": 1175
                      },
                      {
                        "bin_start": 0.009001605445084215,
                        "bin_end": 0.0575423604705243,
                        "count": 650
                      },
                      {
                        "bin_start": 0.0575423604705243,
                        "bin_end": 0.10608311549596439,
                        "count": 113
                      },
                      {
                        "bin_start": 0.10608311549596439,
                        "bin_end": 0.15462387052140447,
                        "count": 28
                      },
                      {
                        "bin_start": 0.15462387052140447,
                        "bin_end": 0.20316462554684456,
                        "count": 9
                      },
                      {
                        "bin_start": 0.20316462554684456,
                        "bin_end": 0.25170538057228464,
                        "count": 3
                      }
                    ]
                  }
                },
                {
                  "name": "BTC Change 2 Day",
                  "dtype": "float64",
                  "stats": {
                    "unique_count": 2194,
                    "nan_count": 0,
                    "min": "-0.31335975794858917",
                    "max": "0.34706535657725457",
                    "histogram": [
                      {
                        "bin_start": -0.31335975794858917,
                        "bin_end": -0.24731724649600478,
                        "count": 3
                      },
                      {
                        "bin_start": -0.24731724649600478,
                        "bin_end": -0.18127473504342043,
                        "count": 6
                      },
                      {
                        "bin_start": -0.18127473504342043,
                        "bin_end": -0.11523222359083607,
                        "count": 49
                      },
                      {
                        "bin_start": -0.11523222359083607,
                        "bin_end": -0.049189712138251684,
                        "count": 193
                      },
                      {
                        "bin_start": -0.049189712138251684,
                        "bin_end": 0.0168527993143327,
                        "count": 1170
                      },
                      {
                        "bin_start": 0.0168527993143327,
                        "bin_end": 0.08289531076691703,
                        "count": 614
                      },
                      {
                        "bin_start": 0.08289531076691703,
                        "bin_end": 0.14893782221950141,
                        "count": 111
                      },
                      {
                        "bin_start": 0.14893782221950141,
                        "bin_end": 0.2149803336720858,
                        "count": 37
                      },
                      {
                        "bin_start": 0.2149803336720858,
                        "bin_end": 0.28102284512467013,
                        "count": 6
                      },
                      {
                        "bin_start": 0.28102284512467013,
                        "bin_end": 0.34706535657725457,
                        "count": 5
                      }
                    ]
                  }
                },
                {
                  "name": "BTC Change 3 Day",
                  "dtype": "float64",
                  "stats": {
                    "unique_count": 2194,
                    "nan_count": 0,
                    "min": "-0.3945481138257271",
                    "max": "0.4564781077049924",
                    "histogram": [
                      {
                        "bin_start": -0.3945481138257271,
                        "bin_end": -0.3094454916726551,
                        "count": 3
                      },
                      {
                        "bin_start": -0.3094454916726551,
                        "bin_end": -0.22434286951958318,
                        "count": 7
                      },
                      {
                        "bin_start": -0.22434286951958318,
                        "bin_end": -0.13924024736651125,
                        "count": 38
                      },
                      {
                        "bin_start": -0.13924024736651125,
                        "bin_end": -0.05413762521343929,
                        "count": 220
                      },
                      {
                        "bin_start": -0.05413762521343929,
                        "bin_end": 0.030964996939632672,
                        "count": 1274
                      },
                      {
                        "bin_start": 0.030964996939632672,
                        "bin_end": 0.11606761909270458,
                        "count": 511
                      },
                      {
                        "bin_start": 0.11606761909270458,
                        "bin_end": 0.20117024124577654,
                        "count": 109
                      },
                      {
                        "bin_start": 0.20117024124577654,
                        "bin_end": 0.2862728633988485,
                        "count": 22
                      },
                      {
                        "bin_start": 0.2862728633988485,
                        "bin_end": 0.37137548555192046,
                        "count": 7
                      },
                      {
                        "bin_start": 0.37137548555192046,
                        "bin_end": 0.4564781077049924,
                        "count": 3
                      }
                    ]
                  }
                },
                {
                  "name": "_deepnote_index_column",
                  "dtype": "int64"
                }
              ],
              "rows_top": [
                {
                  "HR hash-rate": 18.226984253199937,
                  "MC market-cap": 25.613614965168164,
                  "BS block-size": 12.450740809300187,
                  "TT n-transactions-total": 20.00481683801793,
                  "GLD Close": 142.380005,
                  "GLD Volume": 15.936873489607667,
                  "SPY Close": 322.940002,
                  "SPY Volume": 17.246629135742307,
                  "TSLA Close": 86.188004,
                  "TSLA Volume": 17.78899548163717,
                  "GAD bitcoin": 26,
                  "SENT neg": 0.062,
                  "SENT neu": 0.796,
                  "SENT pos": 0.143,
                  "SENT compound": 0.9964,
                  "BTC Closing Price (USD)": 8.879570759485862,
                  "BTC 24h High (USD)": 8.912940875274046,
                  "BTC 24h Low (USD)": 8.868655916212367,
                  "GLD Change": 0.007857301398533245,
                  "TSLA Change": 0.01338037577729434,
                  "SPY Change": 0.005323260409812791,
                  "BTC diff": 321.7484165697997,
                  "BTC Change 1 Day": -0.004034885382009468,
                  "BTC Change 2 Day": -0.007175620989557929,
                  "BTC Change 3 Day": 0.002446795384021927,
                  "_deepnote_index_column": 2276
                },
                {
                  "HR hash-rate": 15.863441182218704,
                  "MC market-cap": 25.066991061870123,
                  "BS block-size": 11.79603708454616,
                  "TT n-transactions-total": 19.348000816418455,
                  "GLD Close": 127.970001,
                  "GLD Volume": 16.014954892038805,
                  "SPY Close": 246.580002,
                  "SPY Volume": 17.971777722790577,
                  "TSLA Close": 68.68,
                  "TSLA Volume": 16.60774870949151,
                  "GAD bitcoin": 9,
                  "SENT neg": 0.065,
                  "SENT neu": 0.849,
                  "SENT pos": 0.086,
                  "SENT compound": 0.7833,
                  "BTC Closing Price (USD)": 8.361936066370829,
                  "BTC 24h High (USD)": 8.45504780444744,
                  "BTC 24h Low (USD)": 8.331259318055789,
                  "GLD Change": 0,
                  "TSLA Change": 0,
                  "SPY Change": 0,
                  "BTC diff": 547.0887499999999,
                  "BTC Change 1 Day": -0.07510420261839279,
                  "BTC Change 2 Day": -0.05769790578134648,
                  "BTC Change 3 Day": -0.052372182390090116,
                  "_deepnote_index_column": 1438
                },
                {
                  "HR hash-rate": 18.262417573616244,
                  "MC market-cap": 25.792170039166642,
                  "BS block-size": 12.42414473187787,
                  "TT n-transactions-total": 19.976241133122386,
                  "GLD Close": 137.429993,
                  "GLD Volume": 15.679373610948703,
                  "SPY Close": 309,
                  "SPY Volume": 17.654631632908753,
                  "TSLA Close": 69.986,
                  "TSLA Volume": 17.42092687807695,
                  "GAD bitcoin": 22,
                  "SENT neg": 0.059,
                  "SENT neu": 0.742,
                  "SENT pos": 0.199,
                  "SENT compound": 0.999,
                  "BTC Closing Price (USD)": 9.078053087201992,
                  "BTC 24h High (USD)": 9.088893557946,
                  "BTC 24h Low (USD)": 9.055432164199273,
                  "GLD Change": 0.0026995112023859846,
                  "TSLA Change": 0.014025356110735077,
                  "SPY Change": 0.0021079746630521257,
                  "BTC diff": 291.44362275730055,
                  "BTC Change 1 Day": 0.0056658651683985095,
                  "BTC Change 2 Day": -0.0352700769881098,
                  "BTC Change 3 Day": -0.0042224549793516974,
                  "_deepnote_index_column": 2232
                },
                {
                  "HR hash-rate": 16.964893383874056,
                  "MC market-cap": 25.938201594555398,
                  "BS block-size": 11.98198808160244,
                  "TT n-transactions-total": 19.526185845841976,
                  "GLD Close": 125.389999,
                  "GLD Volume": 16.117525488446564,
                  "SPY Close": 269.079987,
                  "SPY Volume": 18.75058287317977,
                  "TSLA Close": 67.024002,
                  "TSLA Volume": 17.052776247944067,
                  "GAD bitcoin": 11,
                  "SENT neg": 0.02,
                  "SENT neu": 0.846,
                  "SENT pos": 0.134,
                  "SENT compound": 0.9983,
                  "BTC Closing Price (USD)": 9.314726738304586,
                  "BTC 24h High (USD)": 9.320598051926822,
                  "BTC 24h Low (USD)": 9.24271656087736,
                  "GLD Change": 0.005372017275721452,
                  "TSLA Change": 0.012661364004231901,
                  "SPY Change": 0.005154930661714019,
                  "BTC diff": 836.5974999999999,
                  "BTC Change 1 Day": 0.07228003352477286,
                  "BTC Change 2 Day": 0.018093498188288537,
                  "BTC Change 3 Day": 0.0805410155503763,
                  "_deepnote_index_column": 1612
                },
                {
                  "HR hash-rate": 17.63006660635529,
                  "MC market-cap": 25.45065365565875,
                  "BS block-size": 12.158128557337498,
                  "TT n-transactions-total": 19.687396582556115,
                  "GLD Close": 115.779999,
                  "GLD Volume": 15.848751080743396,
                  "SPY Close": 280.5,
                  "SPY Volume": 17.998856044491333,
                  "TSLA Close": 70.279999,
                  "TSLA Volume": 17.383732536675353,
                  "GAD bitcoin": 37,
                  "SENT neg": 0.067,
                  "SENT neu": 0.779,
                  "SENT pos": 0.154,
                  "SENT compound": 0.9977,
                  "BTC Closing Price (USD)": 8.76600827723918,
                  "BTC 24h High (USD)": 8.78427456839799,
                  "BTC 24h Low (USD)": 8.764199594025083,
                  "GLD Change": -0.002154615204297272,
                  "TSLA Change": 0.00930599383582309,
                  "SPY Change": -0.001814917554004647,
                  "BTC diff": 129.79711497080007,
                  "BTC Change 1 Day": -0.0156520575279544,
                  "BTC Change 2 Day": -0.0020842956871794938,
                  "BTC Change 3 Day": 0.0025283419681165764,
                  "_deepnote_index_column": 1863
                },
                {
                  "HR hash-rate": 15.178874271614921,
                  "MC market-cap": 23.6888968056104,
                  "BS block-size": 11.627617619437695,
                  "TT n-transactions-total": 19.180623915957796,
                  "GLD Close": 122.239998,
                  "GLD Volume": 15.951993840011307,
                  "SPY Close": 234.570007,
                  "SPY Volume": 18.04096232684502,
                  "TSLA Close": 60.287998,
                  "TSLA Volume": 16.845330199262406,
                  "GAD bitcoin": 3,
                  "SENT neg": 0.04,
                  "SENT neu": 0.858,
                  "SENT pos": 0.102,
                  "SENT compound": 0.9812,
                  "BTC Closing Price (USD)": 7.076822720097676,
                  "BTC 24h High (USD)": 7.08251917345725,
                  "BTC 24h Low (USD)": 7.071739725584935,
                  "GLD Change": -0.0029363785144597143,
                  "TSLA Change": -0.008421069217451782,
                  "SPY Change": 0.008859885786845378,
                  "BTC diff": 12.769000000000005,
                  "BTC Change 1 Day": -0.004497499054264109,
                  "BTC Change 2 Day": -0.0016094558055747,
                  "BTC Change 3 Day": -0.0024731791471237496,
                  "_deepnote_index_column": 1293
                },
                {
                  "HR hash-rate": 11.283277125066286,
                  "MC market-cap": 22.8582548620309,
                  "BS block-size": 9.888577825914476,
                  "TT n-transactions-total": 17.511926665026333,
                  "GLD Close": 120.650002,
                  "GLD Volume": 14.840835050862552,
                  "SPY Close": 195.580002,
                  "SPY Volume": 17.991726923275294,
                  "TSLA Close": 41.062,
                  "TSLA Volume": 16.456601532606722,
                  "GAD bitcoin": 11,
                  "SENT neg": 0.071,
                  "SENT neu": 0.78,
                  "SENT pos": 0.149,
                  "SENT compound": 0.9914,
                  "BTC Closing Price (USD)": 6.480213259352884,
                  "BTC 24h High (USD)": 6.484658136136392,
                  "BTC 24h Low (USD)": 6.476069386098052,
                  "GLD Change": 0.0003316557471879644,
                  "TSLA Change": -0.01373874750777615,
                  "SPY Change": 0.0010236308469742106,
                  "BTC diff": 5.601670000000013,
                  "BTC Change 1 Day": -0.0007380725643966191,
                  "BTC Change 2 Day": 0.005409082671789633,
                  "BTC Change 3 Day": -0.0006385332976279745,
                  "_deepnote_index_column": 250
                },
                {
                  "HR hash-rate": 18.311329219916043,
                  "MC market-cap": 25.60606775953278,
                  "BS block-size": 12.436815089192105,
                  "TT n-transactions-total": 19.989681325373716,
                  "GLD Close": 137.789993,
                  "GLD Volume": 15.928713224793782,
                  "SPY Close": 311.640015,
                  "SPY Volume": 18.143183958247803,
                  "TSLA Close": 66.973999,
                  "TSLA Volume": 17.229048151711034,
                  "GAD bitcoin": 23,
                  "SENT neg": 0.059,
                  "SENT neu": 0.801,
                  "SENT pos": 0.14,
                  "SENT compound": 0.9959,
                  "BTC Closing Price (USD)": 8.900199025010313,
                  "BTC 24h High (USD)": 8.914708884672857,
                  "BTC 24h Low (USD)": 8.87661326152269,
                  "GLD Change": -0.0005078195233728655,
                  "TSLA Change": 0.01494211091322839,
                  "SPY Change": -0.008494744096559148,
                  "BTC diff": 278.1236115765996,
                  "BTC Change 1 Day": -0.006574142579110931,
                  "BTC Change 2 Day": -0.027684454448613782,
                  "BTC Change 3 Day": -0.05121223820918763,
                  "_deepnote_index_column": 2252
                },
                {
                  "HR hash-rate": 18.837812623837277,
                  "MC market-cap": 25.985956025851298,
                  "BS block-size": 12.608546493276513,
                  "TT n-transactions-total": 20.157176531436686,
                  "GLD Close": 183.889999,
                  "GLD Volume": 16.088615345635812,
                  "SPY Close": 338.459991,
                  "SPY Volume": 17.99917314038348,
                  "TSLA Close": 419.619995,
                  "TSLA Volume": 18.234599327737225,
                  "GAD bitcoin": 11,
                  "SENT neg": 0.039,
                  "SENT neu": 0.818,
                  "SENT pos": 0.143,
                  "SENT compound": 0.9976,
                  "BTC Closing Price (USD)": 9.276155973658383,
                  "BTC 24h High (USD)": 9.283510542432778,
                  "BTC 24h Low (USD)": 9.238109237603293,
                  "GLD Change": 0.007892584399439517,
                  "TSLA Change": 0.1258317071103463,
                  "SPY Change": 0.013171265719758463,
                  "BTC diff": 477.5559574997005,
                  "BTC Change 1 Day": 0.03560811981853029,
                  "BTC Change 2 Day": 0.02337328593444199,
                  "BTC Change 3 Day": 0.028876915417473947,
                  "_deepnote_index_column": 2539
                },
                {
                  "HR hash-rate": 12.431615910826228,
                  "MC market-cap": 22.54024735582407,
                  "BS block-size": 10.06360294149316,
                  "TT n-transactions-total": 17.659231253412976,
                  "GLD Close": 117.540001,
                  "GLD Volume": 15.935217939539047,
                  "SPY Close": 200.75,
                  "SPY Volume": 18.834550434404342,
                  "TSLA Close": 52.276001,
                  "TSLA Volume": 17.069309412621706,
                  "GAD bitcoin": 39,
                  "SENT neg": 0.03,
                  "SENT neu": 0.844,
                  "SENT pos": 0.126,
                  "SENT compound": 0.9938,
                  "BTC Closing Price (USD)": 6.1410772673828,
                  "BTC 24h High (USD)": 6.157871066376699,
                  "BTC 24h Low (USD)": 6.134820566521881,
                  "GLD Change": -0.010855852716387115,
                  "TSLA Change": 0.002454590827157155,
                  "SPY Change": 0.0013467877363684266,
                  "BTC diff": 10.764999999999986,
                  "BTC Change 1 Day": -0.013861654111397503,
                  "BTC Change 2 Day": -0.022035856290639644,
                  "BTC Change 3 Day": -0.02277131655548348,
                  "_deepnote_index_column": 350
                },
                {
                  "HR hash-rate": 17.232811275785124,
                  "MC market-cap": 25.747146357792687,
                  "BS block-size": 12.033964805494334,
                  "TT n-transactions-total": 19.570647791119068,
                  "GLD Close": 125,
                  "GLD Volume": 15.273939516843363,
                  "SPY Close": 272.850006,
                  "SPY Volume": 17.907711156871965,
                  "TSLA Close": 60.212002,
                  "TSLA Volume": 16.968161106589683,
                  "GAD bitcoin": 6,
                  "SENT neg": 0.045,
                  "SENT neu": 0.849,
                  "SENT pos": 0.106,
                  "SENT compound": 0.9918,
                  "BTC Closing Price (USD)": 9.041002807155522,
                  "BTC 24h High (USD)": 9.064482172629583,
                  "BTC 24h Low (USD)": 9.014388442272946,
                  "GLD Change": 0,
                  "TSLA Change": 0,
                  "SPY Change": 0,
                  "BTC diff": 422.28499999999985,
                  "BTC Change 1 Day": 0.00402932379639509,
                  "BTC Change 2 Day": -0.0535878663799596,
                  "BTC Change 3 Day": -0.09486506890695878,
                  "_deepnote_index_column": 1684
                },
                {
                  "HR hash-rate": 15.902796577243938,
                  "MC market-cap": 24.96000141626414,
                  "BS block-size": 11.815892913312979,
                  "TT n-transactions-total": 19.367908469673146,
                  "GLD Close": 121.580002,
                  "GLD Volume": 16.13868228456671,
                  "SPY Close": 251.229996,
                  "SPY Volume": 18.264938798733613,
                  "TSLA Close": 68.220001,
                  "TSLA Volume": 17.055580198839476,
                  "GAD bitcoin": 9,
                  "SENT neg": 0.042,
                  "SENT neu": 0.854,
                  "SENT pos": 0.104,
                  "SENT compound": 0.9817,
                  "BTC Closing Price (USD)": 8.309480900902052,
                  "BTC 24h High (USD)": 8.361422324794901,
                  "BTC 24h Low (USD)": 8.300787204156329,
                  "GLD Change": -0.005155036454913997,
                  "TSLA Change": 0.0044170054304182305,
                  "SPY Change": 0.0035150388612332772,
                  "BTC diff": 251.73499999999967,
                  "BTC Change 1 Day": -0.03745634175931445,
                  "BTC Change 2 Day": 0.031143110255958062,
                  "BTC Change 3 Day": 0.03601448995837475,
                  "_deepnote_index_column": 1458
                },
                {
                  "HR hash-rate": 17.967054870171975,
                  "MC market-cap": 26.06560008891122,
                  "BS block-size": 12.344710555112751,
                  "TT n-transactions-total": 19.888762625827596,
                  "GLD Close": 133.529999,
                  "GLD Volume": 15.657566992075102,
                  "SPY Close": 300.649994,
                  "SPY Volume": 17.51250698018016,
                  "TSLA Close": 49.015999,
                  "TSLA Volume": 17.644206300802665,
                  "GAD bitcoin": 34,
                  "SENT neg": 0.051,
                  "SENT neu": 0.792,
                  "SENT pos": 0.157,
                  "SENT compound": 0.9984,
                  "BTC Closing Price (USD)": 9.259739477113776,
                  "BTC 24h High (USD)": 9.34690089265449,
                  "BTC 24h Low (USD)": 9.241524017402002,
                  "GLD Change": 0,
                  "TSLA Change": 0,
                  "SPY Change": 0,
                  "BTC diff": 1146.4930312182005,
                  "BTC Change 1 Day": -0.06854912592639184,
                  "BTC Change 2 Day": -0.10985076118868009,
                  "BTC Change 3 Day": -0.07221285947404377,
                  "_deepnote_index_column": 2111
                },
                {
                  "HR hash-rate": 15.176540757609594,
                  "MC market-cap": 23.645294685560266,
                  "BS block-size": 11.564797133567165,
                  "TT n-transactions-total": 19.115586202834617,
                  "GLD Close": 119.120003,
                  "GLD Volume": 16.041592504972204,
                  "SPY Close": 237.110001,
                  "SPY Volume": 17.850023725348887,
                  "TSLA Close": 49.245998,
                  "TSLA Volume": 17.863880987276424,
                  "GAD bitcoin": 59,
                  "SENT neg": 0.023,
                  "SENT neu": 0.89,
                  "SENT pos": 0.087,
                  "SENT compound": 0.9816,
                  "BTC Closing Price (USD)": 7.08117567102231,
                  "BTC 24h High (USD)": 7.083599234677451,
                  "BTC 24h Low (USD)": 7.038603700656763,
                  "GLD Change": -0.00484539694683539,
                  "TSLA Change": -0.041906690976393324,
                  "SPY Change": 0.0015628790748738464,
                  "BTC diff": 52.45699999999988,
                  "BTC Change 1 Day": 0.043442634456523965,
                  "BTC Change 2 Day": 0.005866737030299385,
                  "BTC Change 3 Day": -0.0034645970133246884,
                  "_deepnote_index_column": 1244
                },
                {
                  "HR hash-rate": 18.581180244725832,
                  "MC market-cap": 25.817016037753174,
                  "BS block-size": 12.526144461025638,
                  "TT n-transactions-total": 20.081935828825944,
                  "GLD Close": 160.339996,
                  "GLD Volume": 15.893225610118408,
                  "SPY Close": 283.570007,
                  "SPY Volume": 18.20839305396888,
                  "TSLA Close": 152.238007,
                  "TSLA Volume": 18.381789176624654,
                  "GAD bitcoin": 46,
                  "SENT neg": 0.055,
                  "SENT neu": 0.788,
                  "SENT pos": 0.156,
                  "SENT compound": 0.9976,
                  "BTC Closing Price (USD)": 9.092401737130933,
                  "BTC 24h High (USD)": 9.10147731116255,
                  "BTC 24h Low (USD)": 9.052459037757902,
                  "GLD Change": 0.003504800372417183,
                  "TSLA Change": 0.08536758054140314,
                  "SPY Change": 0.0027582233288869773,
                  "BTC diff": 429.0211270794007,
                  "BTC Change 1 Day": -0.0019324510932449135,
                  "BTC Change 2 Day": -0.008429229057452248,
                  "BTC Change 3 Day": 0.003809833719393252,
                  "_deepnote_index_column": 2406
                },
                {
                  "HR hash-rate": 14.134328554366517,
                  "MC market-cap": 22.477923629210636,
                  "BS block-size": 10.984156486768557,
                  "TT n-transactions-total": 18.507519377689405,
                  "GLD Close": 114.459999,
                  "GLD Volume": 16.404108831584516,
                  "SPY Close": 185.270004,
                  "SPY Volume": 18.81416840800098,
                  "TSLA Close": 28.733999,
                  "TSLA Volume": 17.767379081314544,
                  "GAD bitcoin": 34,
                  "SENT neg": 0.086,
                  "SENT neu": 0.735,
                  "SENT pos": 0.179,
                  "SENT compound": 0.9931,
                  "BTC Closing Price (USD)": 5.926296494523731,
                  "BTC 24h High (USD)": 5.930349492549068,
                  "BTC 24h Low (USD)": 5.916075369946141,
                  "GLD Change": 0.0077478163805633216,
                  "TSLA Change": -0.030893794266441787,
                  "SPY Change": -0.000862800010999254,
                  "BTC diff": 5.333000000000027,
                  "BTC Change 1 Day": 0.0062561420278490765,
                  "BTC Change 2 Day": -0.005730598210779814,
                  "BTC Change 3 Day": -0.004452236744235449,
                  "_deepnote_index_column": 861
                },
                {
                  "HR hash-rate": 15.863441182218704,
                  "MC market-cap": 24.95352776966804,
                  "BS block-size": 11.798983894026161,
                  "TT n-transactions-total": 19.350727624665197,
                  "GLD Close": 126.190002,
                  "GLD Volume": 16.02670378452789,
                  "SPY Close": 249.210007,
                  "SPY Volume": 18.08331530854786,
                  "TSLA Close": 72.737999,
                  "TSLA Volume": 17.46188691780125,
                  "GAD bitcoin": 11,
                  "SENT neg": 0.079,
                  "SENT neu": 0.858,
                  "SENT pos": 0.064,
                  "SENT compound": -0.8442,
                  "BTC Closing Price (USD)": 8.368188705522348,
                  "BTC 24h High (USD)": 8.374363272610578,
                  "BTC 24h Low (USD)": 8.288147569599301,
                  "GLD Change": -0.013909502118390926,
                  "TSLA Change": 0.05908559988351758,
                  "SPY Change": 0.010665929834812626,
                  "BTC diff": 358.0462499999999,
                  "BTC Change 1 Day": 0.027086689267220576,
                  "BTC Change 2 Day": 0.0062722277051372455,
                  "BTC Change 3 Day": -0.06930304557369094,
                  "_deepnote_index_column": 1440
                },
                {
                  "HR hash-rate": 12.598719865717184,
                  "MC market-cap": 22.196317542792467,
                  "BS block-size": 10.245568304135743,
                  "TT n-transactions-total": 17.81841862131631,
                  "GLD Close": 112.769997,
                  "GLD Volume": 14.222041764254437,
                  "SPY Close": 207.770004,
                  "SPY Volume": 17.57585914842241,
                  "TSLA Close": 44.452,
                  "TSLA Volume": 15.711780181395316,
                  "GAD bitcoin": 44,
                  "SENT neg": 0.063,
                  "SENT neu": 0.843,
                  "SENT pos": 0.094,
                  "SENT compound": 0.8885,
                  "BTC Closing Price (USD)": 5.805294594729827,
                  "BTC 24h High (USD)": 5.816822427807897,
                  "BTC 24h Low (USD)": 5.793175180696489,
                  "GLD Change": 0.0002660901235780333,
                  "TSLA Change": 0.005837896547042476,
                  "SPY Change": 0.0000962888086641911,
                  "BTC diff": 7.850000000000023,
                  "BTC Change 1 Day": 0.010197717682635554,
                  "BTC Change 2 Day": 0.037552175154347944,
                  "BTC Change 3 Day": 0.03156331549811009,
                  "_deepnote_index_column": 448
                },
                {
                  "HR hash-rate": 18.333139688125847,
                  "MC market-cap": 25.943621662024736,
                  "BS block-size": 12.388742136371391,
                  "TT n-transactions-total": 19.936912628101844,
                  "GLD Close": 141.320007,
                  "GLD Volume": 15.906707730654963,
                  "SPY Close": 300.160004,
                  "SPY Volume": 17.87924469852024,
                  "TSLA Close": 48.562,
                  "TSLA Volume": 16.97847190087072,
                  "GAD bitcoin": 25,
                  "SENT neg": 0.064,
                  "SENT neu": 0.789,
                  "SENT pos": 0.147,
                  "SENT compound": 0.9953,
                  "BTC Closing Price (USD)": 9.240060292469892,
                  "BTC 24h High (USD)": 9.24696767790677,
                  "BTC 24h Low (USD)": 9.21961129179547,
                  "GLD Change": 0.008348291474061798,
                  "TSLA Change": -0.00974716538035958,
                  "SPY Change": -0.0030887509128665336,
                  "BTC diff": 279.9232295203001,
                  "BTC Change 1 Day": -0.00005154845209698333,
                  "BTC Change 2 Day": -0.004789030913932679,
                  "BTC Change 3 Day": 0.00021192252933577294,
                  "_deepnote_index_column": 2175
                },
                {
                  "HR hash-rate": 17.430388746192712,
                  "MC market-cap": 24.84852144206023,
                  "BS block-size": 12.206859884576186,
                  "TT n-transactions-total": 19.73867339735516,
                  "GLD Close": 122.269997,
                  "GLD Volume": 15.743853008978864,
                  "SPY Close": 260.980011,
                  "SPY Volume": 18.16755081149778,
                  "TSLA Close": 69.209999,
                  "TSLA Volume": 16.970743460526517,
                  "GAD bitcoin": 38,
                  "SENT neg": 0.077,
                  "SENT neu": 0.789,
                  "SENT pos": 0.135,
                  "SENT compound": 0.9953,
                  "BTC Closing Price (USD)": 8.186943640798095,
                  "BTC 24h High (USD)": 8.206015575631344,
                  "BTC 24h Low (USD)": 8.179521899128417,
                  "GLD Change": 0.0031998688020971056,
                  "TSLA Change": 0.004703379360003979,
                  "SPY Change": 0.0024198386229343782,
                  "BTC diff": 95.7699332610996,
                  "BTC Change 1 Day": 0.006996979957784921,
                  "BTC Change 2 Day": -0.016589920572593453,
                  "BTC Change 3 Day": 0.027461814573215948,
                  "_deepnote_index_column": 1932
                }
              ],
              "rows_bottom": [
                {
                  "HR hash-rate": 18.46309294254765,
                  "MC market-cap": 25.916222687836623,
                  "BS block-size": 12.48050458717991,
                  "TT n-transactions-total": 20.037143553913392,
                  "GLD Close": 149,
                  "GLD Volume": 15.49174693593679,
                  "SPY Close": 337.600006,
                  "SPY Volume": 17.98344938898855,
                  "TSLA Close": 160.005997,
                  "TSLA Volume": 18.178207828335378,
                  "GAD bitcoin": 32,
                  "SENT neg": 0.046,
                  "SENT neu": 0.835,
                  "SENT pos": 0.119,
                  "SENT compound": 0.9963,
                  "BTC Closing Price (USD)": 9.202948488251725,
                  "BTC 24h High (USD)": 9.249324180143473,
                  "BTC 24h Low (USD)": 9.191252152822491,
                  "GLD Change": 0,
                  "TSLA Change": 0,
                  "SPY Change": 0,
                  "BTC diff": 586.6084074892005,
                  "BTC Change 1 Day": -0.04255347153335143,
                  "BTC Change 2 Day": -0.028551888730395047,
                  "BTC Change 3 Day": -0.04231314198099312,
                  "_deepnote_index_column": 2327
                },
                {
                  "HR hash-rate": 14.124142238648629,
                  "MC market-cap": 22.683151122430672,
                  "BS block-size": 11.14766455906794,
                  "TT n-transactions-total": 18.67739250925809,
                  "GLD Close": 122.220001,
                  "GLD Volume": 15.96957244051456,
                  "SPY Close": 204.850006,
                  "SPY Volume": 18.55978942952349,
                  "TSLA Close": 40.931999,
                  "TSLA Volume": 16.470019325471565,
                  "GAD bitcoin": 32,
                  "SENT neg": 0.058,
                  "SENT neu": 0.799,
                  "SENT pos": 0.143,
                  "SENT compound": 0.9917,
                  "BTC Closing Price (USD)": 6.118709345442653,
                  "BTC 24h High (USD)": 6.126709782764177,
                  "BTC 24h Low (USD)": 6.1121987792524655,
                  "GLD Change": 0.003448259356775063,
                  "TSLA Change": -0.017427672537623673,
                  "SPY Change": -0.009333557449141883,
                  "BTC diff": 6.597000000000037,
                  "BTC Change 1 Day": -0.007348533180998373,
                  "BTC Change 2 Day": -0.003979451559221414,
                  "BTC Change 3 Day": -0.00386151184438166,
                  "_deepnote_index_column": 958
                },
                {
                  "HR hash-rate": 14.936173476974611,
                  "MC market-cap": 23.492589913963798,
                  "BS block-size": 11.527160315039415,
                  "TT n-transactions-total": 19.075088572286266,
                  "GLD Close": 115.199997,
                  "GLD Volume": 15.75178875405023,
                  "SPY Close": 227.619995,
                  "SPY Volume": 18.186447175088755,
                  "TSLA Close": 49.848,
                  "TSLA Volume": 16.800889419438775,
                  "GAD bitcoin": 46,
                  "SENT neg": 0.017,
                  "SENT neu": 0.815,
                  "SENT pos": 0.168,
                  "SENT compound": 0.9976,
                  "BTC Closing Price (USD)": 6.8804508836546345,
                  "BTC 24h High (USD)": 6.885698813700219,
                  "BTC 24h Low (USD)": 6.825078584575925,
                  "GLD Change": -0.003029043625381922,
                  "TSLA Change": -0.01067760843577148,
                  "SPY Change": 0.00039553465650921105,
                  "BTC diff": 57.536249999999995,
                  "BTC Change 1 Day": 0.05612815959168671,
                  "BTC Change 2 Day": 0.06124229580561913,
                  "BTC Change 3 Day": 0.056727431674999274,
                  "_deepnote_index_column": 1218
                },
                {
                  "HR hash-rate": 18.42901761843902,
                  "MC market-cap": 25.888051810869925,
                  "BS block-size": 12.544436903292885,
                  "TT n-transactions-total": 20.09850266788912,
                  "GLD Close": 159.600006,
                  "GLD Volume": 16.648753313352678,
                  "SPY Close": 312.179993,
                  "SPY Volume": 18.34344974638128,
                  "TSLA Close": 176.591995,
                  "TSLA Volume": 17.498057504005,
                  "GAD bitcoin": 39,
                  "SENT neg": 0.074,
                  "SENT neu": 0.772,
                  "SENT pos": 0.154,
                  "SENT compound": 0.9968,
                  "BTC Closing Price (USD)": 9.176479587151539,
                  "BTC 24h High (USD)": 9.177838506867372,
                  "BTC 24h Low (USD)": 9.149206309048392,
                  "GLD Change": -0.018450183821026478,
                  "TSLA Change": 0.001588088197923998,
                  "SPY Change": 0.013308251665175463,
                  "BTC diff": 273.2352565356996,
                  "BTC Change 1 Day": 0.01585993726906465,
                  "BTC Change 2 Day": -0.058578801958060533,
                  "BTC Change 3 Day": 0.02539234699385995,
                  "_deepnote_index_column": 2436
                },
                {
                  "HR hash-rate": 16.265139376679812,
                  "MC market-cap": 25.810862172178794,
                  "BS block-size": 11.879506789291371,
                  "TT n-transactions-total": 19.434122393160813,
                  "GLD Close": 122.809998,
                  "GLD Volume": 15.538830573969808,
                  "SPY Close": 262.869995,
                  "SPY Volume": 18.41034450864765,
                  "TSLA Close": 63.509998,
                  "TSLA Volume": 17.0242350317761,
                  "GAD bitcoin": 40,
                  "SENT neg": 0.027,
                  "SENT neu": 0.827,
                  "SENT pos": 0.146,
                  "SENT compound": 0.9977,
                  "BTC Closing Price (USD)": 9.181230382753006,
                  "BTC 24h High (USD)": 9.184317058771343,
                  "BTC 24h Low (USD)": 9.146562228345017,
                  "GLD Change": -0.00016285923369108168,
                  "TSLA Change": 0.0023357532906158607,
                  "SPY Change": 0.010144809931242005,
                  "BTC diff": 360.9925000000003,
                  "BTC Change 1 Day": 0.014531984780604246,
                  "BTC Change 2 Day": 0.09736318542858946,
                  "BTC Change 3 Day": 0.18584408831966437,
                  "_deepnote_index_column": 1518
                },
                {
                  "HR hash-rate": 18.584253116484135,
                  "MC market-cap": 25.60606775953278,
                  "BS block-size": 12.51852590833867,
                  "TT n-transactions-total": 20.074966497898984,
                  "GLD Close": 161.729996,
                  "GLD Volume": 16.375609710637498,
                  "SPY Close": 279.100006,
                  "SPY Volume": 18.353735061258035,
                  "TSLA Close": 146.421997,
                  "TSLA Volume": 18.07575790132827,
                  "GAD bitcoin": 35,
                  "SENT neg": 0.047,
                  "SENT neu": 0.83,
                  "SENT pos": 0.123,
                  "SENT compound": 0.9967,
                  "BTC Closing Price (USD)": 8.870436679347645,
                  "BTC 24h High (USD)": 8.877035913260595,
                  "BTC 24h Low (USD)": 8.829365110500563,
                  "GLD Change": 0.01967085921650047,
                  "TSLA Change": 0.06609683274537659,
                  "SPY Change": 0.0221945385300657,
                  "BTC diff": 333.57209798360054,
                  "BTC Change 1 Day": 0.030981783739841395,
                  "BTC Change 2 Day": 0.03824922875898551,
                  "BTC Change 3 Day": -0.00939086744624229,
                  "_deepnote_index_column": 2394
                },
                {
                  "HR hash-rate": 13.211558287549376,
                  "MC market-cap": 22.27887710962374,
                  "BS block-size": 10.816722580298194,
                  "TT n-transactions-total": 18.33869048185862,
                  "GLD Close": 103.559998,
                  "GLD Volume": 14.986195415424035,
                  "SPY Close": 202.539993,
                  "SPY Volume": 18.849713279021376,
                  "TSLA Close": 41.438,
                  "TSLA Volume": 16.65759619130836,
                  "GAD bitcoin": 41,
                  "SENT neg": 0.059,
                  "SENT neu": 0.782,
                  "SENT pos": 0.159,
                  "SENT compound": 0.9945,
                  "BTC Closing Price (USD)": 5.82272927731744,
                  "BTC 24h High (USD)": 5.845284930444233,
                  "BTC 24h Low (USD)": 5.758074933716436,
                  "GLD Change": -0.002792489220847183,
                  "TSLA Change": -0.02700293446503854,
                  "SPY Change": -0.011228290592233736,
                  "BTC diff": 28.863,
                  "BTC Change 1 Day": 0.05579684785461625,
                  "BTC Change 2 Day": 0.08402576820167962,
                  "BTC Change 3 Day": -0.10360845527765106,
                  "_deepnote_index_column": 772
                },
                {
                  "HR hash-rate": 17.422984808002862,
                  "MC market-cap": 25.679092894547672,
                  "BS block-size": 12.03577981743138,
                  "TT n-transactions-total": 19.572387962421185,
                  "GLD Close": 122.360001,
                  "GLD Volume": 15.867233977311422,
                  "SPY Close": 272.01001,
                  "SPY Volume": 17.850395236465765,
                  "TSLA Close": 56.908001,
                  "TSLA Volume": 16.91122390388158,
                  "GAD bitcoin": 7,
                  "SENT neg": 0.08,
                  "SENT neu": 0.767,
                  "SENT pos": 0.153,
                  "SENT compound": 0.9963,
                  "BTC Closing Price (USD)": 9.031241068144594,
                  "BTC 24h High (USD)": 9.042930235297657,
                  "BTC 24h Low (USD)": 9.005366068150721,
                  "GLD Change": 0.0005724098407684508,
                  "TSLA Change": -0.006771851319955058,
                  "SPY Change": -0.0008447693522173338,
                  "BTC diff": 311.8437500000009,
                  "BTC Change 1 Day": 0.024631227876928063,
                  "BTC Change 2 Day": -0.040310449926827085,
                  "BTC Change 3 Day": -0.004599877667481489,
                  "_deepnote_index_column": 1688
                },
                {
                  "HR hash-rate": 9.987915581386842,
                  "MC market-cap": 22.866561370409862,
                  "BS block-size": 9.63623985745762,
                  "TT n-transactions-total": 17.30182504305667,
                  "GLD Close": 124.43,
                  "GLD Volume": 15.710413086109197,
                  "SPY Close": 182.070007,
                  "SPY Volume": 18.36641144671056,
                  "TSLA Close": 39.063999,
                  "TSLA Volume": 17.068536570262392,
                  "GAD bitcoin": 34,
                  "SENT neg": 0.126,
                  "SENT neu": 0.744,
                  "SENT pos": 0.13,
                  "SENT compound": 0.2023,
                  "BTC Closing Price (USD)": 6.50098557025253,
                  "BTC 24h High (USD)": 6.5661835620849756,
                  "BTC 24h Low (USD)": 6.453991057869181,
                  "GLD Change": 0.0005628739099159397,
                  "TSLA Change": -0.00661178906998805,
                  "SPY Change": 0.0004946202988156401,
                  "BTC diff": 75.42001000000005,
                  "BTC Change 1 Day": -0.04106940318660546,
                  "BTC Change 2 Day": -0.04946963761486345,
                  "BTC Change 3 Day": -0.0045855766061363434,
                  "_deepnote_index_column": 133
                },
                {
                  "HR hash-rate": 18.105518229271816,
                  "MC market-cap": 26.0364718159882,
                  "BS block-size": 12.363280197074923,
                  "TT n-transactions-total": 19.90881121053644,
                  "GLD Close": 141.259995,
                  "GLD Volume": 16.065317043512948,
                  "SPY Close": 291.619995,
                  "SPY Volume": 18.355928866722667,
                  "TSLA Close": 47.001999,
                  "TSLA Volume": 16.78546337853078,
                  "GAD bitcoin": 30,
                  "SENT neg": 0.062,
                  "SENT neu": 0.75,
                  "SENT pos": 0.188,
                  "SENT compound": 0.9986,
                  "BTC Closing Price (USD)": 9.330634142423099,
                  "BTC 24h High (USD)": 9.389981503159193,
                  "BTC 24h Low (USD)": 9.32613229011381,
                  "GLD Change": 0,
                  "TSLA Change": 0,
                  "SPY Change": 0,
                  "BTC diff": 740.2557485588986,
                  "BTC Change 1 Day": -0.04644175468606071,
                  "BTC Change 2 Day": -0.04562523873365909,
                  "BTC Change 3 Day": -0.05668813074034451,
                  "_deepnote_index_column": 2138
                },
                {
                  "HR hash-rate": 16.111605859241763,
                  "MC market-cap": 25.243257660288958,
                  "BS block-size": 11.845572078217007,
                  "TT n-transactions-total": 19.397733424683754,
                  "GLD Close": 120.330002,
                  "GLD Volume": 15.677852745314212,
                  "SPY Close": 255.619995,
                  "SPY Volume": 18.06111591402696,
                  "TSLA Close": 65.234001,
                  "TSLA Volume": 17.039075372318607,
                  "GAD bitcoin": 14,
                  "SENT neg": 0.035,
                  "SENT neu": 0.814,
                  "SENT pos": 0.151,
                  "SENT compound": 0.9959,
                  "BTC Closing Price (USD)": 8.661618807158721,
                  "BTC 24h High (USD)": 8.662950387160956,
                  "BTC 24h Low (USD)": 8.59983252493704,
                  "GLD Change": -0.008405405989376336,
                  "TSLA Change": 0.0010127977076603845,
                  "SPY Change": 0.0012926554469370188,
                  "BTC diff": 353.8262500000001,
                  "BTC Change 1 Day": 0.04071802403547009,
                  "BTC Change 2 Day": 0.022636508553276258,
                  "BTC Change 3 Day": -0.032315389389417915,
                  "_deepnote_index_column": 1485
                },
                {
                  "HR hash-rate": 12.18976004661383,
                  "MC market-cap": 22.629211491282927,
                  "BS block-size": 10.037629617724699,
                  "TT n-transactions-total": 17.636978941974224,
                  "GLD Close": 123.860001,
                  "GLD Volume": 15.119373945105005,
                  "SPY Close": 200.710007,
                  "SPY Volume": 18.003755215379424,
                  "TSLA Close": 53.939999,
                  "TSLA Volume": 17.288578887696993,
                  "GAD bitcoin": 41,
                  "SENT neg": 0.028,
                  "SENT neu": 0.826,
                  "SENT pos": 0.145,
                  "SENT compound": 0.9953,
                  "BTC Closing Price (USD)": 6.218709675443267,
                  "BTC 24h High (USD)": 6.225716174671033,
                  "BTC 24h Low (USD)": 6.213605095582975,
                  "GLD Change": 0,
                  "TSLA Change": 0,
                  "SPY Change": 0,
                  "BTC diff": 6.086250000000007,
                  "BTC Change 1 Day": -0.005253055614032887,
                  "BTC Change 2 Day": -0.00784546218072224,
                  "BTC Change 3 Day": -0.02442318295648027,
                  "_deepnote_index_column": 333
                },
                {
                  "HR hash-rate": 15.005392501164204,
                  "MC market-cap": 23.620080253497495,
                  "BS block-size": 11.560405291021517,
                  "TT n-transactions-total": 19.111206431399857,
                  "GLD Close": 119.699997,
                  "GLD Volume": 16.098810889546453,
                  "SPY Close": 236.740005,
                  "SPY Volume": 18.226872668973453,
                  "TSLA Close": 51.400002,
                  "TSLA Volume": 17.525613198529737,
                  "GAD bitcoin": 63,
                  "SENT neg": 0.031,
                  "SENT neu": 0.863,
                  "SENT pos": 0.106,
                  "SENT compound": 0.9893,
                  "BTC Closing Price (USD)": 7.084646283650339,
                  "BTC 24h High (USD)": 7.085031630102507,
                  "BTC 24h Low (USD)": 7.02173553768337,
                  "GLD Change": 0.006389734212380427,
                  "TSLA Change": 0.00394546646566396,
                  "SPY Change": 0.0012688335199726453,
                  "BTC diff": 73.231,
                  "BTC Change 1 Day": 0.0632383531623184,
                  "BTC Change 2 Day": 0.07245922962267404,
                  "BTC Change 3 Day": 0.1055208842307096,
                  "_deepnote_index_column": 1241
                },
                {
                  "HR hash-rate": 12.707036763188961,
                  "MC market-cap": 22.03132424489509,
                  "BS block-size": 10.280875814799389,
                  "TT n-transactions-total": 17.850875254391877,
                  "GLD Close": 117.970001,
                  "GLD Volume": 15.860283012108816,
                  "SPY Close": 200.860001,
                  "SPY Volume": 19.07815463181624,
                  "TSLA Close": 38.537998,
                  "TSLA Volume": 17.871798396001683,
                  "GAD bitcoin": 82,
                  "SENT neg": 0.113,
                  "SENT neu": 0.771,
                  "SENT pos": 0.116,
                  "SENT compound": -0.6862,
                  "BTC Closing Price (USD)": 5.3896560339634245,
                  "BTC 24h High (USD)": 5.517625532164717,
                  "BTC 24h Low (USD)": 5.376925199126651,
                  "GLD Change": -0.0016080145020983538,
                  "TSLA Change": -0.056597309992524325,
                  "SPY Change": -0.006037217873740897,
                  "BTC diff": 32.68699000000001,
                  "BTC Change 1 Day": -0.09853917007088175,
                  "BTC Change 2 Day": -0.1826692521006652,
                  "BTC Change 3 Day": -0.21077612860709993,
                  "_deepnote_index_column": 469
                },
                {
                  "HR hash-rate": 18.40585244593666,
                  "MC market-cap": 25.921762868212237,
                  "BS block-size": 12.386955997770253,
                  "TT n-transactions-total": 19.934972867869153,
                  "GLD Close": 140.149994,
                  "GLD Volume": 16.41461605007711,
                  "SPY Close": 301.089996,
                  "SPY Volume": 17.944333838602617,
                  "TSLA Close": 49.040001,
                  "TSLA Volume": 17.095123939448005,
                  "GAD bitcoin": 25,
                  "SENT neg": 0.054,
                  "SENT neu": 0.765,
                  "SENT pos": 0.181,
                  "SENT compound": 0.999,
                  "BTC Closing Price (USD)": 9.239848392392963,
                  "BTC 24h High (USD)": 9.25410733449821,
                  "BTC 24h Low (USD)": 9.226999932559314,
                  "GLD Change": -0.008279174512070386,
                  "TSLA Change": -0.0027249969496075943,
                  "SPY Change": -0.000663855401856428,
                  "BTC diff": 279.39758307169905,
                  "BTC Change 1 Day": -0.009357739991565972,
                  "BTC Change 2 Day": 0.014451644459242852,
                  "BTC Change 3 Day": 0.02147488603564529,
                  "_deepnote_index_column": 2172
                },
                {
                  "HR hash-rate": 17.079850458267785,
                  "MC market-cap": 25.46819796530966,
                  "BS block-size": 12.00515409952228,
                  "TT n-transactions-total": 19.544381748865256,
                  "GLD Close": 125.790001,
                  "GLD Volume": 15.77588699248517,
                  "SPY Close": 263.149994,
                  "SPY Volume": 18.530445944726274,
                  "TSLA Close": 53.226002,
                  "TSLA Volume": 18.14431440639891,
                  "GAD bitcoin": 10,
                  "SENT neg": 0.026,
                  "SENT neu": 0.83,
                  "SENT pos": 0.144,
                  "SENT compound": 0.9989,
                  "BTC Closing Price (USD)": 8.849422690341177,
                  "BTC 24h High (USD)": 8.890970158515977,
                  "BTC 24h Low (USD)": 8.793875424348245,
                  "GLD Change": 0,
                  "TSLA Change": 0,
                  "SPY Change": 0,
                  "BTC diff": 672.3287499999997,
                  "BTC Change 1 Day": 0.015891792037252328,
                  "BTC Change 2 Day": -0.11390226864776076,
                  "BTC Change 3 Day": -0.11355237112366312,
                  "_deepnote_index_column": 1641
                },
                {
                  "HR hash-rate": 14.340710663263607,
                  "MC market-cap": 22.996308315039897,
                  "BS block-size": 11.35943411923447,
                  "TT n-transactions-total": 18.893332594811827,
                  "GLD Close": 120.970001,
                  "GLD Volume": 17.008974211421737,
                  "SPY Close": 214.679993,
                  "SPY Volume": 18.60256970719122,
                  "TSLA Close": 42.282001,
                  "TSLA Volume": 16.689498836609914,
                  "GAD bitcoin": 27,
                  "SENT neg": 0.052,
                  "SENT neu": 0.859,
                  "SENT pos": 0.089,
                  "SENT compound": 0.9509,
                  "BTC Closing Price (USD)": 6.412630745442231,
                  "BTC 24h High (USD)": 6.417734639461833,
                  "BTC 24h Low (USD)": 6.411214637285843,
                  "GLD Change": -0.03471113150335137,
                  "TSLA Change": -0.010715979844830081,
                  "SPY Change": -0.005097812610519115,
                  "BTC diff": 3.981249999999932,
                  "BTC Change 1 Day": -0.003912051069937972,
                  "BTC Change 2 Day": -0.006102839537745819,
                  "BTC Change 3 Day": -0.0017831296689438947,
                  "_deepnote_index_column": 1098
                },
                {
                  "HR hash-rate": 14.429591139135283,
                  "MC market-cap": 23.143991250651823,
                  "BS block-size": 11.409487998290093,
                  "TT n-transactions-total": 18.946591620975568,
                  "GLD Close": 121.639999,
                  "GLD Volume": 16.064758163367646,
                  "SPY Close": 214.110001,
                  "SPY Volume": 18.486207214407255,
                  "TSLA Close": 38.987999,
                  "TSLA Volume": 16.60900424088395,
                  "GAD bitcoin": 37,
                  "SENT neg": 0.027,
                  "SENT neu": 0.802,
                  "SENT pos": 0.172,
                  "SENT compound": 0.9973,
                  "BTC Closing Price (USD)": 6.559804667142381,
                  "BTC 24h High (USD)": 6.561863063346354,
                  "BTC 24h Low (USD)": 6.551123191267921,
                  "GLD Change": -0.004175218924679203,
                  "TSLA Change": 0.008954014230837748,
                  "SPY Change": 0.004503903481226645,
                  "BTC diff": 7.558750000000032,
                  "BTC Change 1 Day": 0.0009390885879472233,
                  "BTC Change 2 Day": 0.0009284475258821701,
                  "BTC Change 3 Day": 0.00563783956990771,
                  "_deepnote_index_column": 1133
                },
                {
                  "HR hash-rate": 15.279588247281085,
                  "MC market-cap": 23.713848215676528,
                  "BS block-size": 11.631258336994444,
                  "TT n-transactions-total": 19.184637118819165,
                  "GLD Close": 122.309998,
                  "GLD Volume": 16.563294161285086,
                  "SPY Close": 234.589996,
                  "SPY Volume": 18.519528296234583,
                  "TSLA Close": 61.119999,
                  "TSLA Volume": 16.931201277031647,
                  "GAD bitcoin": 3,
                  "SENT neg": 0.02,
                  "SENT neu": 0.862,
                  "SENT pos": 0.118,
                  "SENT compound": 0.993,
                  "BTC Closing Price (USD)": 7.140216882095315,
                  "BTC 24h High (USD)": 7.14256254395566,
                  "BTC 24h Low (USD)": 7.112880673884517,
                  "GLD Change": 0.002869785198997832,
                  "TSLA Change": 0.010214538531198025,
                  "SPY Change": -0.003186878612847388,
                  "BTC diff": 36.985999999999876,
                  "BTC Change 1 Day": 0.027460522597662296,
                  "BTC Change 2 Day": 0.03531402369476133,
                  "BTC Change 3 Day": 0.041233344512042525,
                  "_deepnote_index_column": 1297
                },
                {
                  "HR hash-rate": 14.134328554366517,
                  "MC market-cap": 22.477923629210636,
                  "BS block-size": 10.990057696078985,
                  "TT n-transactions-total": 18.513521814377036,
                  "GLD Close": 118.360001,
                  "GLD Volume": 16.647617407728465,
                  "SPY Close": 186.630005,
                  "SPY Volume": 18.664664815138416,
                  "TSLA Close": 30.208,
                  "TSLA Volume": 17.403989397969564,
                  "GAD bitcoin": 27,
                  "SENT neg": 0.054,
                  "SENT neu": 0.837,
                  "SENT pos": 0.109,
                  "SENT compound": 0.9776,
                  "BTC Closing Price (USD)": 5.936416845323745,
                  "BTC 24h High (USD)": 5.940150199867243,
                  "BTC 24h Low (USD)": 5.9221600199185795,
                  "GLD Change": -0.005879363444974972,
                  "TSLA Change": 0.003788130524357003,
                  "SPY Change": 0.02061688712339005,
                  "BTC diff": 6.775000000000034,
                  "BTC Change 1 Day": -0.001608709182300938,
                  "BTC Change 2 Day": 0.010171734745066274,
                  "BTC Change 3 Day": 0.016491512590150137,
                  "_deepnote_index_column": 863
                }
              ]
            },
            "text/plain": "      HR hash-rate  MC market-cap  BS block-size  TT n-transactions-total  \\\n2276     18.226984      25.613615      12.450741                20.004817   \n1438     15.863441      25.066991      11.796037                19.348001   \n2232     18.262418      25.792170      12.424145                19.976241   \n1612     16.964893      25.938202      11.981988                19.526186   \n1863     17.630067      25.450654      12.158129                19.687397   \n...            ...            ...            ...                      ...   \n1641     17.079850      25.468198      12.005154                19.544382   \n1098     14.340711      22.996308      11.359434                18.893333   \n1133     14.429591      23.143991      11.409488                18.946592   \n1297     15.279588      23.713848      11.631258                19.184637   \n863      14.134329      22.477924      10.990058                18.513522   \n\n       GLD Close  GLD Volume   SPY Close  SPY Volume  TSLA Close  TSLA Volume  \\\n2276  142.380005   15.936873  322.940002   17.246629   86.188004    17.788995   \n1438  127.970001   16.014955  246.580002   17.971778   68.680000    16.607749   \n2232  137.429993   15.679374  309.000000   17.654632   69.986000    17.420927   \n1612  125.389999   16.117525  269.079987   18.750583   67.024002    17.052776   \n1863  115.779999   15.848751  280.500000   17.998856   70.279999    17.383733   \n...          ...         ...         ...         ...         ...          ...   \n1641  125.790001   15.775887  263.149994   18.530446   53.226002    18.144314   \n1098  120.970001   17.008974  214.679993   18.602570   42.282001    16.689499   \n1133  121.639999   16.064758  214.110001   18.486207   38.987999    16.609004   \n1297  122.309998   16.563294  234.589996   18.519528   61.119999    16.931201   \n863   118.360001   16.647617  186.630005   18.664665   30.208000    17.403989   \n\n      ...  BTC Closing Price (USD)  BTC 24h High (USD)  BTC 24h Low (USD)  \\\n2276  ...                 8.879571            8.912941           8.868656   \n1438  ...                 8.361936            8.455048           8.331259   \n2232  ...                 9.078053            9.088894           9.055432   \n1612  ...                 9.314727            9.320598           9.242717   \n1863  ...                 8.766008            8.784275           8.764200   \n...   ...                      ...                 ...                ...   \n1641  ...                 8.849423            8.890970           8.793875   \n1098  ...                 6.412631            6.417735           6.411215   \n1133  ...                 6.559805            6.561863           6.551123   \n1297  ...                 7.140217            7.142563           7.112881   \n863   ...                 5.936417            5.940150           5.922160   \n\n      GLD Change  TSLA Change  SPY Change    BTC diff  BTC Change 1 Day  \\\n2276    0.007857     0.013380    0.005323  321.748417         -0.004035   \n1438    0.000000     0.000000    0.000000  547.088750         -0.075104   \n2232    0.002700     0.014025    0.002108  291.443623          0.005666   \n1612    0.005372     0.012661    0.005155  836.597500          0.072280   \n1863   -0.002155     0.009306   -0.001815  129.797115         -0.015652   \n...          ...          ...         ...         ...               ...   \n1641    0.000000     0.000000    0.000000  672.328750          0.015892   \n1098   -0.034711    -0.010716   -0.005098    3.981250         -0.003912   \n1133   -0.004175     0.008954    0.004504    7.558750          0.000939   \n1297    0.002870     0.010215   -0.003187   36.986000          0.027461   \n863    -0.005879     0.003788    0.020617    6.775000         -0.001609   \n\n      BTC Change 2 Day  BTC Change 3 Day  \n2276         -0.007176          0.002447  \n1438         -0.057698         -0.052372  \n2232         -0.035270         -0.004222  \n1612          0.018093          0.080541  \n1863         -0.002084          0.002528  \n...                ...               ...  \n1641         -0.113902         -0.113552  \n1098         -0.006103         -0.001783  \n1133          0.000928          0.005638  \n1297          0.035314          0.041233  \n863           0.010172          0.016492  \n\n[2194 rows x 25 columns]",
            "text/html": "<div>\n<style scoped>\n    .dataframe tbody tr th:only-of-type {\n        vertical-align: middle;\n    }\n\n    .dataframe tbody tr th {\n        vertical-align: top;\n    }\n\n    .dataframe thead th {\n        text-align: right;\n    }\n</style>\n<table border=\"1\" class=\"dataframe\">\n  <thead>\n    <tr style=\"text-align: right;\">\n      <th></th>\n      <th>HR hash-rate</th>\n      <th>MC market-cap</th>\n      <th>BS block-size</th>\n      <th>TT n-transactions-total</th>\n      <th>GLD Close</th>\n      <th>GLD Volume</th>\n      <th>SPY Close</th>\n      <th>SPY Volume</th>\n      <th>TSLA Close</th>\n      <th>TSLA Volume</th>\n      <th>...</th>\n      <th>BTC Closing Price (USD)</th>\n      <th>BTC 24h High (USD)</th>\n      <th>BTC 24h Low (USD)</th>\n      <th>GLD Change</th>\n      <th>TSLA Change</th>\n      <th>SPY Change</th>\n      <th>BTC diff</th>\n      <th>BTC Change 1 Day</th>\n      <th>BTC Change 2 Day</th>\n      <th>BTC Change 3 Day</th>\n    </tr>\n  </thead>\n  <tbody>\n    <tr>\n      <th>2276</th>\n      <td>18.226984</td>\n      <td>25.613615</td>\n      <td>12.450741</td>\n      <td>20.004817</td>\n      <td>142.380005</td>\n      <td>15.936873</td>\n      <td>322.940002</td>\n      <td>17.246629</td>\n      <td>86.188004</td>\n      <td>17.788995</td>\n      <td>...</td>\n      <td>8.879571</td>\n      <td>8.912941</td>\n      <td>8.868656</td>\n      <td>0.007857</td>\n      <td>0.013380</td>\n      <td>0.005323</td>\n      <td>321.748417</td>\n      <td>-0.004035</td>\n      <td>-0.007176</td>\n      <td>0.002447</td>\n    </tr>\n    <tr>\n      <th>1438</th>\n      <td>15.863441</td>\n      <td>25.066991</td>\n      <td>11.796037</td>\n      <td>19.348001</td>\n      <td>127.970001</td>\n      <td>16.014955</td>\n      <td>246.580002</td>\n      <td>17.971778</td>\n      <td>68.680000</td>\n      <td>16.607749</td>\n      <td>...</td>\n      <td>8.361936</td>\n      <td>8.455048</td>\n      <td>8.331259</td>\n      <td>0.000000</td>\n      <td>0.000000</td>\n      <td>0.000000</td>\n      <td>547.088750</td>\n      <td>-0.075104</td>\n      <td>-0.057698</td>\n      <td>-0.052372</td>\n    </tr>\n    <tr>\n      <th>2232</th>\n      <td>18.262418</td>\n      <td>25.792170</td>\n      <td>12.424145</td>\n      <td>19.976241</td>\n      <td>137.429993</td>\n      <td>15.679374</td>\n      <td>309.000000</td>\n      <td>17.654632</td>\n      <td>69.986000</td>\n      <td>17.420927</td>\n      <td>...</td>\n      <td>9.078053</td>\n      <td>9.088894</td>\n      <td>9.055432</td>\n      <td>0.002700</td>\n      <td>0.014025</td>\n      <td>0.002108</td>\n      <td>291.443623</td>\n      <td>0.005666</td>\n      <td>-0.035270</td>\n      <td>-0.004222</td>\n    </tr>\n    <tr>\n      <th>1612</th>\n      <td>16.964893</td>\n      <td>25.938202</td>\n      <td>11.981988</td>\n      <td>19.526186</td>\n      <td>125.389999</td>\n      <td>16.117525</td>\n      <td>269.079987</td>\n      <td>18.750583</td>\n      <td>67.024002</td>\n      <td>17.052776</td>\n      <td>...</td>\n      <td>9.314727</td>\n      <td>9.320598</td>\n      <td>9.242717</td>\n      <td>0.005372</td>\n      <td>0.012661</td>\n      <td>0.005155</td>\n      <td>836.597500</td>\n      <td>0.072280</td>\n      <td>0.018093</td>\n      <td>0.080541</td>\n    </tr>\n    <tr>\n      <th>1863</th>\n      <td>17.630067</td>\n      <td>25.450654</td>\n      <td>12.158129</td>\n      <td>19.687397</td>\n      <td>115.779999</td>\n      <td>15.848751</td>\n      <td>280.500000</td>\n      <td>17.998856</td>\n      <td>70.279999</td>\n      <td>17.383733</td>\n      <td>...</td>\n      <td>8.766008</td>\n      <td>8.784275</td>\n      <td>8.764200</td>\n      <td>-0.002155</td>\n      <td>0.009306</td>\n      <td>-0.001815</td>\n      <td>129.797115</td>\n      <td>-0.015652</td>\n      <td>-0.002084</td>\n      <td>0.002528</td>\n    </tr>\n    <tr>\n      <th>...</th>\n      <td>...</td>\n      <td>...</td>\n      <td>...</td>\n      <td>...</td>\n      <td>...</td>\n      <td>...</td>\n      <td>...</td>\n      <td>...</td>\n      <td>...</td>\n      <td>...</td>\n      <td>...</td>\n      <td>...</td>\n      <td>...</td>\n      <td>...</td>\n      <td>...</td>\n      <td>...</td>\n      <td>...</td>\n      <td>...</td>\n      <td>...</td>\n      <td>...</td>\n      <td>...</td>\n    </tr>\n    <tr>\n      <th>1641</th>\n      <td>17.079850</td>\n      <td>25.468198</td>\n      <td>12.005154</td>\n      <td>19.544382</td>\n      <td>125.790001</td>\n      <td>15.775887</td>\n      <td>263.149994</td>\n      <td>18.530446</td>\n      <td>53.226002</td>\n      <td>18.144314</td>\n      <td>...</td>\n      <td>8.849423</td>\n      <td>8.890970</td>\n      <td>8.793875</td>\n      <td>0.000000</td>\n      <td>0.000000</td>\n      <td>0.000000</td>\n      <td>672.328750</td>\n      <td>0.015892</td>\n      <td>-0.113902</td>\n      <td>-0.113552</td>\n    </tr>\n    <tr>\n      <th>1098</th>\n      <td>14.340711</td>\n      <td>22.996308</td>\n      <td>11.359434</td>\n      <td>18.893333</td>\n      <td>120.970001</td>\n      <td>17.008974</td>\n      <td>214.679993</td>\n      <td>18.602570</td>\n      <td>42.282001</td>\n      <td>16.689499</td>\n      <td>...</td>\n      <td>6.412631</td>\n      <td>6.417735</td>\n      <td>6.411215</td>\n      <td>-0.034711</td>\n      <td>-0.010716</td>\n      <td>-0.005098</td>\n      <td>3.981250</td>\n      <td>-0.003912</td>\n      <td>-0.006103</td>\n      <td>-0.001783</td>\n    </tr>\n    <tr>\n      <th>1133</th>\n      <td>14.429591</td>\n      <td>23.143991</td>\n      <td>11.409488</td>\n      <td>18.946592</td>\n      <td>121.639999</td>\n      <td>16.064758</td>\n      <td>214.110001</td>\n      <td>18.486207</td>\n      <td>38.987999</td>\n      <td>16.609004</td>\n      <td>...</td>\n      <td>6.559805</td>\n      <td>6.561863</td>\n      <td>6.551123</td>\n      <td>-0.004175</td>\n      <td>0.008954</td>\n      <td>0.004504</td>\n      <td>7.558750</td>\n      <td>0.000939</td>\n      <td>0.000928</td>\n      <td>0.005638</td>\n    </tr>\n    <tr>\n      <th>1297</th>\n      <td>15.279588</td>\n      <td>23.713848</td>\n      <td>11.631258</td>\n      <td>19.184637</td>\n      <td>122.309998</td>\n      <td>16.563294</td>\n      <td>234.589996</td>\n      <td>18.519528</td>\n      <td>61.119999</td>\n      <td>16.931201</td>\n      <td>...</td>\n      <td>7.140217</td>\n      <td>7.142563</td>\n      <td>7.112881</td>\n      <td>0.002870</td>\n      <td>0.010215</td>\n      <td>-0.003187</td>\n      <td>36.986000</td>\n      <td>0.027461</td>\n      <td>0.035314</td>\n      <td>0.041233</td>\n    </tr>\n    <tr>\n      <th>863</th>\n      <td>14.134329</td>\n      <td>22.477924</td>\n      <td>10.990058</td>\n      <td>18.513522</td>\n      <td>118.360001</td>\n      <td>16.647617</td>\n      <td>186.630005</td>\n      <td>18.664665</td>\n      <td>30.208000</td>\n      <td>17.403989</td>\n      <td>...</td>\n      <td>5.936417</td>\n      <td>5.940150</td>\n      <td>5.922160</td>\n      <td>-0.005879</td>\n      <td>0.003788</td>\n      <td>0.020617</td>\n      <td>6.775000</td>\n      <td>-0.001609</td>\n      <td>0.010172</td>\n      <td>0.016492</td>\n    </tr>\n  </tbody>\n</table>\n<p>2194 rows × 25 columns</p>\n</div>"
          },
          "metadata": {}
        }
      ]
    },
    {
      "cell_type": "code",
      "metadata": {
        "tags": [],
        "cell_id": "00004-ed92127c-90ba-442a-b658-c59656f3b454",
        "deepnote_to_be_reexecuted": false,
        "source_hash": "f8a320ad",
        "execution_millis": 17,
        "execution_start": 1619802963663,
        "deepnote_cell_type": "code"
      },
      "source": "data = get_all_data()\n# Correlation list\ncorr = data.corr()\n\ncorrelations_s = corr['Y']\nprint('Correlations to Y: \\n' + correlations_s.abs().sort_values()[::\n-1].to_string() +'\\n\\n\\n')",
      "execution_count": null,
      "outputs": [
        {
          "name": "stdout",
          "text": "Correlations to Y: \nY                          1.000000\nBTC Change 1 Day           0.063181\nSENT compound              0.049958\nSENT neg                   0.045703\nSENT neu                   0.039857\nTT n-transactions-total    0.034435\nBS block-size              0.034334\nBTC Change 2 Day           0.028237\nTSLA Close                 0.025652\nSPY Volume                 0.025203\nTSLA Change                0.025035\nSPY Change                 0.024422\nSPY Close                  0.021422\nGLD Volume                 0.016499\nHR hash-rate               0.014982\nMC market-cap              0.014586\nSENT pos                   0.013495\nTSLA Volume                0.013298\nBTC 24h High (USD)         0.011329\nGLD Close                  0.011241\nBTC 24h Low (USD)          0.010593\nBTC Closing Price (USD)    0.010255\nBTC Change 3 Day           0.008889\nGAD bitcoin                0.008124\nBTC diff                   0.007241\nGLD Change                 0.005024\n\n\n\n",
          "output_type": "stream"
        }
      ]
    },
    {
      "cell_type": "code",
      "metadata": {
        "tags": [],
        "cell_id": "00005-85253419-7366-4128-9e0b-15f1df4d5dfe",
        "deepnote_to_be_reexecuted": false,
        "source_hash": "739210a4",
        "execution_millis": 1100,
        "execution_start": 1619802970766,
        "deepnote_cell_type": "code"
      },
      "source": "# Correlation heatmap\nimport seaborn as sns\n\nsns.set(rc={'figure.figsize':(11.7, 8.27)})\nsns.heatmap(corr, xticklabels=corr.columns.values, yticklabels=corr.columns.values)",
      "execution_count": null,
      "outputs": [
        {
          "output_type": "execute_result",
          "execution_count": 77,
          "data": {
            "text/plain": "<AxesSubplot:>"
          },
          "metadata": {}
        },
        {
          "data": {
            "text/plain": "<Figure size 842.4x595.44 with 2 Axes>",
            "image/png": "[encoded data removed]"
          },
          "metadata": {
            "image/png": {
              "width": 768,
              "height": 608
            }
          },
          "output_type": "display_data"
        }
      ]
    },
    {
      "cell_type": "code",
      "metadata": {
        "tags": [],
        "cell_id": "00006-ba3522ff-9e7e-41e6-a48d-91a353122424",
        "deepnote_to_be_reexecuted": false,
        "source_hash": "fd8d31c6",
        "execution_millis": 7,
        "execution_start": 1619731166110,
        "deepnote_cell_type": "code"
      },
      "source": "\"\"\"\n# Randomize, Scale Data and try some models\nfrom sklearn.preprocessing import StandardScaler\nfrom sklearn.model_selection import train_test_split\nfrom sklearn import linear_model\nfrom sklearn.model_selection import RepeatedKFold\nfrom sklearn.model_selection import cross_val_score\nfrom sklearn import tree\nfrom sklearn import svm\nfrom sklearn.ensemble import RandomForestRegressor\nfrom numpy import mean\nfrom numpy import std\n\n\n\n\ndata = data.sample(frac=1, random_state=42)\n\nscaler = StandardScaler()\ny = data[\"Y\"]\nX = data.drop(\"Y\", axis = 1)\nscaled_X = scaler.fit(X)\n\nX_train, X_test, y_train, y_test = train_test_split(X, y, test_size=0.2, random_state=42)\n\nreg = linear_model.LinearRegression()\n\n\ncv = RepeatedKFold(n_splits=10, n_repeats=3, random_state=42)\n\nscores = cross_val_score(reg, X_train, y_train, scoring='neg_mean_absolute_error', cv=cv, n_jobs=-1)\n\nprint('Linear Reg Mean Absolute Error: %.3f (%.3f)' % (mean(scores), std(scores)))\n\nregr_svm = svm.SVR()\n\nscores = cross_val_score(regr_svm, X_train, y_train, scoring='neg_mean_absolute_error', cv=cv, n_jobs=-1)\n\nprint('SVM Mean Absolute Error: %.3f (%.3f)' % (mean(scores), std(scores)))\n\nregr = tree.DecisionTreeRegressor()\n\nscores = cross_val_score(regr, X_train, y_train, scoring='neg_mean_absolute_error', cv=cv, n_jobs=-1)\n\nprint('Decision Tree Regressor Mean Absolute Error: %.3f (%.3f)' % (mean(scores), std(scores)))\n\nregr = RandomForestRegressor()\n\nscores = cross_val_score(regr, X_train, y_train, scoring='neg_mean_absolute_error', cv=cv, n_jobs=-1)\n\nprint('Random Forest Regressor Mean Absolute Error: %.3f (%.3f)' % (mean(scores), std(scores)))\n\n\n\"\"\"",
      "execution_count": null,
      "outputs": [
        {
          "output_type": "execute_result",
          "execution_count": 7,
          "data": {
            "text/plain": "'\\n# Randomize, Scale Data and try some models\\nfrom sklearn.preprocessing import StandardScaler\\nfrom sklearn.model_selection import train_test_split\\nfrom sklearn import linear_model\\nfrom sklearn.model_selection import RepeatedKFold\\nfrom sklearn.model_selection import cross_val_score\\nfrom sklearn import tree\\nfrom sklearn import svm\\nfrom sklearn.ensemble import RandomForestRegressor\\nfrom numpy import mean\\nfrom numpy import std\\n\\n\\n\\n\\ndata = data.sample(frac=1, random_state=42)\\n\\nscaler = StandardScaler()\\ny = data[\"Y\"]\\nX = data.drop(\"Y\", axis = 1)\\nscaled_X = scaler.fit(X)\\n\\nX_train, X_test, y_train, y_test = train_test_split(X, y, test_size=0.2, random_state=42)\\n\\nreg = linear_model.LinearRegression()\\n\\n\\ncv = RepeatedKFold(n_splits=10, n_repeats=3, random_state=42)\\n\\nscores = cross_val_score(reg, X_train, y_train, scoring=\\'neg_mean_absolute_error\\', cv=cv, n_jobs=-1)\\n\\nprint(\\'Linear Reg Mean Absolute Error: %.3f (%.3f)\\' % (mean(scores), std(scores)))\\n\\nregr_svm = svm.SVR()\\n\\nscores = cross_val_score(regr_svm, X_train, y_train, scoring=\\'neg_mean_absolute_error\\', cv=cv, n_jobs=-1)\\n\\nprint(\\'SVM Mean Absolute Error: %.3f (%.3f)\\' % (mean(scores), std(scores)))\\n\\nregr = tree.DecisionTreeRegressor()\\n\\nscores = cross_val_score(regr, X_train, y_train, scoring=\\'neg_mean_absolute_error\\', cv=cv, n_jobs=-1)\\n\\nprint(\\'Decision Tree Regressor Mean Absolute Error: %.3f (%.3f)\\' % (mean(scores), std(scores)))\\n\\nregr = RandomForestRegressor()\\n\\nscores = cross_val_score(regr, X_train, y_train, scoring=\\'neg_mean_absolute_error\\', cv=cv, n_jobs=-1)\\n\\nprint(\\'Random Forest Regressor Mean Absolute Error: %.3f (%.3f)\\' % (mean(scores), std(scores)))\\n\\n\\n'"
          },
          "metadata": {}
        }
      ]
    },
    {
      "cell_type": "code",
      "metadata": {
        "tags": [],
        "cell_id": "00008-64da7285-2484-4f28-be4e-d56c3f43c27a",
        "deepnote_to_be_reexecuted": false,
        "source_hash": "f92a5af",
        "execution_millis": 402629,
        "execution_start": 1619803137649,
        "deepnote_cell_type": "code"
      },
      "source": "# Run simple models\nfrom sklearn import linear_model\nimport numpy as np\nfrom sklearn.model_selection import RepeatedStratifiedKFold\nfrom sklearn.model_selection import cross_val_score\nfrom sklearn.linear_model import LogisticRegression\nfrom sklearn.preprocessing import StandardScaler, MinMaxScaler\nfrom sklearn.neighbors import KNeighborsClassifier\nfrom sklearn.neural_network import MLPClassifier\nfrom sklearn.gaussian_process import GaussianProcessClassifier\nfrom sklearn.tree import DecisionTreeClassifier\nfrom sklearn.ensemble import GradientBoostingClassifier\nfrom sklearn.ensemble import RandomForestClassifier, AdaBoostClassifier, VotingClassifier\nfrom sklearn.linear_model import PassiveAggressiveClassifier, RidgeClassifier\n\nxtrain, ytrain = get_training_data()\nscaler = MinMaxScaler()\nscaler.fit(xtrain)\nxtrain = scaler.transform(xtrain)\nprint(ytrain.value_counts(normalize=True) * 100)\n\ndef test_model(mod, name):\n    cv = RepeatedStratifiedKFold(n_splits=10, n_repeats=10, random_state=42)\n    scores = cross_val_score(mod, X_train, y_train, scoring='accuracy', cv=cv, n_jobs=-1)\n    print(name + ' accuracy: %.3f (%.3f)' % (np.mean(scores), np.std(scores)))\n\n\ntest_model(LogisticRegression(), \"Logistic Regression\")\ntest_model(KNeighborsClassifier(), \"K Neighbors\")\ntest_model(DecisionTreeClassifier(), \"Decision Tree\")\ntest_model(RidgeClassifier(), \"Ridge Classifier\")\ntest_model(PassiveAggressiveClassifier(), \"PA\")\n# test_model(GaussianProcessClassifier(), \"GP\")\ntest_model(GradientBoostingClassifier(), \"Gradient Boosting\")\ntest_model(RandomForestClassifier(), \"Random Forest\")\ntest_model(AdaBoostClassifier(), \"AdaBoost\")\ntest_model(MLPClassifier(), \"MLP\")\n\ntest_model(VotingClassifier(estimators=[('rf', RandomForestClassifier()), ('rr', RidgeClassifier(alpha = 2.5)), ('ab', AdaBoostClassifier())]), \"voting\")",
      "execution_count": null,
      "outputs": [
        {
          "name": "stdout",
          "text": "1    54.557885\n0    45.442115\nName: Y, dtype: float64\nLogistic Regression accuracy: 0.540 (0.021)\nK Neighbors accuracy: 0.506 (0.033)\nDecision Tree accuracy: 0.512 (0.033)\nRidge Classifier accuracy: 0.563 (0.027)\nPA accuracy: 0.512 (0.038)\nGradient Boosting accuracy: 0.550 (0.032)\nRandom Forest accuracy: 0.531 (0.031)\nAdaBoost accuracy: 0.542 (0.031)\nMLP accuracy: 0.511 (0.036)\nvoting accuracy: 0.558 (0.031)\n",
          "output_type": "stream"
        }
      ]
    },
    {
      "cell_type": "code",
      "metadata": {
        "tags": [],
        "cell_id": "00008-f38c6a6e-573f-4901-b549-c18d65cbee07",
        "deepnote_to_be_reexecuted": false,
        "source_hash": "583bd438",
        "execution_start": 1619803661050,
        "execution_millis": 154193,
        "deepnote_cell_type": "code"
      },
      "source": "# Parameter tuning\nfrom sklearn.model_selection import RandomizedSearchCV\n\"\"\"\noptions = dict(alpha=[0.1, 0.5, 1.0, 1.5, 2.5, 5, 10])\nr = RandomizedSearchCV(RidgeClassifier(), options, random_state=42)\nr.fit(xtrain, ytrain)\nprint(r.best_params_)\ntest_model(RidgeClassifier(alpha=2.5), \"ro\")\n\noptions = dict(n_estimators=[int(x) for x in np.linspace(start = 200, stop = 2000, num = 10)], max_features = ['auto', 'sqrt'], max_depth = [int(x) for x in np.linspace(10, 110, num = 11)], min_samples_split = [2, 5, 10], min_samples_leaf = [1, 2, 4], bootstrap = [True, False])\nr = RandomizedSearchCV(RandomForestClassifier(), options, random_state=42, verbose=3)\nr.fit(xtrain, ytrain)\nprint(r.best_params_)\n\"\"\"\ntest_model(RandomForestClassifier(n_estimators= 200, min_samples_split= 10, min_samples_leaf= 2, max_features= 'auto', max_depth= 70, bootstrap= True), \"rf\")",
      "execution_count": null,
      "outputs": [
        {
          "name": "stdout",
          "text": "rf accuracy: 0.540 (0.030)\n",
          "output_type": "stream"
        }
      ]
    },
    {
      "cell_type": "code",
      "metadata": {
        "tags": [],
        "cell_id": "00008-ee9f1a91-8923-4bee-bae7-2387ae06a985",
        "deepnote_to_be_reexecuted": false,
        "source_hash": "dc521a08",
        "execution_start": 1619804196749,
        "execution_millis": 15396,
        "output_cleared": false,
        "deepnote_cell_type": "code"
      },
      "source": "import tensorflow as tf\nfrom tensorflow import keras\nfrom tensorflow.keras import layers\nfrom keras.models import Sequential\nfrom keras.layers import Dense\nfrom keras.layers import Dropout\nfrom sklearn.preprocessing import StandardScaler, MinMaxScaler\nfrom sklearn.model_selection import StratifiedKFold\nfrom sklearn.pipeline import Pipeline\nfrom keras.wrappers.scikit_learn import KerasClassifier\n\nxtrain, ytrain = get_training_data()\n\ndef build():\n    model = Sequential()\n    model.add(Dense(3, input_dim=25, activation='relu'))\n    model.add(Dense(16, input_dim=25, activation='relu'))\n    model.add(Dense(1, activation='sigmoid'))\n    # Compile model\n    model.compile(loss='binary_crossentropy', optimizer='adam', metrics=['accuracy'])\n    return model;\n\nestimator = []\nestimator.append((\"standardize\", StandardScaler()))\nestimator.append((\"nn\", KerasClassifier(build_fn=build, epochs=40, batch_size=32, verbose=1)))\npipe = Pipeline(estimator)\nkfold = StratifiedKFold()\nresults = cross_val_score(pipe, xtrain, ytrain, cv=kfold)\n\nprint(\"Baseline: %.2f%% (%.2f%%)\" % (results.mean()*100, results.std()*100))\n\n#test_model(VotingClassifier(estimators=[('mlp', MLPClassifier()), ('rf', RandomForestClassifier()), ('rr', RidgeClassifier(alpha = 2.5)), ('ab', AdaBoostClassifier())], voting=\"hard\"), \"soft\")\n\n",
      "execution_count": null,
      "outputs": [
        {
          "name": "stdout",
          "text": "Epoch 1/40\n55/55 [==============================] - 0s 1ms/step - loss: 0.7101 - accuracy: 0.4782\nEpoch 2/40\n55/55 [==============================] - 0s 1ms/step - loss: 0.6935 - accuracy: 0.5264\nEpoch 3/40\n55/55 [==============================] - 0s 1ms/step - loss: 0.6910 - accuracy: 0.5398\nEpoch 4/40\n55/55 [==============================] - 0s 1ms/step - loss: 0.6927 - accuracy: 0.5271\nEpoch 5/40\n55/55 [==============================] - 0s 1ms/step - loss: 0.6889 - accuracy: 0.5449\nEpoch 6/40\n55/55 [==============================] - 0s 1ms/step - loss: 0.6890 - accuracy: 0.5468\nEpoch 7/40\n55/55 [==============================] - 0s 1ms/step - loss: 0.6905 - accuracy: 0.5343\nEpoch 8/40\n55/55 [==============================] - 0s 1ms/step - loss: 0.6831 - accuracy: 0.5572\nEpoch 9/40\n55/55 [==============================] - 0s 1ms/step - loss: 0.6914 - accuracy: 0.5320\nEpoch 10/40\n55/55 [==============================] - 0s 1ms/step - loss: 0.6877 - accuracy: 0.5444\nEpoch 11/40\n55/55 [==============================] - 0s 1ms/step - loss: 0.6865 - accuracy: 0.5418\nEpoch 12/40\n55/55 [==============================] - 0s 1ms/step - loss: 0.6895 - accuracy: 0.5249\nEpoch 13/40\n55/55 [==============================] - 0s 1ms/step - loss: 0.6844 - accuracy: 0.5571\nEpoch 14/40\n55/55 [==============================] - 0s 951us/step - loss: 0.6899 - accuracy: 0.5282\nEpoch 15/40\n55/55 [==============================] - 0s 1ms/step - loss: 0.6856 - accuracy: 0.5471\nEpoch 16/40\n55/55 [==============================] - 0s 1ms/step - loss: 0.6834 - accuracy: 0.5403\nEpoch 17/40\n55/55 [==============================] - 0s 1ms/step - loss: 0.6847 - accuracy: 0.5467\nEpoch 18/40\n55/55 [==============================] - 0s 1ms/step - loss: 0.6855 - accuracy: 0.5348\nEpoch 19/40\n55/55 [==============================] - 0s 1ms/step - loss: 0.6888 - accuracy: 0.5332\nEpoch 20/40\n55/55 [==============================] - 0s 1ms/step - loss: 0.6861 - accuracy: 0.5464\nEpoch 21/40\n55/55 [==============================] - 0s 1ms/step - loss: 0.6855 - accuracy: 0.5407\nEpoch 22/40\n55/55 [==============================] - 0s 960us/step - loss: 0.6845 - accuracy: 0.5360\nEpoch 23/40\n55/55 [==============================] - 0s 1ms/step - loss: 0.6873 - accuracy: 0.5405\nEpoch 24/40\n55/55 [==============================] - 0s 1ms/step - loss: 0.6840 - accuracy: 0.5473\nEpoch 25/40\n55/55 [==============================] - 0s 1ms/step - loss: 0.6790 - accuracy: 0.5583\nEpoch 26/40\n55/55 [==============================] - 0s 996us/step - loss: 0.6856 - accuracy: 0.5329\nEpoch 27/40\n55/55 [==============================] - 0s 1ms/step - loss: 0.6812 - accuracy: 0.5468\nEpoch 28/40\n55/55 [==============================] - 0s 1ms/step - loss: 0.6817 - accuracy: 0.5546\nEpoch 29/40\n55/55 [==============================] - 0s 1ms/step - loss: 0.6819 - accuracy: 0.5658\nEpoch 30/40\n55/55 [==============================] - 0s 1ms/step - loss: 0.6817 - accuracy: 0.5412\nEpoch 31/40\n55/55 [==============================] - 0s 1ms/step - loss: 0.6832 - accuracy: 0.5468\nEpoch 32/40\n55/55 [==============================] - 0s 1ms/step - loss: 0.6760 - accuracy: 0.5589\nEpoch 33/40\n55/55 [==============================] - 0s 1ms/step - loss: 0.6826 - accuracy: 0.5435\nEpoch 34/40\n55/55 [==============================] - 0s 1ms/step - loss: 0.6733 - accuracy: 0.5683\nEpoch 35/40\n55/55 [==============================] - 0s 1ms/step - loss: 0.6844 - accuracy: 0.5424\nEpoch 36/40\n55/55 [==============================] - 0s 1ms/step - loss: 0.6786 - accuracy: 0.5621\nEpoch 37/40\n55/55 [==============================] - 0s 1ms/step - loss: 0.6789 - accuracy: 0.5453\nEpoch 38/40\n55/55 [==============================] - 0s 1ms/step - loss: 0.6760 - accuracy: 0.5702\nEpoch 39/40\n55/55 [==============================] - 0s 990us/step - loss: 0.6701 - accuracy: 0.5814\nEpoch 40/40\n55/55 [==============================] - 0s 1ms/step - loss: 0.6773 - accuracy: 0.5646\n14/14 [==============================] - 0s 1ms/step - loss: 0.6920 - accuracy: 0.5467\nEpoch 1/40\n55/55 [==============================] - 0s 1ms/step - loss: 0.7096 - accuracy: 0.4934\nEpoch 2/40\n55/55 [==============================] - 0s 958us/step - loss: 0.6970 - accuracy: 0.5054\nEpoch 3/40\n55/55 [==============================] - 0s 998us/step - loss: 0.6933 - accuracy: 0.5282\nEpoch 4/40\n55/55 [==============================] - 0s 1ms/step - loss: 0.6873 - accuracy: 0.5417\nEpoch 5/40\n55/55 [==============================] - 0s 1ms/step - loss: 0.6881 - accuracy: 0.5413\nEpoch 6/40\n55/55 [==============================] - 0s 1ms/step - loss: 0.6877 - accuracy: 0.5477\nEpoch 7/40\n55/55 [==============================] - 0s 1ms/step - loss: 0.6845 - accuracy: 0.5460\nEpoch 8/40\n55/55 [==============================] - 0s 1ms/step - loss: 0.6854 - accuracy: 0.5588\nEpoch 9/40\n55/55 [==============================] - 0s 1ms/step - loss: 0.6800 - accuracy: 0.5706\nEpoch 10/40\n55/55 [==============================] - 0s 1ms/step - loss: 0.6831 - accuracy: 0.5349\nEpoch 11/40\n55/55 [==============================] - 0s 1ms/step - loss: 0.6823 - accuracy: 0.5538\nEpoch 12/40\n55/55 [==============================] - 0s 1ms/step - loss: 0.6870 - accuracy: 0.5367\nEpoch 13/40\n55/55 [==============================] - 0s 1ms/step - loss: 0.6815 - accuracy: 0.5437\nEpoch 14/40\n55/55 [==============================] - 0s 959us/step - loss: 0.6859 - accuracy: 0.5430\nEpoch 15/40\n55/55 [==============================] - 0s 1ms/step - loss: 0.6823 - accuracy: 0.5561\nEpoch 16/40\n55/55 [==============================] - 0s 1ms/step - loss: 0.6783 - accuracy: 0.5521\nEpoch 17/40\n55/55 [==============================] - 0s 1ms/step - loss: 0.6755 - accuracy: 0.5617\nEpoch 18/40\n55/55 [==============================] - 0s 1ms/step - loss: 0.6790 - accuracy: 0.5517\nEpoch 19/40\n55/55 [==============================] - 0s 1ms/step - loss: 0.6806 - accuracy: 0.5504\nEpoch 20/40\n55/55 [==============================] - 0s 1ms/step - loss: 0.6766 - accuracy: 0.5616\nEpoch 21/40\n55/55 [==============================] - 0s 1ms/step - loss: 0.6805 - accuracy: 0.5383\nEpoch 22/40\n55/55 [==============================] - 0s 1ms/step - loss: 0.6752 - accuracy: 0.5639\nEpoch 23/40\n55/55 [==============================] - 0s 1ms/step - loss: 0.6830 - accuracy: 0.5370\nEpoch 24/40\n55/55 [==============================] - 0s 1ms/step - loss: 0.6696 - accuracy: 0.5783\nEpoch 25/40\n55/55 [==============================] - 0s 1ms/step - loss: 0.6743 - accuracy: 0.5636\nEpoch 26/40\n55/55 [==============================] - 0s 1ms/step - loss: 0.6694 - accuracy: 0.5766\nEpoch 27/40\n55/55 [==============================] - 0s 1ms/step - loss: 0.6752 - accuracy: 0.5424\nEpoch 28/40\n55/55 [==============================] - 0s 1ms/step - loss: 0.6740 - accuracy: 0.5625\nEpoch 29/40\n55/55 [==============================] - 0s 1ms/step - loss: 0.6773 - accuracy: 0.5490\nEpoch 30/40\n55/55 [==============================] - 0s 1ms/step - loss: 0.6734 - accuracy: 0.5670\nEpoch 31/40\n55/55 [==============================] - 0s 1ms/step - loss: 0.6795 - accuracy: 0.5546\nEpoch 32/40\n55/55 [==============================] - 0s 1ms/step - loss: 0.6745 - accuracy: 0.5773\nEpoch 33/40\n55/55 [==============================] - 0s 1ms/step - loss: 0.6763 - accuracy: 0.5696\nEpoch 34/40\n55/55 [==============================] - 0s 1ms/step - loss: 0.6718 - accuracy: 0.5708\nEpoch 35/40\n55/55 [==============================] - 0s 1ms/step - loss: 0.6709 - accuracy: 0.5582\nEpoch 36/40\n55/55 [==============================] - 0s 1ms/step - loss: 0.6736 - accuracy: 0.5580\nEpoch 37/40\n55/55 [==============================] - 0s 1ms/step - loss: 0.6752 - accuracy: 0.5742\nEpoch 38/40\n55/55 [==============================] - 0s 1ms/step - loss: 0.6740 - accuracy: 0.5470\nEpoch 39/40\n55/55 [==============================] - 0s 960us/step - loss: 0.6725 - accuracy: 0.5636\nEpoch 40/40\n55/55 [==============================] - 0s 1ms/step - loss: 0.6668 - accuracy: 0.5694\n14/14 [==============================] - 0s 851us/step - loss: 0.7033 - accuracy: 0.5034\nEpoch 1/40\n55/55 [==============================] - 0s 1ms/step - loss: 0.6975 - accuracy: 0.5192\nEpoch 2/40\n55/55 [==============================] - 0s 956us/step - loss: 0.6840 - accuracy: 0.5601\nEpoch 3/40\n55/55 [==============================] - 0s 1ms/step - loss: 0.6939 - accuracy: 0.5172\nEpoch 4/40\n55/55 [==============================] - 0s 1ms/step - loss: 0.6882 - accuracy: 0.5474\nEpoch 5/40\n55/55 [==============================] - 0s 1ms/step - loss: 0.6905 - accuracy: 0.5299\nEpoch 6/40\n55/55 [==============================] - 0s 995us/step - loss: 0.6830 - accuracy: 0.5699\nEpoch 7/40\n55/55 [==============================] - 0s 1ms/step - loss: 0.6894 - accuracy: 0.5278\nEpoch 8/40\n55/55 [==============================] - 0s 1ms/step - loss: 0.6869 - accuracy: 0.5480\nEpoch 9/40\n55/55 [==============================] - 0s 1ms/step - loss: 0.6846 - accuracy: 0.5588\nEpoch 10/40\n55/55 [==============================] - 0s 1ms/step - loss: 0.6837 - accuracy: 0.5749\nEpoch 11/40\n55/55 [==============================] - 0s 993us/step - loss: 0.6899 - accuracy: 0.5439\nEpoch 12/40\n55/55 [==============================] - 0s 1ms/step - loss: 0.6880 - accuracy: 0.5442\nEpoch 13/40\n55/55 [==============================] - 0s 1ms/step - loss: 0.6877 - accuracy: 0.5378\nEpoch 14/40\n55/55 [==============================] - 0s 1ms/step - loss: 0.6894 - accuracy: 0.5431\nEpoch 15/40\n55/55 [==============================] - 0s 1ms/step - loss: 0.6818 - accuracy: 0.5638\nEpoch 16/40\n55/55 [==============================] - 0s 1ms/step - loss: 0.6859 - accuracy: 0.5549\nEpoch 17/40\n55/55 [==============================] - 0s 1ms/step - loss: 0.6858 - accuracy: 0.5535\nEpoch 18/40\n55/55 [==============================] - 0s 1ms/step - loss: 0.6765 - accuracy: 0.5864\nEpoch 19/40\n55/55 [==============================] - 0s 1000us/step - loss: 0.6860 - accuracy: 0.5424\nEpoch 20/40\n55/55 [==============================] - 0s 1ms/step - loss: 0.6815 - accuracy: 0.5552\nEpoch 21/40\n55/55 [==============================] - 0s 946us/step - loss: 0.6803 - accuracy: 0.5736\nEpoch 22/40\n55/55 [==============================] - 0s 928us/step - loss: 0.6818 - accuracy: 0.5594\nEpoch 23/40\n55/55 [==============================] - 0s 1ms/step - loss: 0.6804 - accuracy: 0.5514\nEpoch 24/40\n55/55 [==============================] - 0s 1ms/step - loss: 0.6792 - accuracy: 0.5664\nEpoch 25/40\n55/55 [==============================] - 0s 1ms/step - loss: 0.6816 - accuracy: 0.5631\nEpoch 26/40\n55/55 [==============================] - 0s 980us/step - loss: 0.6843 - accuracy: 0.5614\nEpoch 27/40\n55/55 [==============================] - 0s 958us/step - loss: 0.6814 - accuracy: 0.5505\nEpoch 28/40\n55/55 [==============================] - 0s 1ms/step - loss: 0.6806 - accuracy: 0.5569\nEpoch 29/40\n55/55 [==============================] - 0s 1ms/step - loss: 0.6775 - accuracy: 0.5672\nEpoch 30/40\n55/55 [==============================] - 0s 1ms/step - loss: 0.6833 - accuracy: 0.5427\nEpoch 31/40\n55/55 [==============================] - 0s 1ms/step - loss: 0.6808 - accuracy: 0.5551\nEpoch 32/40\n55/55 [==============================] - 0s 1ms/step - loss: 0.6777 - accuracy: 0.5662\nEpoch 33/40\n55/55 [==============================] - 0s 1ms/step - loss: 0.6811 - accuracy: 0.5536\nEpoch 34/40\n55/55 [==============================] - 0s 1ms/step - loss: 0.6796 - accuracy: 0.5504\nEpoch 35/40\n55/55 [==============================] - 0s 999us/step - loss: 0.6774 - accuracy: 0.5154\nEpoch 36/40\n55/55 [==============================] - 0s 1ms/step - loss: 0.6768 - accuracy: 0.5795\nEpoch 37/40\n55/55 [==============================] - 0s 1ms/step - loss: 0.6735 - accuracy: 0.5640\nEpoch 38/40\n55/55 [==============================] - 0s 1ms/step - loss: 0.6743 - accuracy: 0.5630\nEpoch 39/40\n55/55 [==============================] - 0s 1ms/step - loss: 0.6734 - accuracy: 0.5622\nEpoch 40/40\n55/55 [==============================] - 0s 1ms/step - loss: 0.6791 - accuracy: 0.5522\n14/14 [==============================] - 0s 898us/step - loss: 0.6942 - accuracy: 0.5421\nEpoch 1/40\n55/55 [==============================] - 0s 1ms/step - loss: 0.6982 - accuracy: 0.5167\nEpoch 2/40\n55/55 [==============================] - 0s 993us/step - loss: 0.6917 - accuracy: 0.5508\nEpoch 3/40\n55/55 [==============================] - 0s 1ms/step - loss: 0.6828 - accuracy: 0.5505\nEpoch 4/40\n55/55 [==============================] - 0s 1ms/step - loss: 0.6840 - accuracy: 0.5531\nEpoch 5/40\n55/55 [==============================] - 0s 1ms/step - loss: 0.6832 - accuracy: 0.5465\nEpoch 6/40\n55/55 [==============================] - 0s 1ms/step - loss: 0.6816 - accuracy: 0.5609\nEpoch 7/40\n55/55 [==============================] - 0s 1ms/step - loss: 0.6820 - accuracy: 0.5655\nEpoch 8/40\n55/55 [==============================] - 0s 1ms/step - loss: 0.6832 - accuracy: 0.5544\nEpoch 9/40\n55/55 [==============================] - 0s 1ms/step - loss: 0.6849 - accuracy: 0.5506\nEpoch 10/40\n55/55 [==============================] - 0s 1ms/step - loss: 0.6752 - accuracy: 0.5830\nEpoch 11/40\n55/55 [==============================] - 0s 1ms/step - loss: 0.6801 - accuracy: 0.5557\nEpoch 12/40\n55/55 [==============================] - 0s 1ms/step - loss: 0.6764 - accuracy: 0.5732\nEpoch 13/40\n55/55 [==============================] - 0s 1ms/step - loss: 0.6809 - accuracy: 0.5561\nEpoch 14/40\n55/55 [==============================] - 0s 999us/step - loss: 0.6804 - accuracy: 0.5566\nEpoch 15/40\n55/55 [==============================] - 0s 1ms/step - loss: 0.6750 - accuracy: 0.5658\nEpoch 16/40\n55/55 [==============================] - 0s 1ms/step - loss: 0.6736 - accuracy: 0.5609\nEpoch 17/40\n55/55 [==============================] - 0s 1ms/step - loss: 0.6767 - accuracy: 0.5646\nEpoch 18/40\n55/55 [==============================] - 0s 1ms/step - loss: 0.6758 - accuracy: 0.5658\nEpoch 19/40\n55/55 [==============================] - 0s 1ms/step - loss: 0.6679 - accuracy: 0.5733\nEpoch 20/40\n55/55 [==============================] - 0s 1ms/step - loss: 0.6781 - accuracy: 0.5647\nEpoch 21/40\n55/55 [==============================] - 0s 1ms/step - loss: 0.6724 - accuracy: 0.5686\nEpoch 22/40\n55/55 [==============================] - 0s 1ms/step - loss: 0.6684 - accuracy: 0.5959\nEpoch 23/40\n55/55 [==============================] - 0s 1ms/step - loss: 0.6799 - accuracy: 0.5663\nEpoch 24/40\n55/55 [==============================] - 0s 1ms/step - loss: 0.6729 - accuracy: 0.5901\nEpoch 25/40\n55/55 [==============================] - 0s 1ms/step - loss: 0.6702 - accuracy: 0.5860\nEpoch 26/40\n55/55 [==============================] - 0s 1ms/step - loss: 0.6719 - accuracy: 0.5865\nEpoch 27/40\n55/55 [==============================] - 0s 1ms/step - loss: 0.6705 - accuracy: 0.5806\nEpoch 28/40\n55/55 [==============================] - 0s 1ms/step - loss: 0.6746 - accuracy: 0.5735\nEpoch 29/40\n55/55 [==============================] - 0s 1ms/step - loss: 0.6748 - accuracy: 0.5855\nEpoch 30/40\n55/55 [==============================] - 0s 1ms/step - loss: 0.6700 - accuracy: 0.5709\nEpoch 31/40\n55/55 [==============================] - 0s 1ms/step - loss: 0.6648 - accuracy: 0.5935\nEpoch 32/40\n55/55 [==============================] - 0s 1ms/step - loss: 0.6722 - accuracy: 0.5794\nEpoch 33/40\n55/55 [==============================] - 0s 1ms/step - loss: 0.6628 - accuracy: 0.6026\nEpoch 34/40\n55/55 [==============================] - 0s 1ms/step - loss: 0.6753 - accuracy: 0.5830\nEpoch 35/40\n55/55 [==============================] - 0s 982us/step - loss: 0.6727 - accuracy: 0.5865\nEpoch 36/40\n55/55 [==============================] - 0s 1ms/step - loss: 0.6663 - accuracy: 0.5954\nEpoch 37/40\n55/55 [==============================] - 0s 1ms/step - loss: 0.6691 - accuracy: 0.5823\nEpoch 38/40\n55/55 [==============================] - 0s 998us/step - loss: 0.6750 - accuracy: 0.5889\nEpoch 39/40\n55/55 [==============================] - 0s 996us/step - loss: 0.6640 - accuracy: 0.5821\nEpoch 40/40\n55/55 [==============================] - 0s 1ms/step - loss: 0.6669 - accuracy: 0.5866\n14/14 [==============================] - 0s 909us/step - loss: 0.6899 - accuracy: 0.5171\nEpoch 1/40\n55/55 [==============================] - 0s 1ms/step - loss: 0.6958 - accuracy: 0.5178\nEpoch 2/40\n55/55 [==============================] - 0s 1ms/step - loss: 0.6937 - accuracy: 0.5321\nEpoch 3/40\n55/55 [==============================] - 0s 1ms/step - loss: 0.6921 - accuracy: 0.5558\nEpoch 4/40\n55/55 [==============================] - 0s 1ms/step - loss: 0.6885 - accuracy: 0.5519\nEpoch 5/40\n55/55 [==============================] - 0s 1ms/step - loss: 0.6875 - accuracy: 0.5473\nEpoch 6/40\n55/55 [==============================] - 0s 1ms/step - loss: 0.6883 - accuracy: 0.5484\nEpoch 7/40\n55/55 [==============================] - 0s 1ms/step - loss: 0.6838 - accuracy: 0.5669\nEpoch 8/40\n55/55 [==============================] - 0s 2ms/step - loss: 0.6879 - accuracy: 0.5413\nEpoch 9/40\n55/55 [==============================] - 0s 2ms/step - loss: 0.6877 - accuracy: 0.5454\nEpoch 10/40\n55/55 [==============================] - 0s 1ms/step - loss: 0.6881 - accuracy: 0.5471\nEpoch 11/40\n55/55 [==============================] - 0s 1ms/step - loss: 0.6903 - accuracy: 0.5311\nEpoch 12/40\n55/55 [==============================] - 0s 1ms/step - loss: 0.6854 - accuracy: 0.5553\nEpoch 13/40\n55/55 [==============================] - 0s 2ms/step - loss: 0.6834 - accuracy: 0.5562\nEpoch 14/40\n55/55 [==============================] - 0s 1ms/step - loss: 0.6866 - accuracy: 0.5488\nEpoch 15/40\n55/55 [==============================] - 0s 1ms/step - loss: 0.6885 - accuracy: 0.5344\nEpoch 16/40\n55/55 [==============================] - 0s 1ms/step - loss: 0.6877 - accuracy: 0.5397\nEpoch 17/40\n55/55 [==============================] - 0s 1ms/step - loss: 0.6851 - accuracy: 0.5519\nEpoch 18/40\n55/55 [==============================] - 0s 1ms/step - loss: 0.6856 - accuracy: 0.5537\nEpoch 19/40\n55/55 [==============================] - 0s 1ms/step - loss: 0.6853 - accuracy: 0.5434\nEpoch 20/40\n55/55 [==============================] - 0s 1ms/step - loss: 0.6874 - accuracy: 0.5400\nEpoch 21/40\n55/55 [==============================] - 0s 1ms/step - loss: 0.6864 - accuracy: 0.5463\nEpoch 22/40\n55/55 [==============================] - 0s 1ms/step - loss: 0.6867 - accuracy: 0.5469\nEpoch 23/40\n55/55 [==============================] - 0s 1ms/step - loss: 0.6861 - accuracy: 0.5423\nEpoch 24/40\n55/55 [==============================] - 0s 1ms/step - loss: 0.6862 - accuracy: 0.5456\nEpoch 25/40\n55/55 [==============================] - 0s 1ms/step - loss: 0.6846 - accuracy: 0.5528\nEpoch 26/40\n55/55 [==============================] - 0s 1ms/step - loss: 0.6828 - accuracy: 0.5512\nEpoch 27/40\n55/55 [==============================] - 0s 1ms/step - loss: 0.6888 - accuracy: 0.5301\nEpoch 28/40\n55/55 [==============================] - 0s 1ms/step - loss: 0.6808 - accuracy: 0.5558\nEpoch 29/40\n55/55 [==============================] - 0s 1ms/step - loss: 0.6822 - accuracy: 0.5665\nEpoch 30/40\n55/55 [==============================] - 0s 1ms/step - loss: 0.6851 - accuracy: 0.5566\nEpoch 31/40\n55/55 [==============================] - 0s 1ms/step - loss: 0.6858 - accuracy: 0.5420\nEpoch 32/40\n55/55 [==============================] - 0s 1ms/step - loss: 0.6816 - accuracy: 0.5613\nEpoch 33/40\n55/55 [==============================] - 0s 1ms/step - loss: 0.6810 - accuracy: 0.5494\nEpoch 34/40\n55/55 [==============================] - 0s 1ms/step - loss: 0.6831 - accuracy: 0.5540\nEpoch 35/40\n55/55 [==============================] - 0s 998us/step - loss: 0.6826 - accuracy: 0.5574\nEpoch 36/40\n55/55 [==============================] - 0s 1ms/step - loss: 0.6833 - accuracy: 0.5472\nEpoch 37/40\n55/55 [==============================] - 0s 1ms/step - loss: 0.6855 - accuracy: 0.5467\nEpoch 38/40\n55/55 [==============================] - 0s 1ms/step - loss: 0.6788 - accuracy: 0.5684\nEpoch 39/40\n55/55 [==============================] - 0s 1ms/step - loss: 0.6794 - accuracy: 0.5766\nEpoch 40/40\n55/55 [==============================] - 0s 1ms/step - loss: 0.6766 - accuracy: 0.5762\n14/14 [==============================] - 0s 884us/step - loss: 0.6932 - accuracy: 0.5183\nBaseline: 52.55% (1.64%)\n",
          "output_type": "stream"
        }
      ]
    },
    {
      "cell_type": "markdown",
      "source": "<a style='text-decoration:none;line-height:16px;display:flex;color:#5B5B62;padding:10px;justify-content:end;' href='https://deepnote.com?utm_source=created-in-deepnote-cell&projectId=1a209e17-199c-4870-98fa-a9ef0ffeed4c' target=\"_blank\">\n<img alt='Created in deepnote.com' style='display:inline;max-height:16px;margin:0px;margin-right:7.5px;' src='data:image/svg+xml;base64,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' > </img>\nCreated in <span style='font-weight:600;margin-left:4px;'>Deepnote</span></a>",
      "metadata": {
        "tags": [],
        "created_in_deepnote_cell": true,
        "deepnote_cell_type": "markdown"
      }
    }
  ],
  "nbformat": 4,
  "nbformat_minor": 2,
  "metadata": {
    "orig_nbformat": 2,
    "deepnote": {
      "is_reactive": false
    },
    "deepnote_notebook_id": "62ec2aad-9005-4bda-861b-3f135519d929",
    "deepnote_execution_queue": []
  }
}